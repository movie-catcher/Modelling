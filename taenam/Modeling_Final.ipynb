{
 "cells": [
  {
   "cell_type": "markdown",
   "metadata": {},
   "source": [
    "# Modeling\n",
    "- viral features : 'youtube_view_mean', 'comment_count', 'abs_mean_square','actor_power'\n",
    "\n",
    "> Modeling\n",
    "1. viral features 제외한 피쳐들로 모델링, 예측 후 잔차 추출\n",
    "2. 잔차를 종속변수로 사용해서 viral features로 예측\n",
    "3. scaling 해서 index 생성"
   ]
  },
  {
   "cell_type": "markdown",
   "metadata": {},
   "source": [
    "# Viral Index"
   ]
  },
  {
   "cell_type": "markdown",
   "metadata": {},
   "source": [
    "## import"
   ]
  },
  {
   "cell_type": "code",
   "execution_count": 37,
   "metadata": {
    "ExecuteTime": {
     "end_time": "2021-12-06T05:19:59.873027Z",
     "start_time": "2021-12-06T05:19:59.864762Z"
    }
   },
   "outputs": [],
   "source": [
    "import pandas as pd\n",
    "import numpy as np\n",
    "import matplotlib.pyplot as plt\n",
    "\n",
    "import seaborn as sns\n",
    "\n",
    "from sklearn.linear_model import ElasticNet, ElasticNetCV # 두 개 구분\n",
    "from sklearn.ensemble import RandomForestRegressor\n",
    "from sklearn.model_selection import KFold, cross_val_score, train_test_split\n",
    "from sklearn.metrics import mean_squared_error, r2_score, mean_absolute_error \n",
    "from sklearn import preprocessing\n",
    "import xgboost as xgb\n",
    "import lightgbm as lgb\n",
    "\n",
    "%matplotlib inline\n",
    "plt.rcParams['font.family'] ='Malgun Gothic'\n",
    "plt.rcParams['axes.unicode_minus'] = False\n",
    "\n",
    "from pprint import pprint\n",
    "import warnings\n",
    "warnings.filterwarnings('ignore')"
   ]
  },
  {
   "cell_type": "markdown",
   "metadata": {},
   "source": [
    "## Data"
   ]
  },
  {
   "cell_type": "code",
   "execution_count": 2,
   "metadata": {
    "ExecuteTime": {
     "end_time": "2021-12-06T04:56:58.322770Z",
     "start_time": "2021-12-06T04:56:58.196041Z"
    }
   },
   "outputs": [],
   "source": [
    "data = pd.read_excel('data/Movie_Data_Final_transformation.xlsx').iloc[:,1:]\n",
    "\n",
    "# modeling에 포함되지 않는 columns 제거\n",
    "colums_rm = ['movie_name','release', 'take', 'code', 'kind', 'scale', 'actor']\n",
    "def remove_columns(movie_df):\n",
    "    col = list(movie_df.columns)\n",
    "    for i in colums_rm:\n",
    "        col.remove(i)\n",
    "    movie_df = movie_df.loc[:, col]\n",
    "    \n",
    "    return movie_df\n",
    "\n",
    "# 영화명 날림\n",
    "data = remove_columns(data)"
   ]
  },
  {
   "cell_type": "code",
   "execution_count": 3,
   "metadata": {
    "ExecuteTime": {
     "end_time": "2021-12-06T04:56:58.555890Z",
     "start_time": "2021-12-06T04:56:58.550883Z"
    },
    "scrolled": true
   },
   "outputs": [],
   "source": [
    "data = data[['audience', 'log_youtube_view_mean', 'sqrt_comment_count','sqrt_abs_mean_score',\n",
    "             'sqrt_actor_power', 'nation', 'distribution_company', 'genre', 'running_time','age']]"
   ]
  },
  {
   "cell_type": "code",
   "execution_count": 4,
   "metadata": {
    "ExecuteTime": {
     "end_time": "2021-12-06T04:56:59.005549Z",
     "start_time": "2021-12-06T04:56:58.964929Z"
    },
    "scrolled": true
   },
   "outputs": [],
   "source": [
    "data = pd.get_dummies(data = data, columns = ['nation'], prefix = 'nation')\n",
    "data = pd.get_dummies(data = data, columns = ['distribution_company'], prefix = 'distribution_company')\n",
    "data = pd.get_dummies(data = data, columns = ['genre'], prefix = 'genre')\n",
    "data = pd.get_dummies(data = data, columns = ['age'], prefix = 'age')\n",
    "\n",
    "x = data.iloc[:,1:] \n",
    "y = np.log(data.iloc[:,0]) # 관객수 log transformation\n",
    "\n",
    "\n",
    "x_viral = x.iloc[:,:4] # viral 관련 Feature\n",
    "x_movie = x.iloc[:,4:] # movie 관련 Feature"
   ]
  },
  {
   "cell_type": "markdown",
   "metadata": {},
   "source": [
    "## modeling"
   ]
  },
  {
   "cell_type": "markdown",
   "metadata": {},
   "source": [
    "### 1st Model : about movie Features"
   ]
  },
  {
   "cell_type": "code",
   "execution_count": 5,
   "metadata": {
    "ExecuteTime": {
     "end_time": "2021-12-06T04:57:00.385482Z",
     "start_time": "2021-12-06T04:57:00.372448Z"
    }
   },
   "outputs": [],
   "source": [
    "# Test set, Train set 분리\n",
    "\n",
    "x_movie_train, x_movie_test, y_movie_train, y_movie_test = train_test_split(x_movie, y, test_size=0.2, random_state=0)"
   ]
  },
  {
   "cell_type": "markdown",
   "metadata": {},
   "source": [
    "#### hyperparameter"
   ]
  },
  {
   "cell_type": "code",
   "execution_count": 6,
   "metadata": {
    "ExecuteTime": {
     "end_time": "2021-12-06T04:57:01.251268Z",
     "start_time": "2021-12-06T04:57:01.241536Z"
    },
    "scrolled": true
   },
   "outputs": [
    {
     "name": "stdout",
     "output_type": "stream",
     "text": [
      "{'bootstrap': [True, False],\n",
      " 'max_depth': [10, 20, 30, 40, 50, 60, 70, 80, 90, 100, 110, None],\n",
      " 'max_features': ['auto', 'sqrt'],\n",
      " 'min_samples_leaf': [1, 2, 4],\n",
      " 'min_samples_split': [2, 5, 10],\n",
      " 'n_estimators': [100,\n",
      "                  200,\n",
      "                  300,\n",
      "                  400,\n",
      "                  500,\n",
      "                  600,\n",
      "                  700,\n",
      "                  800,\n",
      "                  900,\n",
      "                  1000,\n",
      "                  1100,\n",
      "                  1200,\n",
      "                  1300,\n",
      "                  1400,\n",
      "                  1500,\n",
      "                  1600,\n",
      "                  1700,\n",
      "                  1800,\n",
      "                  1900,\n",
      "                  2000]}\n"
     ]
    }
   ],
   "source": [
    "from sklearn.model_selection import RandomizedSearchCV\n",
    "\n",
    "# Number of trees in random forest\n",
    "n_estimators = [int(x) for x in np.linspace(start = 100, stop = 2000, num = 20)]\n",
    "# Number of features to consider at every split\n",
    "max_features = ['auto', 'sqrt']\n",
    "# Maximum number of levels in tree\n",
    "max_depth = [int(x) for x in np.linspace(10, 110, num = 11)]\n",
    "max_depth.append(None)\n",
    "# Minimum number of samples required to split a node\n",
    "min_samples_split = [2, 5, 10]\n",
    "# Minimum number of samples required at each leaf node\n",
    "min_samples_leaf = [1, 2, 4]\n",
    "# Method of selecting samples for training each tree\n",
    "bootstrap = [True, False]\n",
    "# Create the random grid\n",
    "random_grid = {'n_estimators': n_estimators,\n",
    "               'max_features': max_features,\n",
    "               'max_depth': max_depth,\n",
    "               'min_samples_split': min_samples_split,\n",
    "               'min_samples_leaf': min_samples_leaf,\n",
    "               'bootstrap': bootstrap}\n",
    "\n",
    "pprint(random_grid)"
   ]
  },
  {
   "cell_type": "code",
   "execution_count": 8,
   "metadata": {
    "ExecuteTime": {
     "end_time": "2021-12-06T04:59:10.633634Z",
     "start_time": "2021-12-06T04:57:24.954547Z"
    },
    "scrolled": true
   },
   "outputs": [
    {
     "name": "stdout",
     "output_type": "stream",
     "text": [
      "Fitting 3 folds for each of 100 candidates, totalling 300 fits\n"
     ]
    },
    {
     "name": "stderr",
     "output_type": "stream",
     "text": [
      "[Parallel(n_jobs=-1)]: Using backend LokyBackend with 8 concurrent workers.\n",
      "[Parallel(n_jobs=-1)]: Done  25 tasks      | elapsed:   12.3s\n",
      "[Parallel(n_jobs=-1)]: Done 146 tasks      | elapsed:   48.8s\n",
      "[Parallel(n_jobs=-1)]: Done 300 out of 300 | elapsed:  1.7min finished\n"
     ]
    },
    {
     "data": {
      "text/plain": [
       "RandomizedSearchCV(cv=3, estimator=RandomForestRegressor(random_state=0),\n",
       "                   n_iter=100, n_jobs=-1,\n",
       "                   param_distributions={'bootstrap': [True, False],\n",
       "                                        'max_depth': [10, 20, 30, 40, 50, 60,\n",
       "                                                      70, 80, 90, 100, 110,\n",
       "                                                      None],\n",
       "                                        'max_features': ['auto', 'sqrt'],\n",
       "                                        'min_samples_leaf': [1, 2, 4],\n",
       "                                        'min_samples_split': [2, 5, 10],\n",
       "                                        'n_estimators': [100, 200, 300, 400,\n",
       "                                                         500, 600, 700, 800,\n",
       "                                                         900, 1000, 1100, 1200,\n",
       "                                                         1300, 1400, 1500, 1600,\n",
       "                                                         1700, 1800, 1900,\n",
       "                                                         2000]},\n",
       "                   random_state=42, verbose=2)"
      ]
     },
     "execution_count": 8,
     "metadata": {},
     "output_type": "execute_result"
    }
   ],
   "source": [
    "# Use the random grid to search for best hyperparameters\n",
    "# First create the base model to tune\n",
    "# rf = RandomForestRegressor()\n",
    "# Random search of parameters, using 3 fold cross validation, \n",
    "# search across 100 different combinations, and use all available cores\n",
    "randomforest = RandomForestRegressor(random_state=0)\n",
    "\n",
    "rf_random = RandomizedSearchCV(estimator = randomforest,\n",
    "                               param_distributions = random_grid,\n",
    "                               n_iter = 100,\n",
    "                               cv = 3,\n",
    "                               verbose=2,\n",
    "                               random_state=42,\n",
    "                               n_jobs = -1)\n",
    "\n",
    "# Fit the random search model\n",
    "rf_random.fit(x_movie_train, y_movie_train)"
   ]
  },
  {
   "cell_type": "code",
   "execution_count": 9,
   "metadata": {
    "ExecuteTime": {
     "end_time": "2021-12-06T04:59:23.720840Z",
     "start_time": "2021-12-06T04:59:23.715838Z"
    }
   },
   "outputs": [
    {
     "data": {
      "text/plain": [
       "{'n_estimators': 800,\n",
       " 'min_samples_split': 2,\n",
       " 'min_samples_leaf': 4,\n",
       " 'max_features': 'sqrt',\n",
       " 'max_depth': 30,\n",
       " 'bootstrap': True}"
      ]
     },
     "execution_count": 9,
     "metadata": {},
     "output_type": "execute_result"
    }
   ],
   "source": [
    "# best match 출력\n",
    "\n",
    "rf_random.best_params_"
   ]
  },
  {
   "cell_type": "code",
   "execution_count": 11,
   "metadata": {
    "ExecuteTime": {
     "end_time": "2021-12-06T04:59:48.963167Z",
     "start_time": "2021-12-06T04:59:48.901171Z"
    }
   },
   "outputs": [
    {
     "name": "stdout",
     "output_type": "stream",
     "text": [
      "MSE : 0.84 RMSE : 0.92 R2 : 0.11\n"
     ]
    }
   ],
   "source": [
    "# Random CV 결과\n",
    "\n",
    "ypred_rf_random = rf_random.predict(x_movie_test)\n",
    "mse_rf_random = mean_squared_error(y_movie_test, ypred_rf_random)\n",
    "R2_score = r2_score(y_movie_test, ypred_rf_random)\n",
    "\n",
    "print('MSE : {:.2f} RMSE : {:.2f} R2 : {:.2f}'.format(mse_rf_random, np.sqrt(mse_rf_random), R2_score))"
   ]
  },
  {
   "cell_type": "code",
   "execution_count": 12,
   "metadata": {
    "ExecuteTime": {
     "end_time": "2021-12-06T04:59:50.303664Z",
     "start_time": "2021-12-06T04:59:50.298662Z"
    }
   },
   "outputs": [],
   "source": [
    "def evaluate(model, test_features, test_labels):\n",
    "    predictions = model.predict(test_features)\n",
    "    errors = abs(predictions - test_labels)\n",
    "    mape = 100 * np.mean(errors / test_labels)\n",
    "    accuracy = 100 - mape\n",
    "    print('Model Performance')\n",
    "    print('Average Error: {:0.4f} degrees.'.format(np.mean(errors)))\n",
    "    print('Accuracy = {:0.2f}%.'.format(accuracy),'\\n')\n",
    "    \n",
    "    return accuracy"
   ]
  },
  {
   "cell_type": "code",
   "execution_count": 13,
   "metadata": {
    "ExecuteTime": {
     "end_time": "2021-12-06T04:59:52.442607Z",
     "start_time": "2021-12-06T04:59:52.192039Z"
    },
    "scrolled": true
   },
   "outputs": [
    {
     "name": "stdout",
     "output_type": "stream",
     "text": [
      "Basic Model\n",
      "Model Performance\n",
      "Average Error: 0.8233 degrees.\n",
      "Accuracy = 94.13%. \n",
      "\n",
      "Random CV Model\n",
      "Model Performance\n",
      "Average Error: 0.6971 degrees.\n",
      "Accuracy = 95.02%. \n",
      "\n",
      "Improvement of 0.94%.\n"
     ]
    }
   ],
   "source": [
    "# Random CV로 정한 모델과 오리지날 모델 정확도 비교\n",
    "\n",
    "print(\"Basic Model\")\n",
    "base_model = randomforest\n",
    "base_model.fit(x_movie_train, y_movie_train)\n",
    "base_accuracy = evaluate(base_model, x_movie_test, y_movie_test)\n",
    "\n",
    "print(\"Random CV Model\")\n",
    "best_random = rf_random.best_estimator_\n",
    "random_accuracy = evaluate(best_random, x_movie_test, y_movie_test)\n",
    "\n",
    "print('Improvement of {:0.2f}%.'.format( 100 * (random_accuracy - base_accuracy) / base_accuracy))"
   ]
  },
  {
   "cell_type": "markdown",
   "metadata": {},
   "source": [
    "#### fit model"
   ]
  },
  {
   "cell_type": "code",
   "execution_count": 14,
   "metadata": {
    "ExecuteTime": {
     "end_time": "2021-12-06T04:59:56.504153Z",
     "start_time": "2021-12-06T04:59:56.500151Z"
    }
   },
   "outputs": [
    {
     "data": {
      "text/plain": [
       "{'n_estimators': 800,\n",
       " 'min_samples_split': 2,\n",
       " 'min_samples_leaf': 4,\n",
       " 'max_features': 'sqrt',\n",
       " 'max_depth': 30,\n",
       " 'bootstrap': True}"
      ]
     },
     "execution_count": 14,
     "metadata": {},
     "output_type": "execute_result"
    }
   ],
   "source": [
    "rf_random.best_params_"
   ]
  },
  {
   "cell_type": "code",
   "execution_count": 21,
   "metadata": {
    "ExecuteTime": {
     "end_time": "2021-12-06T05:05:24.597903Z",
     "start_time": "2021-12-06T05:05:23.633702Z"
    }
   },
   "outputs": [],
   "source": [
    "rf = RandomForestRegressor(n_estimators= 800,\n",
    "                           min_samples_split= 2,\n",
    "                           min_samples_leaf=4, \n",
    "                           max_features= 'sqrt', \n",
    "                           max_depth= 30, \n",
    "                           bootstrap= True,\n",
    "                           random_state = 0)\n",
    "\n",
    "rf.fit(x_movie, y)\n",
    "y_movie_pred = rf.predict(x_movie)\n",
    "\n",
    "# model fit 시킨 data로 prediction해서 over fitting(과적합) 걱정됌\n",
    "\n",
    "importance = rf.feature_importances_"
   ]
  },
  {
   "cell_type": "code",
   "execution_count": 23,
   "metadata": {
    "ExecuteTime": {
     "end_time": "2021-12-06T05:05:29.015479Z",
     "start_time": "2021-12-06T05:05:29.008477Z"
    }
   },
   "outputs": [
    {
     "data": {
      "text/plain": [
       "0      1.464014\n",
       "1      2.213772\n",
       "2      0.915259\n",
       "3      1.033630\n",
       "4      1.168774\n",
       "         ...   \n",
       "185   -1.923567\n",
       "186   -2.119940\n",
       "187   -2.113241\n",
       "188   -1.870529\n",
       "189   -2.069828\n",
       "Name: audience, Length: 190, dtype: float64"
      ]
     },
     "execution_count": 23,
     "metadata": {},
     "output_type": "execute_result"
    }
   ],
   "source": [
    "y_hat = y-y_movie_pred\n",
    "y_hat"
   ]
  },
  {
   "cell_type": "code",
   "execution_count": 38,
   "metadata": {
    "ExecuteTime": {
     "end_time": "2021-12-06T05:20:03.618463Z",
     "start_time": "2021-12-06T05:20:03.501463Z"
    }
   },
   "outputs": [
    {
     "data": {
      "image/png": "[encoded data removed]",
      "text/plain": [
       "<Figure size 504x504 with 1 Axes>"
      ]
     },
     "metadata": {
      "needs_background": "light"
     },
     "output_type": "display_data"
    }
   ],
   "source": [
    "plt.figure(figsize = (7,7))\n",
    "plt.scatter(y_hat.index,y_hat)  # 잔차 그래프가 매우 상관성이 있어보인다..!\n",
    "                                # 그룹 4개 상위 50개 4개년이라 그룹 형성!\n",
    "plt.show()"
   ]
  },
  {
   "cell_type": "code",
   "execution_count": 100,
   "metadata": {
    "ExecuteTime": {
     "end_time": "2021-12-06T06:32:47.332240Z",
     "start_time": "2021-12-06T06:32:47.199037Z"
    }
   },
   "outputs": [
    {
     "data": {
      "image/png": "[encoded data removed]",
      "text/plain": [
       "<Figure size 504x504 with 1 Axes>"
      ]
     },
     "metadata": {
      "needs_background": "light"
     },
     "output_type": "display_data"
    }
   ],
   "source": [
    "import random \n",
    "\n",
    "plt.figure(figsize = (7,7))\n",
    "plt.scatter(range(len(y_hat)),random.sample(list(y_hat),len(y_hat)))  \n",
    "plt.show() # 순서 랜덤으로 하니 괜찮은 잔차 plot..!"
   ]
  },
  {
   "cell_type": "code",
   "execution_count": 25,
   "metadata": {
    "ExecuteTime": {
     "end_time": "2021-12-06T05:07:12.697839Z",
     "start_time": "2021-12-06T05:07:12.534486Z"
    },
    "scrolled": true
   },
   "outputs": [
    {
     "name": "stdout",
     "output_type": "stream",
     "text": [
      "Feature ranking\n",
      "1. feature running_time (0.379)\n",
      "2. feature distribution_company_(주)씨제이이엔엠 (0.086)\n",
      "3. feature distribution_company_월트디즈니컴퍼니코리아 유한책임회사 (0.053)\n",
      "4. feature genre_액션 (0.040)\n",
      "5. feature distribution_company_워너브러더스 코리아(주) (0.037)\n",
      "6. feature genre_드라마 (0.034)\n",
      "7. feature distribution_company_(주)에이스메이커무비웍스 (0.033)\n",
      "8. feature age_15세이상관람가 (0.030)\n",
      "9. feature age_12세이상관람가 (0.027)\n",
      "10. feature nation_한국 (0.025)\n"
     ]
    },
    {
     "data": {
      "image/png": "[encoded data removed]",
      "text/plain": [
       "<Figure size 720x720 with 1 Axes>"
      ]
     },
     "metadata": {
      "needs_background": "light"
     },
     "output_type": "display_data"
    }
   ],
   "source": [
    "indices = np.argsort(importance)[::-1]\n",
    "\n",
    "# print the feature ranking\n",
    "print(\"Feature ranking\")\n",
    "\n",
    "# 상위 10개만\n",
    "for f in range(10):\n",
    "    print(\"{}. feature {} ({:.3f})\".format(f+1, x_movie.columns[indices][f], importance[indices[f]]))\n",
    "    \n",
    "# Plot the imprity-based feature importances of the forest\n",
    "plt.figure(figsize=(10,10))\n",
    "plt.title(\"Feature impotances\")\n",
    "plt.barh(range(x_movie.shape[1])[:10], importance[indices][:10], color = 'r')\n",
    "plt.yticks(range(x_movie.shape[1])[:10], x_movie.columns[indices][:10])\n",
    "plt.ylim([-1, 10])\n",
    "plt.show()"
   ]
  },
  {
   "cell_type": "markdown",
   "metadata": {},
   "source": [
    "### 2nd Model : about viral features"
   ]
  },
  {
   "cell_type": "code",
   "execution_count": 60,
   "metadata": {
    "ExecuteTime": {
     "end_time": "2021-12-06T05:45:23.107494Z",
     "start_time": "2021-12-06T05:45:23.090489Z"
    }
   },
   "outputs": [
    {
     "name": "stdout",
     "output_type": "stream",
     "text": [
      "   log_youtube_view_mean  sqrt_comment_count  sqrt_abs_mean_score  \\\n",
      "0               0.607924            0.299134             0.585738   \n",
      "1               0.876235            1.668276            -0.873243   \n",
      "2               1.100347           -1.078816            -0.948748   \n",
      "3               1.409522            0.694220            -1.137865   \n",
      "4               1.422851           -0.442221            -0.598667   \n",
      "\n",
      "   sqrt_actor_power  \n",
      "0          2.896179  \n",
      "1          2.030635  \n",
      "2          1.351458  \n",
      "3          2.023730  \n",
      "4          0.369338  \n"
     ]
    }
   ],
   "source": [
    "# 단위가 다르니 정규화 후 모델링\n",
    "# Normalize Data\n",
    "x_norm = x_viral\n",
    "\n",
    "std_scale = preprocessing.StandardScaler().fit(x_norm)\n",
    "x_viral_norm = std_scale.transform(x_norm)\n",
    "\n",
    "#Converting numpy array to dataframe\n",
    "x_norm_col = pd.DataFrame(x_viral_norm, index=x_norm.index, columns=x_norm.columns) \n",
    "x_viral.update(x_norm_col)\n",
    "print (x_viral.head())"
   ]
  },
  {
   "cell_type": "code",
   "execution_count": 61,
   "metadata": {
    "ExecuteTime": {
     "end_time": "2021-12-06T05:45:45.105769Z",
     "start_time": "2021-12-06T05:45:45.100773Z"
    }
   },
   "outputs": [],
   "source": [
    "# Test set, Train set 분리\n",
    "\n",
    "x_viral_train, x_viral_test, y_hat_train, y_hat_test = train_test_split(x_viral, y_hat, test_size=0.2, random_state=0)"
   ]
  },
  {
   "cell_type": "markdown",
   "metadata": {},
   "source": [
    "#### hyperparameter"
   ]
  },
  {
   "cell_type": "code",
   "execution_count": 52,
   "metadata": {
    "ExecuteTime": {
     "end_time": "2021-12-06T05:38:52.528446Z",
     "start_time": "2021-12-06T05:38:52.515930Z"
    },
    "scrolled": true
   },
   "outputs": [
    {
     "name": "stdout",
     "output_type": "stream",
     "text": [
      "{'bootstrap': [True, False],\n",
      " 'max_depth': [10, 20, 30, 40, 50, 60, 70, 80, 90, 100, 110, None],\n",
      " 'max_features': ['auto', 'sqrt'],\n",
      " 'min_samples_leaf': [1, 2, 4],\n",
      " 'min_samples_split': [2, 5, 10],\n",
      " 'n_estimators': [100,\n",
      "                  200,\n",
      "                  300,\n",
      "                  400,\n",
      "                  500,\n",
      "                  600,\n",
      "                  700,\n",
      "                  800,\n",
      "                  900,\n",
      "                  1000,\n",
      "                  1100,\n",
      "                  1200,\n",
      "                  1300,\n",
      "                  1400,\n",
      "                  1500,\n",
      "                  1600,\n",
      "                  1700,\n",
      "                  1800,\n",
      "                  1900,\n",
      "                  2000]}\n"
     ]
    }
   ],
   "source": [
    "from sklearn.model_selection import RandomizedSearchCV\n",
    "\n",
    "# Number of trees in random forest\n",
    "n_estimators = [int(x) for x in np.linspace(start = 100, stop = 2000, num = 20)]\n",
    "# Number of features to consider at every split\n",
    "max_features = ['auto', 'sqrt']\n",
    "# Maximum number of levels in tree\n",
    "max_depth = [int(x) for x in np.linspace(10, 110, num = 11)]\n",
    "max_depth.append(None)\n",
    "# Minimum number of samples required to split a node\n",
    "min_samples_split = [2, 5, 10]\n",
    "# Minimum number of samples required at each leaf node\n",
    "min_samples_leaf = [1, 2, 4]\n",
    "# Method of selecting samples for training each tree\n",
    "bootstrap = [True, False]\n",
    "# Create the random grid\n",
    "random_grid = {'n_estimators': n_estimators,\n",
    "               'max_features': max_features,\n",
    "               'max_depth': max_depth,\n",
    "               'min_samples_split': min_samples_split,\n",
    "               'min_samples_leaf': min_samples_leaf,\n",
    "               'bootstrap': bootstrap}\n",
    "\n",
    "pprint(random_grid)"
   ]
  },
  {
   "cell_type": "code",
   "execution_count": 53,
   "metadata": {
    "ExecuteTime": {
     "end_time": "2021-12-06T05:40:32.640174Z",
     "start_time": "2021-12-06T05:38:54.654394Z"
    },
    "scrolled": true
   },
   "outputs": [
    {
     "name": "stdout",
     "output_type": "stream",
     "text": [
      "Fitting 3 folds for each of 100 candidates, totalling 300 fits\n"
     ]
    },
    {
     "name": "stderr",
     "output_type": "stream",
     "text": [
      "[Parallel(n_jobs=-1)]: Using backend LokyBackend with 8 concurrent workers.\n",
      "[Parallel(n_jobs=-1)]: Done  25 tasks      | elapsed:   13.0s\n",
      "[Parallel(n_jobs=-1)]: Done 146 tasks      | elapsed:   46.8s\n",
      "[Parallel(n_jobs=-1)]: Done 300 out of 300 | elapsed:  1.6min finished\n"
     ]
    },
    {
     "data": {
      "text/plain": [
       "RandomizedSearchCV(cv=3, estimator=RandomForestRegressor(random_state=0),\n",
       "                   n_iter=100, n_jobs=-1,\n",
       "                   param_distributions={'bootstrap': [True, False],\n",
       "                                        'max_depth': [10, 20, 30, 40, 50, 60,\n",
       "                                                      70, 80, 90, 100, 110,\n",
       "                                                      None],\n",
       "                                        'max_features': ['auto', 'sqrt'],\n",
       "                                        'min_samples_leaf': [1, 2, 4],\n",
       "                                        'min_samples_split': [2, 5, 10],\n",
       "                                        'n_estimators': [100, 200, 300, 400,\n",
       "                                                         500, 600, 700, 800,\n",
       "                                                         900, 1000, 1100, 1200,\n",
       "                                                         1300, 1400, 1500, 1600,\n",
       "                                                         1700, 1800, 1900,\n",
       "                                                         2000]},\n",
       "                   random_state=42, verbose=2)"
      ]
     },
     "execution_count": 53,
     "metadata": {},
     "output_type": "execute_result"
    }
   ],
   "source": [
    "# Use the random grid to search for best hyperparameters\n",
    "# First create the base model to tune\n",
    "# rf = RandomForestRegressor()\n",
    "# Random search of parameters, using 3 fold cross validation, \n",
    "# search across 100 different combinations, and use all available cores\n",
    "randomforest = RandomForestRegressor(random_state=0)\n",
    "\n",
    "rf_random = RandomizedSearchCV(estimator = randomforest,\n",
    "                               param_distributions = random_grid,\n",
    "                               n_iter = 100,\n",
    "                               cv = 3,\n",
    "                               verbose=2,\n",
    "                               random_state=42,\n",
    "                               n_jobs = -1)\n",
    "\n",
    "# Fit the random search model\n",
    "rf_random.fit(x_viral_train, y_hat_train)"
   ]
  },
  {
   "cell_type": "code",
   "execution_count": 54,
   "metadata": {
    "ExecuteTime": {
     "end_time": "2021-12-06T05:40:57.256241Z",
     "start_time": "2021-12-06T05:40:57.251241Z"
    }
   },
   "outputs": [
    {
     "data": {
      "text/plain": [
       "{'n_estimators': 1600,\n",
       " 'min_samples_split': 5,\n",
       " 'min_samples_leaf': 4,\n",
       " 'max_features': 'sqrt',\n",
       " 'max_depth': 80,\n",
       " 'bootstrap': True}"
      ]
     },
     "execution_count": 54,
     "metadata": {},
     "output_type": "execute_result"
    }
   ],
   "source": [
    "# best match 출력\n",
    "\n",
    "rf_random.best_params_"
   ]
  },
  {
   "cell_type": "code",
   "execution_count": 55,
   "metadata": {
    "ExecuteTime": {
     "end_time": "2021-12-06T05:41:02.013038Z",
     "start_time": "2021-12-06T05:41:01.906038Z"
    }
   },
   "outputs": [
    {
     "name": "stdout",
     "output_type": "stream",
     "text": [
      "MSE : 0.37 RMSE : 0.61 R2 : 0.47\n"
     ]
    }
   ],
   "source": [
    "# Random CV 결과\n",
    "\n",
    "ypred_rf_random_viral = rf_random.predict(x_viral_test)\n",
    "mse_rf_random = mean_squared_error(y_hat_test, ypred_rf_random_viral)\n",
    "R2_score = r2_score(y_hat_test, ypred_rf_random_viral)\n",
    "\n",
    "print('MSE : {:.2f} RMSE : {:.2f} R2 : {:.2f}'.format(mse_rf_random, np.sqrt(mse_rf_random), R2_score))"
   ]
  },
  {
   "cell_type": "code",
   "execution_count": 56,
   "metadata": {
    "ExecuteTime": {
     "end_time": "2021-12-06T05:41:09.859293Z",
     "start_time": "2021-12-06T05:41:09.855288Z"
    }
   },
   "outputs": [],
   "source": [
    "def evaluate(model, test_features, test_labels):\n",
    "    predictions = model.predict(test_features)\n",
    "    errors = abs(predictions - test_labels)\n",
    "    mape = 100 * np.mean(errors / test_labels)\n",
    "    accuracy = 100 - mape\n",
    "    print('Model Performance')\n",
    "    print('Average Error: {:0.4f} degrees.'.format(np.mean(errors)))\n",
    "    print('Accuracy = {:0.2f}%.'.format(accuracy),'\\n')\n",
    "    \n",
    "    return accuracy"
   ]
  },
  {
   "cell_type": "code",
   "execution_count": 57,
   "metadata": {
    "ExecuteTime": {
     "end_time": "2021-12-06T05:41:10.843288Z",
     "start_time": "2021-12-06T05:41:10.618288Z"
    }
   },
   "outputs": [
    {
     "name": "stdout",
     "output_type": "stream",
     "text": [
      "Basic Model\n",
      "Model Performance\n",
      "Average Error: 0.4453 degrees.\n",
      "Accuracy = 116.29%. \n",
      "\n",
      "Random CV Model\n",
      "Model Performance\n",
      "Average Error: 0.4648 degrees.\n",
      "Accuracy = 118.96%. \n",
      "\n",
      "Improvement of 2.29%.\n"
     ]
    }
   ],
   "source": [
    "# Random CV로 정한 모델과 오리지날 모델 정확도 비교\n",
    "\n",
    "print(\"Basic Model\")\n",
    "base_model = randomforest\n",
    "base_model.fit(x_viral_train, y_hat_train)\n",
    "base_accuracy = evaluate(base_model, x_viral_test, y_hat_test)\n",
    "\n",
    "print(\"Random CV Model\")\n",
    "best_random = rf_random.best_estimator_\n",
    "random_accuracy = evaluate(best_random, x_viral_test, y_hat_test)\n",
    "\n",
    "print('Improvement of {:0.2f}%.'.format( 100 * (random_accuracy - base_accuracy) / base_accuracy))"
   ]
  },
  {
   "cell_type": "markdown",
   "metadata": {
    "ExecuteTime": {
     "end_time": "2021-12-06T05:42:00.203687Z",
     "start_time": "2021-12-06T05:42:00.199679Z"
    }
   },
   "source": [
    "#### fit model"
   ]
  },
  {
   "cell_type": "code",
   "execution_count": 59,
   "metadata": {
    "ExecuteTime": {
     "end_time": "2021-12-06T05:43:12.184243Z",
     "start_time": "2021-12-06T05:43:12.175242Z"
    }
   },
   "outputs": [
    {
     "data": {
      "text/plain": [
       "{'n_estimators': 1600,\n",
       " 'min_samples_split': 5,\n",
       " 'min_samples_leaf': 4,\n",
       " 'max_features': 'sqrt',\n",
       " 'max_depth': 80,\n",
       " 'bootstrap': True}"
      ]
     },
     "execution_count": 59,
     "metadata": {},
     "output_type": "execute_result"
    }
   ],
   "source": [
    "rf_random.best_params_"
   ]
  },
  {
   "cell_type": "code",
   "execution_count": 81,
   "metadata": {
    "ExecuteTime": {
     "end_time": "2021-12-06T05:53:54.455976Z",
     "start_time": "2021-12-06T05:53:52.278596Z"
    }
   },
   "outputs": [],
   "source": [
    "rf_fin = RandomForestRegressor(n_estimators= 1600,\n",
    "                           min_samples_split= 5,\n",
    "                           min_samples_leaf=4, \n",
    "                           max_features= 'sqrt', \n",
    "                           max_depth= 80, \n",
    "                           bootstrap= True,\n",
    "                           random_state = 0)\n",
    "\n",
    "rf_fin.fit(x_viral, y_hat)\n",
    "y_hat_pred = rf_fin.predict(x_viral)\n",
    "\n",
    "importance = rf_fin.feature_importances_"
   ]
  },
  {
   "cell_type": "code",
   "execution_count": 101,
   "metadata": {
    "ExecuteTime": {
     "end_time": "2021-12-06T06:38:10.570335Z",
     "start_time": "2021-12-06T06:38:10.562336Z"
    }
   },
   "outputs": [],
   "source": [
    "y_hat_hat = y_hat - y_hat_pred"
   ]
  },
  {
   "cell_type": "code",
   "execution_count": 102,
   "metadata": {
    "ExecuteTime": {
     "end_time": "2021-12-06T06:38:15.369152Z",
     "start_time": "2021-12-06T06:38:15.245886Z"
    }
   },
   "outputs": [
    {
     "data": {
      "image/png": "[encoded data removed]",
      "text/plain": [
       "<Figure size 504x504 with 1 Axes>"
      ]
     },
     "metadata": {
      "needs_background": "light"
     },
     "output_type": "display_data"
    }
   ],
   "source": [
    "plt.figure(figsize = (7,7))\n",
    "plt.scatter(y_hat_hat.index,y_hat)  # 잔차 그래프가 매우 상관성이 있어보인다..!\n",
    "                                # 그룹 4개 상위 50개 4개년이라 그룹 형성!\n",
    "plt.show()"
   ]
  },
  {
   "cell_type": "code",
   "execution_count": 103,
   "metadata": {
    "ExecuteTime": {
     "end_time": "2021-12-06T06:38:36.395203Z",
     "start_time": "2021-12-06T06:38:36.245179Z"
    }
   },
   "outputs": [
    {
     "data": {
      "image/png": "[encoded data removed]",
      "text/plain": [
       "<Figure size 504x504 with 1 Axes>"
      ]
     },
     "metadata": {
      "needs_background": "light"
     },
     "output_type": "display_data"
    }
   ],
   "source": [
    "import random \n",
    "\n",
    "plt.figure(figsize = (7,7))\n",
    "plt.scatter(range(len(y_hat_hat)),random.sample(list(y_hat_hat),len(y_hat_hat)))  \n",
    "plt.show() # 순서 랜덤으로 하니 괜찮은 잔차 plot..!"
   ]
  },
  {
   "cell_type": "code",
   "execution_count": 104,
   "metadata": {
    "ExecuteTime": {
     "end_time": "2021-12-06T06:38:49.703622Z",
     "start_time": "2021-12-06T06:38:49.573618Z"
    }
   },
   "outputs": [
    {
     "name": "stdout",
     "output_type": "stream",
     "text": [
      "Feature ranking\n",
      "1. feature sqrt_actor_power (0.479)\n",
      "2. feature log_youtube_view_mean (0.284)\n",
      "3. feature sqrt_comment_count (0.163)\n",
      "4. feature sqrt_abs_mean_score (0.075)\n"
     ]
    },
    {
     "data": {
      "image/png": "[encoded data removed]",
      "text/plain": [
       "<Figure size 504x504 with 1 Axes>"
      ]
     },
     "metadata": {
      "needs_background": "light"
     },
     "output_type": "display_data"
    }
   ],
   "source": [
    "indices = np.argsort(importance)[::-1]\n",
    "\n",
    "# print the feature ranking\n",
    "print(\"Feature ranking\")\n",
    "\n",
    "# 상위 10개만\n",
    "for f in range(4):\n",
    "    print(\"{}. feature {} ({:.3f})\".format(f+1, x_viral.columns[indices][f], importance[indices[f]]))\n",
    "    \n",
    "# Plot the imprity-based feature importances of the forest\n",
    "plt.figure(figsize=(7,7))\n",
    "plt.title(\"Feature impotances\")\n",
    "plt.barh(range(x_viral.shape[1]), importance[indices], color = 'r')\n",
    "plt.yticks(range(x_viral.shape[1]), x_viral.columns[indices])\n",
    "plt.ylim([-1, 4])\n",
    "plt.show()"
   ]
  },
  {
   "cell_type": "markdown",
   "metadata": {},
   "source": [
    "### Netflix Data"
   ]
  },
  {
   "cell_type": "code",
   "execution_count": 72,
   "metadata": {
    "ExecuteTime": {
     "end_time": "2021-12-06T05:49:48.615830Z",
     "start_time": "2021-12-06T05:49:48.610844Z"
    }
   },
   "outputs": [],
   "source": [
    "# modeling에 포함되지 않는 columns 제거\n",
    "colums_rm = ['movie_name','release']\n",
    "def remove_columns(movie_df):\n",
    "    col = list(movie_df.columns)\n",
    "    for i in colums_rm:\n",
    "        col.remove(i)\n",
    "    movie_df = movie_df.loc[:, col]\n",
    "    \n",
    "    return movie_df"
   ]
  },
  {
   "cell_type": "code",
   "execution_count": 73,
   "metadata": {
    "ExecuteTime": {
     "end_time": "2021-12-06T05:49:52.546487Z",
     "start_time": "2021-12-06T05:49:52.501583Z"
    }
   },
   "outputs": [],
   "source": [
    "netflix_df = pd.read_excel('C:/Users/User/Desktop/Viral_Effect/SNS-scraping/Netflix_Data.xlsx').iloc[:,1:]\n",
    "netflix_df_tf = pd.read_excel('C:/Users/User/Desktop/Viral_Effect/SNS-scraping/Netflix_Data_transformation.xlsx').iloc[:,1:]"
   ]
  },
  {
   "cell_type": "code",
   "execution_count": 75,
   "metadata": {
    "ExecuteTime": {
     "end_time": "2021-12-06T05:50:39.512881Z",
     "start_time": "2021-12-06T05:50:39.507902Z"
    }
   },
   "outputs": [],
   "source": [
    "netflix_name = netflix_df.loc[:,'movie_name']"
   ]
  },
  {
   "cell_type": "code",
   "execution_count": 76,
   "metadata": {
    "ExecuteTime": {
     "end_time": "2021-12-06T05:50:44.124826Z",
     "start_time": "2021-12-06T05:50:44.117824Z"
    }
   },
   "outputs": [],
   "source": [
    "netflix_df = remove_columns(netflix_df)\n",
    "netflix_df_tf = remove_columns(netflix_df_tf)"
   ]
  },
  {
   "cell_type": "code",
   "execution_count": 77,
   "metadata": {
    "ExecuteTime": {
     "end_time": "2021-12-06T05:50:50.012450Z",
     "start_time": "2021-12-06T05:50:50.003418Z"
    }
   },
   "outputs": [
    {
     "data": {
      "text/html": [
       "<div>\n",
       "<style scoped>\n",
       "    .dataframe tbody tr th:only-of-type {\n",
       "        vertical-align: middle;\n",
       "    }\n",
       "\n",
       "    .dataframe tbody tr th {\n",
       "        vertical-align: top;\n",
       "    }\n",
       "\n",
       "    .dataframe thead th {\n",
       "        text-align: right;\n",
       "    }\n",
       "</style>\n",
       "<table border=\"1\" class=\"dataframe\">\n",
       "  <thead>\n",
       "    <tr style=\"text-align: right;\">\n",
       "      <th></th>\n",
       "      <th>youtube_view_mean</th>\n",
       "      <th>comment_count</th>\n",
       "      <th>abs_mean_score</th>\n",
       "      <th>actor_power</th>\n",
       "    </tr>\n",
       "  </thead>\n",
       "  <tbody>\n",
       "    <tr>\n",
       "      <th>0</th>\n",
       "      <td>39636562.3</td>\n",
       "      <td>182052</td>\n",
       "      <td>0.877846</td>\n",
       "      <td>1837094.000</td>\n",
       "    </tr>\n",
       "    <tr>\n",
       "      <th>1</th>\n",
       "      <td>886085.3</td>\n",
       "      <td>3763</td>\n",
       "      <td>1.183902</td>\n",
       "      <td>6219299.667</td>\n",
       "    </tr>\n",
       "    <tr>\n",
       "      <th>2</th>\n",
       "      <td>1416440.5</td>\n",
       "      <td>10608</td>\n",
       "      <td>1.008533</td>\n",
       "      <td>3041107.333</td>\n",
       "    </tr>\n",
       "    <tr>\n",
       "      <th>3</th>\n",
       "      <td>260578.0</td>\n",
       "      <td>281</td>\n",
       "      <td>1.428533</td>\n",
       "      <td>547475.250</td>\n",
       "    </tr>\n",
       "    <tr>\n",
       "      <th>4</th>\n",
       "      <td>915003.6</td>\n",
       "      <td>10267</td>\n",
       "      <td>4.560011</td>\n",
       "      <td>1505560.000</td>\n",
       "    </tr>\n",
       "  </tbody>\n",
       "</table>\n",
       "</div>"
      ],
      "text/plain": [
       "   youtube_view_mean  comment_count  abs_mean_score  actor_power\n",
       "0         39636562.3         182052        0.877846  1837094.000\n",
       "1           886085.3           3763        1.183902  6219299.667\n",
       "2          1416440.5          10608        1.008533  3041107.333\n",
       "3           260578.0            281        1.428533   547475.250\n",
       "4           915003.6          10267        4.560011  1505560.000"
      ]
     },
     "execution_count": 77,
     "metadata": {},
     "output_type": "execute_result"
    }
   ],
   "source": [
    "netflix_df"
   ]
  },
  {
   "cell_type": "code",
   "execution_count": 78,
   "metadata": {
    "ExecuteTime": {
     "end_time": "2021-12-06T05:50:56.848061Z",
     "start_time": "2021-12-06T05:50:56.840061Z"
    }
   },
   "outputs": [
    {
     "data": {
      "text/html": [
       "<div>\n",
       "<style scoped>\n",
       "    .dataframe tbody tr th:only-of-type {\n",
       "        vertical-align: middle;\n",
       "    }\n",
       "\n",
       "    .dataframe tbody tr th {\n",
       "        vertical-align: top;\n",
       "    }\n",
       "\n",
       "    .dataframe thead th {\n",
       "        text-align: right;\n",
       "    }\n",
       "</style>\n",
       "<table border=\"1\" class=\"dataframe\">\n",
       "  <thead>\n",
       "    <tr style=\"text-align: right;\">\n",
       "      <th></th>\n",
       "      <th>log_youtube_view_mean</th>\n",
       "      <th>sqrt_comment_count</th>\n",
       "      <th>sqrt_abs_mean_score</th>\n",
       "      <th>sqrt_actor_power</th>\n",
       "    </tr>\n",
       "  </thead>\n",
       "  <tbody>\n",
       "    <tr>\n",
       "      <th>0</th>\n",
       "      <td>17.495263</td>\n",
       "      <td>426.675521</td>\n",
       "      <td>0.936934</td>\n",
       "      <td>1355.394408</td>\n",
       "    </tr>\n",
       "    <tr>\n",
       "      <th>1</th>\n",
       "      <td>13.694569</td>\n",
       "      <td>61.343296</td>\n",
       "      <td>1.088073</td>\n",
       "      <td>2493.852375</td>\n",
       "    </tr>\n",
       "    <tr>\n",
       "      <th>2</th>\n",
       "      <td>14.163658</td>\n",
       "      <td>102.995146</td>\n",
       "      <td>1.004258</td>\n",
       "      <td>1743.877098</td>\n",
       "    </tr>\n",
       "    <tr>\n",
       "      <th>3</th>\n",
       "      <td>12.470658</td>\n",
       "      <td>16.763055</td>\n",
       "      <td>1.195213</td>\n",
       "      <td>739.915705</td>\n",
       "    </tr>\n",
       "    <tr>\n",
       "      <th>4</th>\n",
       "      <td>13.726683</td>\n",
       "      <td>101.326206</td>\n",
       "      <td>2.135418</td>\n",
       "      <td>1227.012632</td>\n",
       "    </tr>\n",
       "  </tbody>\n",
       "</table>\n",
       "</div>"
      ],
      "text/plain": [
       "   log_youtube_view_mean  sqrt_comment_count  sqrt_abs_mean_score  \\\n",
       "0              17.495263          426.675521             0.936934   \n",
       "1              13.694569           61.343296             1.088073   \n",
       "2              14.163658          102.995146             1.004258   \n",
       "3              12.470658           16.763055             1.195213   \n",
       "4              13.726683          101.326206             2.135418   \n",
       "\n",
       "   sqrt_actor_power  \n",
       "0       1355.394408  \n",
       "1       2493.852375  \n",
       "2       1743.877098  \n",
       "3        739.915705  \n",
       "4       1227.012632  "
      ]
     },
     "execution_count": 78,
     "metadata": {},
     "output_type": "execute_result"
    }
   ],
   "source": [
    "netflix_df_tf"
   ]
  },
  {
   "cell_type": "code",
   "execution_count": 79,
   "metadata": {
    "ExecuteTime": {
     "end_time": "2021-12-06T05:51:06.224339Z",
     "start_time": "2021-12-06T05:51:06.221337Z"
    }
   },
   "outputs": [],
   "source": [
    "modeling_df = netflix_df_tf.copy()"
   ]
  },
  {
   "cell_type": "markdown",
   "metadata": {},
   "source": [
    "#### Forecasting"
   ]
  },
  {
   "cell_type": "code",
   "execution_count": 80,
   "metadata": {
    "ExecuteTime": {
     "end_time": "2021-12-06T05:53:10.933451Z",
     "start_time": "2021-12-06T05:53:10.921491Z"
    }
   },
   "outputs": [
    {
     "name": "stdout",
     "output_type": "stream",
     "text": [
      "   log_youtube_view_mean  sqrt_comment_count  sqrt_abs_mean_score  \\\n",
      "0               1.885398            1.952660            -0.761005   \n",
      "1              -0.364399           -0.551666            -0.417716   \n",
      "2              -0.086725           -0.266146            -0.608090   \n",
      "3              -1.088886           -0.857261            -0.174364   \n",
      "4              -0.345389           -0.277586             1.961175   \n",
      "\n",
      "   sqrt_actor_power  \n",
      "0         -0.267055  \n",
      "1          1.674193  \n",
      "2          0.395369  \n",
      "3         -1.316541  \n",
      "4         -0.485966  \n"
     ]
    }
   ],
   "source": [
    "# 단위가 다르니 정규화 후 모델링\n",
    "# Normalize Data\n",
    "df_norm = modeling_df\n",
    "\n",
    "std_scale = preprocessing.StandardScaler().fit(df_norm)\n",
    "modeling_df_norm = std_scale.transform(df_norm)\n",
    "\n",
    "#Converting numpy array to dataframe\n",
    "modeling_df_norm_col = pd.DataFrame(modeling_df_norm, index=df_norm.index, columns=df_norm.columns) \n",
    "modeling_df.update(modeling_df_norm_col)\n",
    "print (modeling_df.head())"
   ]
  },
  {
   "cell_type": "code",
   "execution_count": 89,
   "metadata": {
    "ExecuteTime": {
     "end_time": "2021-12-06T05:56:31.406979Z",
     "start_time": "2021-12-06T05:56:31.304941Z"
    }
   },
   "outputs": [
    {
     "data": {
      "text/html": [
       "<div>\n",
       "<style scoped>\n",
       "    .dataframe tbody tr th:only-of-type {\n",
       "        vertical-align: middle;\n",
       "    }\n",
       "\n",
       "    .dataframe tbody tr th {\n",
       "        vertical-align: top;\n",
       "    }\n",
       "\n",
       "    .dataframe thead th {\n",
       "        text-align: right;\n",
       "    }\n",
       "</style>\n",
       "<table border=\"1\" class=\"dataframe\">\n",
       "  <thead>\n",
       "    <tr style=\"text-align: right;\">\n",
       "      <th></th>\n",
       "      <th>prediction</th>\n",
       "    </tr>\n",
       "  </thead>\n",
       "  <tbody>\n",
       "    <tr>\n",
       "      <th>오징어 게임</th>\n",
       "      <td>0.807608</td>\n",
       "    </tr>\n",
       "    <tr>\n",
       "      <th>킹덤</th>\n",
       "      <td>0.118921</td>\n",
       "    </tr>\n",
       "    <tr>\n",
       "      <th>보건교사 안은영</th>\n",
       "      <td>0.120927</td>\n",
       "    </tr>\n",
       "    <tr>\n",
       "      <th>옥자</th>\n",
       "      <td>-1.317500</td>\n",
       "    </tr>\n",
       "    <tr>\n",
       "      <th>승리호</th>\n",
       "      <td>-0.161893</td>\n",
       "    </tr>\n",
       "  </tbody>\n",
       "</table>\n",
       "</div>"
      ],
      "text/plain": [
       "          prediction\n",
       "오징어 게임      0.807608\n",
       "킹덤          0.118921\n",
       "보건교사 안은영    0.120927\n",
       "옥자         -1.317500\n",
       "승리호        -0.161893"
      ]
     },
     "execution_count": 89,
     "metadata": {},
     "output_type": "execute_result"
    }
   ],
   "source": [
    "netflix_pred = rf_fin.predict(modeling_df)\n",
    "netflix_pred = pd.DataFrame(netflix_pred, columns = ['prediction'], index = list(netflix_name))\n",
    "netflix_pred"
   ]
  },
  {
   "cell_type": "code",
   "execution_count": 88,
   "metadata": {
    "ExecuteTime": {
     "end_time": "2021-12-06T05:56:23.747347Z",
     "start_time": "2021-12-06T05:56:23.739349Z"
    }
   },
   "outputs": [
    {
     "data": {
      "text/html": [
       "<div>\n",
       "<style scoped>\n",
       "    .dataframe tbody tr th:only-of-type {\n",
       "        vertical-align: middle;\n",
       "    }\n",
       "\n",
       "    .dataframe tbody tr th {\n",
       "        vertical-align: top;\n",
       "    }\n",
       "\n",
       "    .dataframe thead th {\n",
       "        text-align: right;\n",
       "    }\n",
       "</style>\n",
       "<table border=\"1\" class=\"dataframe\">\n",
       "  <thead>\n",
       "    <tr style=\"text-align: right;\">\n",
       "      <th></th>\n",
       "      <th>prediction</th>\n",
       "    </tr>\n",
       "  </thead>\n",
       "  <tbody>\n",
       "    <tr>\n",
       "      <th>오징어 게임</th>\n",
       "      <td>2.242537</td>\n",
       "    </tr>\n",
       "    <tr>\n",
       "      <th>킹덤</th>\n",
       "      <td>1.126280</td>\n",
       "    </tr>\n",
       "    <tr>\n",
       "      <th>보건교사 안은영</th>\n",
       "      <td>1.128543</td>\n",
       "    </tr>\n",
       "    <tr>\n",
       "      <th>옥자</th>\n",
       "      <td>0.267804</td>\n",
       "    </tr>\n",
       "    <tr>\n",
       "      <th>승리호</th>\n",
       "      <td>0.850532</td>\n",
       "    </tr>\n",
       "  </tbody>\n",
       "</table>\n",
       "</div>"
      ],
      "text/plain": [
       "          prediction\n",
       "오징어 게임      2.242537\n",
       "킹덤          1.126280\n",
       "보건교사 안은영    1.128543\n",
       "옥자          0.267804\n",
       "승리호         0.850532"
      ]
     },
     "execution_count": 88,
     "metadata": {},
     "output_type": "execute_result"
    }
   ],
   "source": [
    "# y 값에 log 씌워서 예측 진행했으니 exp 적용\n",
    "netflix_pred_exp = np.exp(netflix_pred)\n",
    "netflix_pred_exp"
   ]
  },
  {
   "cell_type": "code",
   "execution_count": 106,
   "metadata": {
    "ExecuteTime": {
     "end_time": "2021-12-06T06:46:07.973183Z",
     "start_time": "2021-12-06T06:46:07.963605Z"
    }
   },
   "outputs": [
    {
     "data": {
      "text/plain": [
       "prediction    2.242537\n",
       "Name: 오징어 게임, dtype: float64"
      ]
     },
     "execution_count": 106,
     "metadata": {},
     "output_type": "execute_result"
    }
   ],
   "source": [
    "squidgame_pred_exp = netflix_pred_exp.loc['오징어 게임',]\n",
    "squidgame_pred_exp"
   ]
  },
  {
   "cell_type": "markdown",
   "metadata": {},
   "source": [
    "## Viral Index"
   ]
  },
  {
   "cell_type": "markdown",
   "metadata": {},
   "source": [
    "### Try"
   ]
  },
  {
   "cell_type": "code",
   "execution_count": 90,
   "metadata": {
    "ExecuteTime": {
     "end_time": "2021-12-06T05:59:16.363670Z",
     "start_time": "2021-12-06T05:59:16.345630Z"
    }
   },
   "outputs": [
    {
     "data": {
      "text/html": [
       "<div>\n",
       "<style scoped>\n",
       "    .dataframe tbody tr th:only-of-type {\n",
       "        vertical-align: middle;\n",
       "    }\n",
       "\n",
       "    .dataframe tbody tr th {\n",
       "        vertical-align: top;\n",
       "    }\n",
       "\n",
       "    .dataframe thead th {\n",
       "        text-align: right;\n",
       "    }\n",
       "</style>\n",
       "<table border=\"1\" class=\"dataframe\">\n",
       "  <thead>\n",
       "    <tr style=\"text-align: right;\">\n",
       "      <th></th>\n",
       "      <th>Viral_Index</th>\n",
       "    </tr>\n",
       "  </thead>\n",
       "  <tbody>\n",
       "    <tr>\n",
       "      <th>오징어 게임</th>\n",
       "      <td>100.000000</td>\n",
       "    </tr>\n",
       "    <tr>\n",
       "      <th>킹덤</th>\n",
       "      <td>43.473045</td>\n",
       "    </tr>\n",
       "    <tr>\n",
       "      <th>보건교사 안은영</th>\n",
       "      <td>43.587620</td>\n",
       "    </tr>\n",
       "    <tr>\n",
       "      <th>옥자</th>\n",
       "      <td>0.000000</td>\n",
       "    </tr>\n",
       "    <tr>\n",
       "      <th>승리호</th>\n",
       "      <td>29.509195</td>\n",
       "    </tr>\n",
       "  </tbody>\n",
       "</table>\n",
       "</div>"
      ],
      "text/plain": [
       "          Viral_Index\n",
       "오징어 게임     100.000000\n",
       "킹덤          43.473045\n",
       "보건교사 안은영    43.587620\n",
       "옥자           0.000000\n",
       "승리호         29.509195"
      ]
     },
     "execution_count": 90,
     "metadata": {},
     "output_type": "execute_result"
    }
   ],
   "source": [
    "# 1) 최소 최대 기준으로 0~100\n",
    "viral_index1 = netflix_pred_exp.apply(lambda x : (x-min(x))/(max(x) - min(x)) * 100)\n",
    "viral_index1.columns = ['Viral_Index']\n",
    "viral_index1"
   ]
  },
  {
   "cell_type": "code",
   "execution_count": 92,
   "metadata": {
    "ExecuteTime": {
     "end_time": "2021-12-06T06:00:06.942040Z",
     "start_time": "2021-12-06T06:00:06.929039Z"
    }
   },
   "outputs": [
    {
     "data": {
      "text/html": [
       "<div>\n",
       "<style scoped>\n",
       "    .dataframe tbody tr th:only-of-type {\n",
       "        vertical-align: middle;\n",
       "    }\n",
       "\n",
       "    .dataframe tbody tr th {\n",
       "        vertical-align: top;\n",
       "    }\n",
       "\n",
       "    .dataframe thead th {\n",
       "        text-align: right;\n",
       "    }\n",
       "</style>\n",
       "<table border=\"1\" class=\"dataframe\">\n",
       "  <thead>\n",
       "    <tr style=\"text-align: right;\">\n",
       "      <th></th>\n",
       "      <th>Viral_Index</th>\n",
       "    </tr>\n",
       "  </thead>\n",
       "  <tbody>\n",
       "    <tr>\n",
       "      <th>오징어 게임</th>\n",
       "      <td>100.000000</td>\n",
       "    </tr>\n",
       "    <tr>\n",
       "      <th>킹덤</th>\n",
       "      <td>50.223503</td>\n",
       "    </tr>\n",
       "    <tr>\n",
       "      <th>보건교사 안은영</th>\n",
       "      <td>50.324395</td>\n",
       "    </tr>\n",
       "    <tr>\n",
       "      <th>옥자</th>\n",
       "      <td>11.942017</td>\n",
       "    </tr>\n",
       "    <tr>\n",
       "      <th>승리호</th>\n",
       "      <td>37.927218</td>\n",
       "    </tr>\n",
       "  </tbody>\n",
       "</table>\n",
       "</div>"
      ],
      "text/plain": [
       "          Viral_Index\n",
       "오징어 게임     100.000000\n",
       "킹덤          50.223503\n",
       "보건교사 안은영    50.324395\n",
       "옥자          11.942017\n",
       "승리호         37.927218"
      ]
     },
     "execution_count": 92,
     "metadata": {},
     "output_type": "execute_result"
    }
   ],
   "source": [
    "# 2) 오징어 게임을 100으로 \n",
    "viral_index2 = netflix_pred_exp.apply(lambda x : (x/(max(x)) * 100))\n",
    "viral_index2.columns = ['Viral_Index']\n",
    "viral_index2"
   ]
  },
  {
   "cell_type": "code",
   "execution_count": 97,
   "metadata": {
    "ExecuteTime": {
     "end_time": "2021-12-06T06:01:06.085648Z",
     "start_time": "2021-12-06T06:01:06.070657Z"
    }
   },
   "outputs": [
    {
     "data": {
      "text/html": [
       "<div>\n",
       "<style scoped>\n",
       "    .dataframe tbody tr th:only-of-type {\n",
       "        vertical-align: middle;\n",
       "    }\n",
       "\n",
       "    .dataframe tbody tr th {\n",
       "        vertical-align: top;\n",
       "    }\n",
       "\n",
       "    .dataframe thead th {\n",
       "        text-align: right;\n",
       "    }\n",
       "</style>\n",
       "<table border=\"1\" class=\"dataframe\">\n",
       "  <thead>\n",
       "    <tr style=\"text-align: right;\">\n",
       "      <th></th>\n",
       "      <th>Viral_index</th>\n",
       "    </tr>\n",
       "  </thead>\n",
       "  <tbody>\n",
       "    <tr>\n",
       "      <th>오징어 게임</th>\n",
       "      <td>174.437905</td>\n",
       "    </tr>\n",
       "    <tr>\n",
       "      <th>킹덤</th>\n",
       "      <td>0.489510</td>\n",
       "    </tr>\n",
       "    <tr>\n",
       "      <th>보건교사 안은영</th>\n",
       "      <td>0.842087</td>\n",
       "    </tr>\n",
       "    <tr>\n",
       "      <th>옥자</th>\n",
       "      <td>-133.288550</td>\n",
       "    </tr>\n",
       "    <tr>\n",
       "      <th>승리호</th>\n",
       "      <td>-42.480951</td>\n",
       "    </tr>\n",
       "  </tbody>\n",
       "</table>\n",
       "</div>"
      ],
      "text/plain": [
       "          Viral_index\n",
       "오징어 게임     174.437905\n",
       "킹덤           0.489510\n",
       "보건교사 안은영     0.842087\n",
       "옥자        -133.288550\n",
       "승리호        -42.480951"
      ]
     },
     "execution_count": 97,
     "metadata": {},
     "output_type": "execute_result"
    }
   ],
   "source": [
    "# 3) 정규화 (평균 0 , 분산 1로 조정)\n",
    "std_scale = preprocessing.StandardScaler().fit(netflix_pred_exp)\n",
    "netflix_pred_norm = std_scale.transform(netflix_pred_exp)\n",
    "viral_index3 = pd.DataFrame(netflix_pred_norm*100, columns = ['Viral_index'], index = list(netflix_name))\n",
    "viral_index3"
   ]
  },
  {
   "cell_type": "markdown",
   "metadata": {},
   "source": [
    "### Function"
   ]
  },
  {
   "cell_type": "code",
   "execution_count": 139,
   "metadata": {
    "ExecuteTime": {
     "end_time": "2021-12-06T06:58:48.762501Z",
     "start_time": "2021-12-06T06:58:48.755502Z"
    }
   },
   "outputs": [],
   "source": [
    "# modeling에 포함되지 않는 columns 제거\n",
    "colums_rm = ['movie_name','release']\n",
    "def remove_columns(movie_df):\n",
    "    col = list(movie_df.columns)\n",
    "    for i in colums_rm:\n",
    "        col.remove(i)\n",
    "    movie_df = movie_df.loc[:, col]\n",
    "    \n",
    "    return movie_df"
   ]
  },
  {
   "cell_type": "code",
   "execution_count": 140,
   "metadata": {
    "ExecuteTime": {
     "end_time": "2021-12-06T06:58:49.884114Z",
     "start_time": "2021-12-06T06:58:49.877114Z"
    }
   },
   "outputs": [],
   "source": [
    "# df : 'movie_name', 'release', 'log_youtube_view_mean', 'sqrt_comment_count', 'sqrt_abs_mean_score', 'sqrt_actor_power' 의 columns이 존재하는 DataFrame\n",
    "\n",
    "def Viral_index(df):\n",
    "    name = df.loc[:,'movie_name']\n",
    "    df = remove_columns(df)\n",
    "    \n",
    "    # Normalize Data\n",
    "    df_norm = df\n",
    "    std_scale = preprocessing.StandardScaler().fit(df_norm)\n",
    "    modeling_df_norm = std_scale.transform(df_norm)\n",
    "\n",
    "    #Converting numpy array to dataframe\n",
    "    modeling_df_norm_col = pd.DataFrame(modeling_df_norm, index=df_norm.index, columns=df_norm.columns) \n",
    "    df.update(modeling_df_norm_col)\n",
    "    \n",
    "    netflix_pred = rf_fin.predict(df)\n",
    "    netflix_pred = pd.DataFrame(netflix_pred, columns = ['prediction'], index = list(name))\n",
    "    netflix_pred_exp = np.exp(netflix_pred)\n",
    "    \n",
    "    viral_index = netflix_pred_exp.apply(lambda x : (x/squidgame_pred_exp.values) * 100)\n",
    "    viral_index.columns = ['Viral_Index']\n",
    "\n",
    "    return viral_index\n",
    "   "
   ]
  },
  {
   "cell_type": "code",
   "execution_count": 141,
   "metadata": {
    "ExecuteTime": {
     "end_time": "2021-12-06T06:58:50.944748Z",
     "start_time": "2021-12-06T06:58:50.927659Z"
    }
   },
   "outputs": [
    {
     "data": {
      "text/html": [
       "<div>\n",
       "<style scoped>\n",
       "    .dataframe tbody tr th:only-of-type {\n",
       "        vertical-align: middle;\n",
       "    }\n",
       "\n",
       "    .dataframe tbody tr th {\n",
       "        vertical-align: top;\n",
       "    }\n",
       "\n",
       "    .dataframe thead th {\n",
       "        text-align: right;\n",
       "    }\n",
       "</style>\n",
       "<table border=\"1\" class=\"dataframe\">\n",
       "  <thead>\n",
       "    <tr style=\"text-align: right;\">\n",
       "      <th></th>\n",
       "      <th>movie_name</th>\n",
       "      <th>release</th>\n",
       "      <th>log_youtube_view_mean</th>\n",
       "      <th>sqrt_comment_count</th>\n",
       "      <th>sqrt_abs_mean_score</th>\n",
       "      <th>sqrt_actor_power</th>\n",
       "    </tr>\n",
       "  </thead>\n",
       "  <tbody>\n",
       "    <tr>\n",
       "      <th>0</th>\n",
       "      <td>오징어 게임</td>\n",
       "      <td>2021-09-17</td>\n",
       "      <td>17.495263</td>\n",
       "      <td>426.675521</td>\n",
       "      <td>0.936934</td>\n",
       "      <td>1355.394408</td>\n",
       "    </tr>\n",
       "    <tr>\n",
       "      <th>1</th>\n",
       "      <td>킹덤</td>\n",
       "      <td>2019-01-25</td>\n",
       "      <td>13.694569</td>\n",
       "      <td>61.343296</td>\n",
       "      <td>1.088073</td>\n",
       "      <td>2493.852375</td>\n",
       "    </tr>\n",
       "    <tr>\n",
       "      <th>2</th>\n",
       "      <td>보건교사 안은영</td>\n",
       "      <td>2020-09-25</td>\n",
       "      <td>14.163658</td>\n",
       "      <td>102.995146</td>\n",
       "      <td>1.004258</td>\n",
       "      <td>1743.877098</td>\n",
       "    </tr>\n",
       "    <tr>\n",
       "      <th>3</th>\n",
       "      <td>옥자</td>\n",
       "      <td>2017-05-19</td>\n",
       "      <td>12.470658</td>\n",
       "      <td>16.763055</td>\n",
       "      <td>1.195213</td>\n",
       "      <td>739.915705</td>\n",
       "    </tr>\n",
       "    <tr>\n",
       "      <th>4</th>\n",
       "      <td>승리호</td>\n",
       "      <td>2021-02-05</td>\n",
       "      <td>13.726683</td>\n",
       "      <td>101.326206</td>\n",
       "      <td>2.135418</td>\n",
       "      <td>1227.012632</td>\n",
       "    </tr>\n",
       "  </tbody>\n",
       "</table>\n",
       "</div>"
      ],
      "text/plain": [
       "  movie_name    release  log_youtube_view_mean  sqrt_comment_count  \\\n",
       "0     오징어 게임 2021-09-17              17.495263          426.675521   \n",
       "1         킹덤 2019-01-25              13.694569           61.343296   \n",
       "2   보건교사 안은영 2020-09-25              14.163658          102.995146   \n",
       "3         옥자 2017-05-19              12.470658           16.763055   \n",
       "4        승리호 2021-02-05              13.726683          101.326206   \n",
       "\n",
       "   sqrt_abs_mean_score  sqrt_actor_power  \n",
       "0             0.936934       1355.394408  \n",
       "1             1.088073       2493.852375  \n",
       "2             1.004258       1743.877098  \n",
       "3             1.195213        739.915705  \n",
       "4             2.135418       1227.012632  "
      ]
     },
     "execution_count": 141,
     "metadata": {},
     "output_type": "execute_result"
    }
   ],
   "source": [
    "netflix_df_tf_test = pd.read_excel('C:/Users/User/Desktop/Viral_Effect/SNS-scraping/Netflix_Data_transformation.xlsx').iloc[:,1:]\n",
    "netflix_df_tf_test"
   ]
  },
  {
   "cell_type": "code",
   "execution_count": 142,
   "metadata": {
    "ExecuteTime": {
     "end_time": "2021-12-06T06:58:52.471819Z",
     "start_time": "2021-12-06T06:58:52.362271Z"
    }
   },
   "outputs": [
    {
     "data": {
      "text/html": [
       "<div>\n",
       "<style scoped>\n",
       "    .dataframe tbody tr th:only-of-type {\n",
       "        vertical-align: middle;\n",
       "    }\n",
       "\n",
       "    .dataframe tbody tr th {\n",
       "        vertical-align: top;\n",
       "    }\n",
       "\n",
       "    .dataframe thead th {\n",
       "        text-align: right;\n",
       "    }\n",
       "</style>\n",
       "<table border=\"1\" class=\"dataframe\">\n",
       "  <thead>\n",
       "    <tr style=\"text-align: right;\">\n",
       "      <th></th>\n",
       "      <th>Viral_Index</th>\n",
       "    </tr>\n",
       "  </thead>\n",
       "  <tbody>\n",
       "    <tr>\n",
       "      <th>오징어 게임</th>\n",
       "      <td>100.000000</td>\n",
       "    </tr>\n",
       "    <tr>\n",
       "      <th>킹덤</th>\n",
       "      <td>50.223503</td>\n",
       "    </tr>\n",
       "    <tr>\n",
       "      <th>보건교사 안은영</th>\n",
       "      <td>50.324395</td>\n",
       "    </tr>\n",
       "    <tr>\n",
       "      <th>옥자</th>\n",
       "      <td>11.942017</td>\n",
       "    </tr>\n",
       "    <tr>\n",
       "      <th>승리호</th>\n",
       "      <td>37.927218</td>\n",
       "    </tr>\n",
       "  </tbody>\n",
       "</table>\n",
       "</div>"
      ],
      "text/plain": [
       "          Viral_Index\n",
       "오징어 게임     100.000000\n",
       "킹덤          50.223503\n",
       "보건교사 안은영    50.324395\n",
       "옥자          11.942017\n",
       "승리호         37.927218"
      ]
     },
     "execution_count": 142,
     "metadata": {},
     "output_type": "execute_result"
    }
   ],
   "source": [
    "Viral_index(netflix_df_tf_test)"
   ]
  },
  {
   "cell_type": "code",
   "execution_count": null,
   "metadata": {},
   "outputs": [],
   "source": []
  }
 ],
 "metadata": {
  "hide_input": false,
  "kernelspec": {
   "display_name": "Python 3",
   "language": "python",
   "name": "python3"
  },
  "language_info": {
   "codemirror_mode": {
    "name": "ipython",
    "version": 3
   },
   "file_extension": ".py",
   "mimetype": "text/x-python",
   "name": "python",
   "nbconvert_exporter": "python",
   "pygments_lexer": "ipython3",
   "version": "3.8.3"
  },
  "toc": {
   "base_numbering": 1,
   "nav_menu": {},
   "number_sections": true,
   "sideBar": true,
   "skip_h1_title": false,
   "title_cell": "Table of Contents",
   "title_sidebar": "Contents",
   "toc_cell": false,
   "toc_position": {
    "height": "calc(100% - 180px)",
    "left": "10px",
    "top": "150px",
    "width": "383.5px"
   },
   "toc_section_display": true,
   "toc_window_display": true
  },
  "varInspector": {
   "cols": {
    "lenName": 16,
    "lenType": 16,
    "lenVar": 40
   },
   "kernels_config": {
    "python": {
     "delete_cmd_postfix": "",
     "delete_cmd_prefix": "del ",
     "library": "var_list.py",
     "varRefreshCmd": "print(var_dic_list())"
    },
    "r": {
     "delete_cmd_postfix": ") ",
     "delete_cmd_prefix": "rm(",
     "library": "var_list.r",
     "varRefreshCmd": "cat(var_dic_list()) "
    }
   },
   "types_to_exclude": [
    "module",
    "function",
    "builtin_function_or_method",
    "instance",
    "_Feature"
   ],
   "window_display": false
  }
 },
 "nbformat": 4,
 "nbformat_minor": 4
}
