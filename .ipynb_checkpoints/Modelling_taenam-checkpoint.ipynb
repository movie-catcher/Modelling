{
 "cells": [
  {
   "cell_type": "code",
   "execution_count": 1,
   "metadata": {
    "colab": {
     "base_uri": "https://localhost:8080/"
    },
    "id": "0f8Ul6rkGJCU",
    "outputId": "35b9c165-c62d-43fa-9d96-e3815e2f81f3"
   },
   "outputs": [
    {
     "name": "stdout",
     "output_type": "stream",
     "text": [
      "/content/drive/MyDrive/Bigdata_project_moviecatcher/Modelling\n"
     ]
    }
   ],
   "source": [
    "cd /content/drive/MyDrive/Bigdata_project_moviecatcher/Modelling"
   ]
  },
  {
   "cell_type": "code",
   "execution_count": null,
   "metadata": {
    "id": "nhEvFS1AGIxH"
   },
   "outputs": [],
   "source": [
    "\"\"\"\n",
    "엘라스틱 - Ridge, Lasso 합친거니까 선택\n",
    "\n",
    "randomForest - 트리모형\n",
    "\n",
    "lightgbm - 트리모형\n",
    "\n",
    "xgboost - 트리모형\n",
    "\"\"\""
   ]
  },
  {
   "cell_type": "code",
   "execution_count": 2,
   "metadata": {
    "id": "LB1Z8Y72mjkp"
   },
   "outputs": [],
   "source": [
    "import pandas as pd\n",
    "import numpy as np\n",
    "import matplotlib.pyplot as plt\n",
    "import seaborn as sns\n",
    "\n",
    "from sklearn.linear_model import ElasticNet, ElasticNetCV # 두 개 구분\n",
    "from sklearn.ensemble import RandomForestRegressor\n",
    "from sklearn.model_selection import KFold, cross_val_score, train_test_split\n",
    "from sklearn.metrics import mean_squared_error, r2_score, mean_absolute_error \n",
    "import xgboost as xgb\n",
    "import lightgbm as lgb\n",
    "\n",
    "%matplotlib inline\n",
    "\n",
    "import warnings\n",
    "warnings.filterwarnings('ignore')"
   ]
  },
  {
   "cell_type": "markdown",
   "metadata": {
    "id": "UzISfvPnmcfZ"
   },
   "source": [
    "# Dataloader"
   ]
  },
  {
   "cell_type": "code",
   "execution_count": 3,
   "metadata": {
    "id": "2hZ9n86YmqpX"
   },
   "outputs": [],
   "source": [
    "import pandas as pd\n",
    "data = pd.read_excel('data/Modeling_Movie_Data.xlsx').iloc[:,1:]"
   ]
  },
  {
   "cell_type": "code",
   "execution_count": 4,
   "metadata": {
    "id": "wwbhDhIFEsLT"
   },
   "outputs": [],
   "source": [
    "# modeling에 포함되지 않는 columns 제거\n",
    "colums_rm = ['movie_name','release', 'take', 'code', 'kind', 'scale', 'actor']\n",
    "def remove_columns(movie_df):\n",
    "    col = list(movie_df.columns)\n",
    "    for i in colums_rm:\n",
    "        col.remove(i)\n",
    "    movie_df = movie_df.loc[:, col]\n",
    "    \n",
    "    return movie_df"
   ]
  },
  {
   "cell_type": "code",
   "execution_count": null,
   "metadata": {
    "id": "R6_M7UrnGFC4"
   },
   "outputs": [],
   "source": [
    "# 영화명 날림\n",
    "data = remove_columns(data)"
   ]
  },
  {
   "cell_type": "code",
   "execution_count": 7,
   "metadata": {
    "id": "hfGycfDoGE9-"
   },
   "outputs": [],
   "source": [
    "data.to_excel('data/Movie_Data_Final_Transformation_cut.xlsx')"
   ]
  },
  {
   "cell_type": "code",
   "execution_count": 5,
   "metadata": {
    "colab": {
     "base_uri": "https://localhost:8080/",
     "height": 423
    },
    "id": "6JguqYTzGE3r",
    "outputId": "7262faf3-1e29-4426-b427-686bcdb295ae"
   },
   "outputs": [
    {
     "data": {
      "text/html": [
       "<div>\n",
       "<style scoped>\n",
       "    .dataframe tbody tr th:only-of-type {\n",
       "        vertical-align: middle;\n",
       "    }\n",
       "\n",
       "    .dataframe tbody tr th {\n",
       "        vertical-align: top;\n",
       "    }\n",
       "\n",
       "    .dataframe thead th {\n",
       "        text-align: right;\n",
       "    }\n",
       "</style>\n",
       "<table border=\"1\" class=\"dataframe\">\n",
       "  <thead>\n",
       "    <tr style=\"text-align: right;\">\n",
       "      <th></th>\n",
       "      <th>nation</th>\n",
       "      <th>distribution_company</th>\n",
       "      <th>genre</th>\n",
       "      <th>running_time</th>\n",
       "      <th>age</th>\n",
       "      <th>log_youtube_view_mean</th>\n",
       "      <th>sqrt_comment_count</th>\n",
       "      <th>sqrt_abs_mean_score</th>\n",
       "      <th>sqrt_actor_power</th>\n",
       "    </tr>\n",
       "  </thead>\n",
       "  <tbody>\n",
       "    <tr>\n",
       "      <th>0</th>\n",
       "      <td>한국</td>\n",
       "      <td>(주)쇼박스</td>\n",
       "      <td>드라마</td>\n",
       "      <td>137</td>\n",
       "      <td>15세이상관람가</td>\n",
       "      <td>12.854272</td>\n",
       "      <td>56.462377</td>\n",
       "      <td>1.757064</td>\n",
       "      <td>3087.095601</td>\n",
       "    </tr>\n",
       "    <tr>\n",
       "      <th>1</th>\n",
       "      <td>한국</td>\n",
       "      <td>롯데쇼핑㈜롯데엔터테인먼트</td>\n",
       "      <td>판타지</td>\n",
       "      <td>139</td>\n",
       "      <td>12세이상관람가</td>\n",
       "      <td>13.229750</td>\n",
       "      <td>98.903994</td>\n",
       "      <td>1.228373</td>\n",
       "      <td>2605.491412</td>\n",
       "    </tr>\n",
       "    <tr>\n",
       "      <th>2</th>\n",
       "      <td>한국</td>\n",
       "      <td>(주)씨제이이엔엠</td>\n",
       "      <td>액션</td>\n",
       "      <td>125</td>\n",
       "      <td>15세이상관람가</td>\n",
       "      <td>13.543377</td>\n",
       "      <td>13.747727</td>\n",
       "      <td>1.201012</td>\n",
       "      <td>2227.585689</td>\n",
       "    </tr>\n",
       "    <tr>\n",
       "      <th>3</th>\n",
       "      <td>미국</td>\n",
       "      <td>소니픽쳐스엔터테인먼트코리아주식회사극장배급지점</td>\n",
       "      <td>액션</td>\n",
       "      <td>133</td>\n",
       "      <td>12세이상관람가</td>\n",
       "      <td>13.976041</td>\n",
       "      <td>68.709534</td>\n",
       "      <td>1.132482</td>\n",
       "      <td>2601.649400</td>\n",
       "    </tr>\n",
       "    <tr>\n",
       "      <th>4</th>\n",
       "      <td>한국</td>\n",
       "      <td>메가박스중앙(주)플러스엠</td>\n",
       "      <td>범죄</td>\n",
       "      <td>121</td>\n",
       "      <td>청소년관람불가</td>\n",
       "      <td>13.994693</td>\n",
       "      <td>33.481338</td>\n",
       "      <td>1.327871</td>\n",
       "      <td>1681.116620</td>\n",
       "    </tr>\n",
       "    <tr>\n",
       "      <th>...</th>\n",
       "      <td>...</td>\n",
       "      <td>...</td>\n",
       "      <td>...</td>\n",
       "      <td>...</td>\n",
       "      <td>...</td>\n",
       "      <td>...</td>\n",
       "      <td>...</td>\n",
       "      <td>...</td>\n",
       "      <td>...</td>\n",
       "    </tr>\n",
       "    <tr>\n",
       "      <th>185</th>\n",
       "      <td>영국</td>\n",
       "      <td>(주)이놀미디어</td>\n",
       "      <td>어드벤처</td>\n",
       "      <td>106</td>\n",
       "      <td>12세이상관람가</td>\n",
       "      <td>12.759889</td>\n",
       "      <td>14.387495</td>\n",
       "      <td>0.889668</td>\n",
       "      <td>286.918397</td>\n",
       "    </tr>\n",
       "    <tr>\n",
       "      <th>186</th>\n",
       "      <td>한국</td>\n",
       "      <td>(주)키위미디어그룹</td>\n",
       "      <td>액션</td>\n",
       "      <td>100</td>\n",
       "      <td>15세이상관람가</td>\n",
       "      <td>12.194363</td>\n",
       "      <td>23.043437</td>\n",
       "      <td>1.740139</td>\n",
       "      <td>436.161667</td>\n",
       "    </tr>\n",
       "    <tr>\n",
       "      <th>187</th>\n",
       "      <td>한국</td>\n",
       "      <td>워너브러더스 코리아(주)</td>\n",
       "      <td>멜로/로맨스</td>\n",
       "      <td>116</td>\n",
       "      <td>15세이상관람가</td>\n",
       "      <td>11.006664</td>\n",
       "      <td>33.645208</td>\n",
       "      <td>1.561743</td>\n",
       "      <td>1155.563326</td>\n",
       "    </tr>\n",
       "    <tr>\n",
       "      <th>188</th>\n",
       "      <td>한국</td>\n",
       "      <td>(주)에이스메이커무비웍스</td>\n",
       "      <td>미스터리</td>\n",
       "      <td>104</td>\n",
       "      <td>15세이상관람가</td>\n",
       "      <td>10.778888</td>\n",
       "      <td>27.928480</td>\n",
       "      <td>1.795978</td>\n",
       "      <td>1368.275557</td>\n",
       "    </tr>\n",
       "    <tr>\n",
       "      <th>189</th>\n",
       "      <td>미국</td>\n",
       "      <td>(주)홈초이스</td>\n",
       "      <td>드라마</td>\n",
       "      <td>108</td>\n",
       "      <td>15세이상관람가</td>\n",
       "      <td>8.983176</td>\n",
       "      <td>11.916375</td>\n",
       "      <td>2.091052</td>\n",
       "      <td>723.705914</td>\n",
       "    </tr>\n",
       "  </tbody>\n",
       "</table>\n",
       "<p>190 rows × 9 columns</p>\n",
       "</div>"
      ],
      "text/plain": [
       "    nation      distribution_company  ... sqrt_abs_mean_score  sqrt_actor_power\n",
       "0       한국                    (주)쇼박스  ...            1.757064       3087.095601\n",
       "1       한국             롯데쇼핑㈜롯데엔터테인먼트  ...            1.228373       2605.491412\n",
       "2       한국                 (주)씨제이이엔엠  ...            1.201012       2227.585689\n",
       "3       미국  소니픽쳐스엔터테인먼트코리아주식회사극장배급지점  ...            1.132482       2601.649400\n",
       "4       한국             메가박스중앙(주)플러스엠  ...            1.327871       1681.116620\n",
       "..     ...                       ...  ...                 ...               ...\n",
       "185     영국                  (주)이놀미디어  ...            0.889668        286.918397\n",
       "186     한국                (주)키위미디어그룹  ...            1.740139        436.161667\n",
       "187     한국             워너브러더스 코리아(주)  ...            1.561743       1155.563326\n",
       "188     한국             (주)에이스메이커무비웍스  ...            1.795978       1368.275557\n",
       "189     미국                   (주)홈초이스  ...            2.091052        723.705914\n",
       "\n",
       "[190 rows x 9 columns]"
      ]
     },
     "execution_count": 5,
     "metadata": {},
     "output_type": "execute_result"
    }
   ],
   "source": [
    "# 영화명 날림\n",
    "modeling_data = data.iloc[:,1:].copy()\n",
    "modeling_data"
   ]
  },
  {
   "cell_type": "markdown",
   "metadata": {
    "id": "4Y2wMVQxnBIe"
   },
   "source": [
    "# One-hot Encoding"
   ]
  },
  {
   "cell_type": "code",
   "execution_count": null,
   "metadata": {
    "id": "xTKPxwnquMBN"
   },
   "outputs": [],
   "source": []
  },
  {
   "cell_type": "code",
   "execution_count": 6,
   "metadata": {
    "id": "k3YmpMZCnAne"
   },
   "outputs": [],
   "source": [
    "data = pd.get_dummies(data = data, columns = ['nation'], prefix = 'nation')\n",
    "data = pd.get_dummies(data = data, columns = ['distribution_company'], prefix = 'distribution_company')\n",
    "data = pd.get_dummies(data = data, columns = ['genre'], prefix = 'genre')\n",
    "data = pd.get_dummies(data = data, columns = ['age'], prefix = 'age')"
   ]
  },
  {
   "cell_type": "code",
   "execution_count": 7,
   "metadata": {
    "id": "QiaEFqWQnAS5"
   },
   "outputs": [],
   "source": [
    "x = data.iloc[:,1:] \n",
    "y = np.log(data.iloc[:,0]) # 관객수 log transformation"
   ]
  },
  {
   "cell_type": "code",
   "execution_count": 8,
   "metadata": {
    "colab": {
     "base_uri": "https://localhost:8080/",
     "height": 513
    },
    "id": "BLlC_BvwLE-I",
    "outputId": "4aa2981e-3463-4a2f-eee7-a4cd1ab23278"
   },
   "outputs": [
    {
     "data": {
      "text/html": [
       "<div>\n",
       "<style scoped>\n",
       "    .dataframe tbody tr th:only-of-type {\n",
       "        vertical-align: middle;\n",
       "    }\n",
       "\n",
       "    .dataframe tbody tr th {\n",
       "        vertical-align: top;\n",
       "    }\n",
       "\n",
       "    .dataframe thead th {\n",
       "        text-align: right;\n",
       "    }\n",
       "</style>\n",
       "<table border=\"1\" class=\"dataframe\">\n",
       "  <thead>\n",
       "    <tr style=\"text-align: right;\">\n",
       "      <th></th>\n",
       "      <th>running_time</th>\n",
       "      <th>log_youtube_view_mean</th>\n",
       "      <th>sqrt_comment_count</th>\n",
       "      <th>sqrt_abs_mean_score</th>\n",
       "      <th>sqrt_actor_power</th>\n",
       "      <th>nation_미국</th>\n",
       "      <th>nation_영국</th>\n",
       "      <th>nation_일본</th>\n",
       "      <th>nation_한국</th>\n",
       "      <th>distribution_company_(주)넥스트엔터테인먼트월드(NEW)</th>\n",
       "      <th>distribution_company_(주)누리픽쳐스</th>\n",
       "      <th>distribution_company_(주)리틀빅픽쳐스</th>\n",
       "      <th>distribution_company_(주)메리크리스마스</th>\n",
       "      <th>distribution_company_(주)쇼박스</th>\n",
       "      <th>distribution_company_(주)스마일이엔티</th>\n",
       "      <th>distribution_company_(주)씨제이이엔엠</th>\n",
       "      <th>distribution_company_(주)에이스메이커무비웍스</th>\n",
       "      <th>distribution_company_(주)이놀미디어</th>\n",
       "      <th>distribution_company_(주)제이앤씨미디어그룹</th>\n",
       "      <th>distribution_company_(주)키다리이엔티</th>\n",
       "      <th>distribution_company_(주)키위미디어그룹</th>\n",
       "      <th>distribution_company_(주)홈초이스</th>\n",
       "      <th>distribution_company_CGV아트하우스</th>\n",
       "      <th>distribution_company_롯데쇼핑㈜롯데엔터테인먼트</th>\n",
       "      <th>distribution_company_롯데컬처웍스(주)롯데엔터테인먼트</th>\n",
       "      <th>distribution_company_메가박스중앙(주)플러스엠</th>\n",
       "      <th>distribution_company_소니픽쳐스엔터테인먼트코리아주식회사극장배급지점</th>\n",
       "      <th>distribution_company_오퍼스픽쳐스(유)</th>\n",
       "      <th>distribution_company_워너브러더스 코리아(주)</th>\n",
       "      <th>distribution_company_월트디즈니컴퍼니코리아 유한책임회사</th>\n",
       "      <th>distribution_company_유니버설픽쳐스인터내셔널 코리아(유)</th>\n",
       "      <th>distribution_company_이십세기폭스코리아(주)</th>\n",
       "      <th>genre_SF</th>\n",
       "      <th>genre_공포(호러)</th>\n",
       "      <th>genre_다큐멘터리</th>\n",
       "      <th>genre_드라마</th>\n",
       "      <th>genre_멜로/로맨스</th>\n",
       "      <th>genre_뮤지컬</th>\n",
       "      <th>genre_미스터리</th>\n",
       "      <th>genre_범죄</th>\n",
       "      <th>genre_사극</th>\n",
       "      <th>genre_스릴러</th>\n",
       "      <th>genre_애니메이션</th>\n",
       "      <th>genre_액션</th>\n",
       "      <th>genre_어드벤처</th>\n",
       "      <th>genre_전쟁</th>\n",
       "      <th>genre_코미디</th>\n",
       "      <th>genre_판타지</th>\n",
       "      <th>age_12세이상관람가</th>\n",
       "      <th>age_15세이상관람가</th>\n",
       "      <th>age_전체관람가</th>\n",
       "      <th>age_청소년관람불가</th>\n",
       "    </tr>\n",
       "  </thead>\n",
       "  <tbody>\n",
       "    <tr>\n",
       "      <th>0</th>\n",
       "      <td>137</td>\n",
       "      <td>12.854272</td>\n",
       "      <td>56.462377</td>\n",
       "      <td>1.757064</td>\n",
       "      <td>3087.095601</td>\n",
       "      <td>0</td>\n",
       "      <td>0</td>\n",
       "      <td>0</td>\n",
       "      <td>1</td>\n",
       "      <td>0</td>\n",
       "      <td>0</td>\n",
       "      <td>0</td>\n",
       "      <td>0</td>\n",
       "      <td>1</td>\n",
       "      <td>0</td>\n",
       "      <td>0</td>\n",
       "      <td>0</td>\n",
       "      <td>0</td>\n",
       "      <td>0</td>\n",
       "      <td>0</td>\n",
       "      <td>0</td>\n",
       "      <td>0</td>\n",
       "      <td>0</td>\n",
       "      <td>0</td>\n",
       "      <td>0</td>\n",
       "      <td>0</td>\n",
       "      <td>0</td>\n",
       "      <td>0</td>\n",
       "      <td>0</td>\n",
       "      <td>0</td>\n",
       "      <td>0</td>\n",
       "      <td>0</td>\n",
       "      <td>0</td>\n",
       "      <td>0</td>\n",
       "      <td>0</td>\n",
       "      <td>1</td>\n",
       "      <td>0</td>\n",
       "      <td>0</td>\n",
       "      <td>0</td>\n",
       "      <td>0</td>\n",
       "      <td>0</td>\n",
       "      <td>0</td>\n",
       "      <td>0</td>\n",
       "      <td>0</td>\n",
       "      <td>0</td>\n",
       "      <td>0</td>\n",
       "      <td>0</td>\n",
       "      <td>0</td>\n",
       "      <td>0</td>\n",
       "      <td>1</td>\n",
       "      <td>0</td>\n",
       "      <td>0</td>\n",
       "    </tr>\n",
       "    <tr>\n",
       "      <th>1</th>\n",
       "      <td>139</td>\n",
       "      <td>13.229750</td>\n",
       "      <td>98.903994</td>\n",
       "      <td>1.228373</td>\n",
       "      <td>2605.491412</td>\n",
       "      <td>0</td>\n",
       "      <td>0</td>\n",
       "      <td>0</td>\n",
       "      <td>1</td>\n",
       "      <td>0</td>\n",
       "      <td>0</td>\n",
       "      <td>0</td>\n",
       "      <td>0</td>\n",
       "      <td>0</td>\n",
       "      <td>0</td>\n",
       "      <td>0</td>\n",
       "      <td>0</td>\n",
       "      <td>0</td>\n",
       "      <td>0</td>\n",
       "      <td>0</td>\n",
       "      <td>0</td>\n",
       "      <td>0</td>\n",
       "      <td>0</td>\n",
       "      <td>1</td>\n",
       "      <td>0</td>\n",
       "      <td>0</td>\n",
       "      <td>0</td>\n",
       "      <td>0</td>\n",
       "      <td>0</td>\n",
       "      <td>0</td>\n",
       "      <td>0</td>\n",
       "      <td>0</td>\n",
       "      <td>0</td>\n",
       "      <td>0</td>\n",
       "      <td>0</td>\n",
       "      <td>0</td>\n",
       "      <td>0</td>\n",
       "      <td>0</td>\n",
       "      <td>0</td>\n",
       "      <td>0</td>\n",
       "      <td>0</td>\n",
       "      <td>0</td>\n",
       "      <td>0</td>\n",
       "      <td>0</td>\n",
       "      <td>0</td>\n",
       "      <td>0</td>\n",
       "      <td>0</td>\n",
       "      <td>1</td>\n",
       "      <td>1</td>\n",
       "      <td>0</td>\n",
       "      <td>0</td>\n",
       "      <td>0</td>\n",
       "    </tr>\n",
       "    <tr>\n",
       "      <th>2</th>\n",
       "      <td>125</td>\n",
       "      <td>13.543377</td>\n",
       "      <td>13.747727</td>\n",
       "      <td>1.201012</td>\n",
       "      <td>2227.585689</td>\n",
       "      <td>0</td>\n",
       "      <td>0</td>\n",
       "      <td>0</td>\n",
       "      <td>1</td>\n",
       "      <td>0</td>\n",
       "      <td>0</td>\n",
       "      <td>0</td>\n",
       "      <td>0</td>\n",
       "      <td>0</td>\n",
       "      <td>0</td>\n",
       "      <td>1</td>\n",
       "      <td>0</td>\n",
       "      <td>0</td>\n",
       "      <td>0</td>\n",
       "      <td>0</td>\n",
       "      <td>0</td>\n",
       "      <td>0</td>\n",
       "      <td>0</td>\n",
       "      <td>0</td>\n",
       "      <td>0</td>\n",
       "      <td>0</td>\n",
       "      <td>0</td>\n",
       "      <td>0</td>\n",
       "      <td>0</td>\n",
       "      <td>0</td>\n",
       "      <td>0</td>\n",
       "      <td>0</td>\n",
       "      <td>0</td>\n",
       "      <td>0</td>\n",
       "      <td>0</td>\n",
       "      <td>0</td>\n",
       "      <td>0</td>\n",
       "      <td>0</td>\n",
       "      <td>0</td>\n",
       "      <td>0</td>\n",
       "      <td>0</td>\n",
       "      <td>0</td>\n",
       "      <td>0</td>\n",
       "      <td>1</td>\n",
       "      <td>0</td>\n",
       "      <td>0</td>\n",
       "      <td>0</td>\n",
       "      <td>0</td>\n",
       "      <td>0</td>\n",
       "      <td>1</td>\n",
       "      <td>0</td>\n",
       "      <td>0</td>\n",
       "    </tr>\n",
       "    <tr>\n",
       "      <th>3</th>\n",
       "      <td>133</td>\n",
       "      <td>13.976041</td>\n",
       "      <td>68.709534</td>\n",
       "      <td>1.132482</td>\n",
       "      <td>2601.649400</td>\n",
       "      <td>1</td>\n",
       "      <td>0</td>\n",
       "      <td>0</td>\n",
       "      <td>0</td>\n",
       "      <td>0</td>\n",
       "      <td>0</td>\n",
       "      <td>0</td>\n",
       "      <td>0</td>\n",
       "      <td>0</td>\n",
       "      <td>0</td>\n",
       "      <td>0</td>\n",
       "      <td>0</td>\n",
       "      <td>0</td>\n",
       "      <td>0</td>\n",
       "      <td>0</td>\n",
       "      <td>0</td>\n",
       "      <td>0</td>\n",
       "      <td>0</td>\n",
       "      <td>0</td>\n",
       "      <td>0</td>\n",
       "      <td>0</td>\n",
       "      <td>1</td>\n",
       "      <td>0</td>\n",
       "      <td>0</td>\n",
       "      <td>0</td>\n",
       "      <td>0</td>\n",
       "      <td>0</td>\n",
       "      <td>0</td>\n",
       "      <td>0</td>\n",
       "      <td>0</td>\n",
       "      <td>0</td>\n",
       "      <td>0</td>\n",
       "      <td>0</td>\n",
       "      <td>0</td>\n",
       "      <td>0</td>\n",
       "      <td>0</td>\n",
       "      <td>0</td>\n",
       "      <td>0</td>\n",
       "      <td>1</td>\n",
       "      <td>0</td>\n",
       "      <td>0</td>\n",
       "      <td>0</td>\n",
       "      <td>0</td>\n",
       "      <td>1</td>\n",
       "      <td>0</td>\n",
       "      <td>0</td>\n",
       "      <td>0</td>\n",
       "    </tr>\n",
       "    <tr>\n",
       "      <th>4</th>\n",
       "      <td>121</td>\n",
       "      <td>13.994693</td>\n",
       "      <td>33.481338</td>\n",
       "      <td>1.327871</td>\n",
       "      <td>1681.116620</td>\n",
       "      <td>0</td>\n",
       "      <td>0</td>\n",
       "      <td>0</td>\n",
       "      <td>1</td>\n",
       "      <td>0</td>\n",
       "      <td>0</td>\n",
       "      <td>0</td>\n",
       "      <td>0</td>\n",
       "      <td>0</td>\n",
       "      <td>0</td>\n",
       "      <td>0</td>\n",
       "      <td>0</td>\n",
       "      <td>0</td>\n",
       "      <td>0</td>\n",
       "      <td>0</td>\n",
       "      <td>0</td>\n",
       "      <td>0</td>\n",
       "      <td>0</td>\n",
       "      <td>0</td>\n",
       "      <td>0</td>\n",
       "      <td>1</td>\n",
       "      <td>0</td>\n",
       "      <td>0</td>\n",
       "      <td>0</td>\n",
       "      <td>0</td>\n",
       "      <td>0</td>\n",
       "      <td>0</td>\n",
       "      <td>0</td>\n",
       "      <td>0</td>\n",
       "      <td>0</td>\n",
       "      <td>0</td>\n",
       "      <td>0</td>\n",
       "      <td>0</td>\n",
       "      <td>0</td>\n",
       "      <td>1</td>\n",
       "      <td>0</td>\n",
       "      <td>0</td>\n",
       "      <td>0</td>\n",
       "      <td>0</td>\n",
       "      <td>0</td>\n",
       "      <td>0</td>\n",
       "      <td>0</td>\n",
       "      <td>0</td>\n",
       "      <td>0</td>\n",
       "      <td>0</td>\n",
       "      <td>0</td>\n",
       "      <td>1</td>\n",
       "    </tr>\n",
       "    <tr>\n",
       "      <th>...</th>\n",
       "      <td>...</td>\n",
       "      <td>...</td>\n",
       "      <td>...</td>\n",
       "      <td>...</td>\n",
       "      <td>...</td>\n",
       "      <td>...</td>\n",
       "      <td>...</td>\n",
       "      <td>...</td>\n",
       "      <td>...</td>\n",
       "      <td>...</td>\n",
       "      <td>...</td>\n",
       "      <td>...</td>\n",
       "      <td>...</td>\n",
       "      <td>...</td>\n",
       "      <td>...</td>\n",
       "      <td>...</td>\n",
       "      <td>...</td>\n",
       "      <td>...</td>\n",
       "      <td>...</td>\n",
       "      <td>...</td>\n",
       "      <td>...</td>\n",
       "      <td>...</td>\n",
       "      <td>...</td>\n",
       "      <td>...</td>\n",
       "      <td>...</td>\n",
       "      <td>...</td>\n",
       "      <td>...</td>\n",
       "      <td>...</td>\n",
       "      <td>...</td>\n",
       "      <td>...</td>\n",
       "      <td>...</td>\n",
       "      <td>...</td>\n",
       "      <td>...</td>\n",
       "      <td>...</td>\n",
       "      <td>...</td>\n",
       "      <td>...</td>\n",
       "      <td>...</td>\n",
       "      <td>...</td>\n",
       "      <td>...</td>\n",
       "      <td>...</td>\n",
       "      <td>...</td>\n",
       "      <td>...</td>\n",
       "      <td>...</td>\n",
       "      <td>...</td>\n",
       "      <td>...</td>\n",
       "      <td>...</td>\n",
       "      <td>...</td>\n",
       "      <td>...</td>\n",
       "      <td>...</td>\n",
       "      <td>...</td>\n",
       "      <td>...</td>\n",
       "      <td>...</td>\n",
       "    </tr>\n",
       "    <tr>\n",
       "      <th>185</th>\n",
       "      <td>106</td>\n",
       "      <td>12.759889</td>\n",
       "      <td>14.387495</td>\n",
       "      <td>0.889668</td>\n",
       "      <td>286.918397</td>\n",
       "      <td>0</td>\n",
       "      <td>1</td>\n",
       "      <td>0</td>\n",
       "      <td>0</td>\n",
       "      <td>0</td>\n",
       "      <td>0</td>\n",
       "      <td>0</td>\n",
       "      <td>0</td>\n",
       "      <td>0</td>\n",
       "      <td>0</td>\n",
       "      <td>0</td>\n",
       "      <td>0</td>\n",
       "      <td>1</td>\n",
       "      <td>0</td>\n",
       "      <td>0</td>\n",
       "      <td>0</td>\n",
       "      <td>0</td>\n",
       "      <td>0</td>\n",
       "      <td>0</td>\n",
       "      <td>0</td>\n",
       "      <td>0</td>\n",
       "      <td>0</td>\n",
       "      <td>0</td>\n",
       "      <td>0</td>\n",
       "      <td>0</td>\n",
       "      <td>0</td>\n",
       "      <td>0</td>\n",
       "      <td>0</td>\n",
       "      <td>0</td>\n",
       "      <td>0</td>\n",
       "      <td>0</td>\n",
       "      <td>0</td>\n",
       "      <td>0</td>\n",
       "      <td>0</td>\n",
       "      <td>0</td>\n",
       "      <td>0</td>\n",
       "      <td>0</td>\n",
       "      <td>0</td>\n",
       "      <td>0</td>\n",
       "      <td>1</td>\n",
       "      <td>0</td>\n",
       "      <td>0</td>\n",
       "      <td>0</td>\n",
       "      <td>1</td>\n",
       "      <td>0</td>\n",
       "      <td>0</td>\n",
       "      <td>0</td>\n",
       "    </tr>\n",
       "    <tr>\n",
       "      <th>186</th>\n",
       "      <td>100</td>\n",
       "      <td>12.194363</td>\n",
       "      <td>23.043437</td>\n",
       "      <td>1.740139</td>\n",
       "      <td>436.161667</td>\n",
       "      <td>0</td>\n",
       "      <td>0</td>\n",
       "      <td>0</td>\n",
       "      <td>1</td>\n",
       "      <td>0</td>\n",
       "      <td>0</td>\n",
       "      <td>0</td>\n",
       "      <td>0</td>\n",
       "      <td>0</td>\n",
       "      <td>0</td>\n",
       "      <td>0</td>\n",
       "      <td>0</td>\n",
       "      <td>0</td>\n",
       "      <td>0</td>\n",
       "      <td>0</td>\n",
       "      <td>1</td>\n",
       "      <td>0</td>\n",
       "      <td>0</td>\n",
       "      <td>0</td>\n",
       "      <td>0</td>\n",
       "      <td>0</td>\n",
       "      <td>0</td>\n",
       "      <td>0</td>\n",
       "      <td>0</td>\n",
       "      <td>0</td>\n",
       "      <td>0</td>\n",
       "      <td>0</td>\n",
       "      <td>0</td>\n",
       "      <td>0</td>\n",
       "      <td>0</td>\n",
       "      <td>0</td>\n",
       "      <td>0</td>\n",
       "      <td>0</td>\n",
       "      <td>0</td>\n",
       "      <td>0</td>\n",
       "      <td>0</td>\n",
       "      <td>0</td>\n",
       "      <td>0</td>\n",
       "      <td>1</td>\n",
       "      <td>0</td>\n",
       "      <td>0</td>\n",
       "      <td>0</td>\n",
       "      <td>0</td>\n",
       "      <td>0</td>\n",
       "      <td>1</td>\n",
       "      <td>0</td>\n",
       "      <td>0</td>\n",
       "    </tr>\n",
       "    <tr>\n",
       "      <th>187</th>\n",
       "      <td>116</td>\n",
       "      <td>11.006664</td>\n",
       "      <td>33.645208</td>\n",
       "      <td>1.561743</td>\n",
       "      <td>1155.563326</td>\n",
       "      <td>0</td>\n",
       "      <td>0</td>\n",
       "      <td>0</td>\n",
       "      <td>1</td>\n",
       "      <td>0</td>\n",
       "      <td>0</td>\n",
       "      <td>0</td>\n",
       "      <td>0</td>\n",
       "      <td>0</td>\n",
       "      <td>0</td>\n",
       "      <td>0</td>\n",
       "      <td>0</td>\n",
       "      <td>0</td>\n",
       "      <td>0</td>\n",
       "      <td>0</td>\n",
       "      <td>0</td>\n",
       "      <td>0</td>\n",
       "      <td>0</td>\n",
       "      <td>0</td>\n",
       "      <td>0</td>\n",
       "      <td>0</td>\n",
       "      <td>0</td>\n",
       "      <td>0</td>\n",
       "      <td>1</td>\n",
       "      <td>0</td>\n",
       "      <td>0</td>\n",
       "      <td>0</td>\n",
       "      <td>0</td>\n",
       "      <td>0</td>\n",
       "      <td>0</td>\n",
       "      <td>0</td>\n",
       "      <td>1</td>\n",
       "      <td>0</td>\n",
       "      <td>0</td>\n",
       "      <td>0</td>\n",
       "      <td>0</td>\n",
       "      <td>0</td>\n",
       "      <td>0</td>\n",
       "      <td>0</td>\n",
       "      <td>0</td>\n",
       "      <td>0</td>\n",
       "      <td>0</td>\n",
       "      <td>0</td>\n",
       "      <td>0</td>\n",
       "      <td>1</td>\n",
       "      <td>0</td>\n",
       "      <td>0</td>\n",
       "    </tr>\n",
       "    <tr>\n",
       "      <th>188</th>\n",
       "      <td>104</td>\n",
       "      <td>10.778888</td>\n",
       "      <td>27.928480</td>\n",
       "      <td>1.795978</td>\n",
       "      <td>1368.275557</td>\n",
       "      <td>0</td>\n",
       "      <td>0</td>\n",
       "      <td>0</td>\n",
       "      <td>1</td>\n",
       "      <td>0</td>\n",
       "      <td>0</td>\n",
       "      <td>0</td>\n",
       "      <td>0</td>\n",
       "      <td>0</td>\n",
       "      <td>0</td>\n",
       "      <td>0</td>\n",
       "      <td>1</td>\n",
       "      <td>0</td>\n",
       "      <td>0</td>\n",
       "      <td>0</td>\n",
       "      <td>0</td>\n",
       "      <td>0</td>\n",
       "      <td>0</td>\n",
       "      <td>0</td>\n",
       "      <td>0</td>\n",
       "      <td>0</td>\n",
       "      <td>0</td>\n",
       "      <td>0</td>\n",
       "      <td>0</td>\n",
       "      <td>0</td>\n",
       "      <td>0</td>\n",
       "      <td>0</td>\n",
       "      <td>0</td>\n",
       "      <td>0</td>\n",
       "      <td>0</td>\n",
       "      <td>0</td>\n",
       "      <td>0</td>\n",
       "      <td>0</td>\n",
       "      <td>1</td>\n",
       "      <td>0</td>\n",
       "      <td>0</td>\n",
       "      <td>0</td>\n",
       "      <td>0</td>\n",
       "      <td>0</td>\n",
       "      <td>0</td>\n",
       "      <td>0</td>\n",
       "      <td>0</td>\n",
       "      <td>0</td>\n",
       "      <td>0</td>\n",
       "      <td>1</td>\n",
       "      <td>0</td>\n",
       "      <td>0</td>\n",
       "    </tr>\n",
       "    <tr>\n",
       "      <th>189</th>\n",
       "      <td>108</td>\n",
       "      <td>8.983176</td>\n",
       "      <td>11.916375</td>\n",
       "      <td>2.091052</td>\n",
       "      <td>723.705914</td>\n",
       "      <td>1</td>\n",
       "      <td>0</td>\n",
       "      <td>0</td>\n",
       "      <td>0</td>\n",
       "      <td>0</td>\n",
       "      <td>0</td>\n",
       "      <td>0</td>\n",
       "      <td>0</td>\n",
       "      <td>0</td>\n",
       "      <td>0</td>\n",
       "      <td>0</td>\n",
       "      <td>0</td>\n",
       "      <td>0</td>\n",
       "      <td>0</td>\n",
       "      <td>0</td>\n",
       "      <td>0</td>\n",
       "      <td>1</td>\n",
       "      <td>0</td>\n",
       "      <td>0</td>\n",
       "      <td>0</td>\n",
       "      <td>0</td>\n",
       "      <td>0</td>\n",
       "      <td>0</td>\n",
       "      <td>0</td>\n",
       "      <td>0</td>\n",
       "      <td>0</td>\n",
       "      <td>0</td>\n",
       "      <td>0</td>\n",
       "      <td>0</td>\n",
       "      <td>0</td>\n",
       "      <td>1</td>\n",
       "      <td>0</td>\n",
       "      <td>0</td>\n",
       "      <td>0</td>\n",
       "      <td>0</td>\n",
       "      <td>0</td>\n",
       "      <td>0</td>\n",
       "      <td>0</td>\n",
       "      <td>0</td>\n",
       "      <td>0</td>\n",
       "      <td>0</td>\n",
       "      <td>0</td>\n",
       "      <td>0</td>\n",
       "      <td>0</td>\n",
       "      <td>1</td>\n",
       "      <td>0</td>\n",
       "      <td>0</td>\n",
       "    </tr>\n",
       "  </tbody>\n",
       "</table>\n",
       "<p>190 rows × 52 columns</p>\n",
       "</div>"
      ],
      "text/plain": [
       "     running_time  log_youtube_view_mean  ...  age_전체관람가  age_청소년관람불가\n",
       "0             137              12.854272  ...          0            0\n",
       "1             139              13.229750  ...          0            0\n",
       "2             125              13.543377  ...          0            0\n",
       "3             133              13.976041  ...          0            0\n",
       "4             121              13.994693  ...          0            1\n",
       "..            ...                    ...  ...        ...          ...\n",
       "185           106              12.759889  ...          0            0\n",
       "186           100              12.194363  ...          0            0\n",
       "187           116              11.006664  ...          0            0\n",
       "188           104              10.778888  ...          0            0\n",
       "189           108               8.983176  ...          0            0\n",
       "\n",
       "[190 rows x 52 columns]"
      ]
     },
     "execution_count": 8,
     "metadata": {},
     "output_type": "execute_result"
    }
   ],
   "source": [
    "x"
   ]
  },
  {
   "cell_type": "code",
   "execution_count": 9,
   "metadata": {
    "colab": {
     "base_uri": "https://localhost:8080/"
    },
    "id": "1p1PD25RPi0z",
    "outputId": "3bb2cc5d-1f47-47c0-cfc0-e440ebac4083"
   },
   "outputs": [
    {
     "data": {
      "text/plain": [
       "0      16.315825\n",
       "1      17.176684\n",
       "2      15.871890\n",
       "3      15.797708\n",
       "4      15.744106\n",
       "         ...    \n",
       "185    12.287911\n",
       "186    12.156026\n",
       "187    12.136974\n",
       "188    12.132437\n",
       "189    12.111905\n",
       "Name: audience, Length: 190, dtype: float64"
      ]
     },
     "execution_count": 9,
     "metadata": {},
     "output_type": "execute_result"
    }
   ],
   "source": [
    "y"
   ]
  },
  {
   "cell_type": "markdown",
   "metadata": {
    "id": "I07JbOYHnKFT"
   },
   "source": [
    "# Models"
   ]
  },
  {
   "cell_type": "code",
   "execution_count": 10,
   "metadata": {
    "id": "Qp4MsT9EnAKf"
   },
   "outputs": [],
   "source": [
    "# Test set 따로 잘라주기\n",
    "\n",
    "xtrain, xtest, ytrain, ytest = train_test_split(x, y, test_size=0.2, random_state=0)"
   ]
  },
  {
   "cell_type": "code",
   "execution_count": 11,
   "metadata": {
    "id": "xPE7GevlxRbV"
   },
   "outputs": [],
   "source": [
    "# 결과 저장 리스트 생성\n",
    "\n",
    "res_scores = [0,0,0,0]"
   ]
  },
  {
   "cell_type": "markdown",
   "metadata": {
    "id": "o6UWlun5nUw4"
   },
   "source": [
    "## ElasticNet"
   ]
  },
  {
   "cell_type": "code",
   "execution_count": 11,
   "metadata": {
    "colab": {
     "base_uri": "https://localhost:8080/"
    },
    "id": "dWl-YjkAnUlB",
    "outputId": "85eefe02-cac5-4809-c7c4-c44520d86a37"
   },
   "outputs": [
    {
     "name": "stdout",
     "output_type": "stream",
     "text": [
      "Alpha:0.0001, R2:0.68, MSE:0.31, RMSE:0.56\n",
      "Alpha:0.0010, R2:0.68, MSE:0.31, RMSE:0.56\n",
      "Alpha:0.0100, R2:0.62, MSE:0.38, RMSE:0.61\n",
      "Alpha:0.1000, R2:0.56, MSE:0.43, RMSE:0.65\n",
      "Alpha:0.3000, R2:0.54, MSE:0.45, RMSE:0.67\n",
      "Alpha:0.5000, R2:0.54, MSE:0.45, RMSE:0.67\n",
      "Alpha:0.7000, R2:0.54, MSE:0.45, RMSE:0.67\n",
      "Alpha:1.0000, R2:0.54, MSE:0.45, RMSE:0.67\n"
     ]
    }
   ],
   "source": [
    "alphas = [0.0001, 0.001, 0.01, 0.1, 0.3, 0.5, 0.7, 1]\n",
    "\n",
    "# R2는 제일 높고 (제일 설명력이 좋고), RMSE는 제일 낮은 값 선택\n",
    "for a in alphas:\n",
    "    model = ElasticNet(alpha=a).fit(x,y)\n",
    "    score = model.score(x, y)\n",
    "    pred_y = model.predict(x)\n",
    "    mse = mean_squared_error(y, pred_y)\n",
    "    print(\"Alpha:{0:.4f}, R2:{1:.2f}, MSE:{2:.2f}, RMSE:{3:.2f}\".format(a, score, mse, np.sqrt(mse)))"
   ]
  },
  {
   "cell_type": "code",
   "execution_count": 12,
   "metadata": {
    "colab": {
     "base_uri": "https://localhost:8080/"
    },
    "id": "TNhBWoa8nUgf",
    "outputId": "d54137d2-1caf-404c-e37e-da15665dc994"
   },
   "outputs": [
    {
     "name": "stdout",
     "output_type": "stream",
     "text": [
      "0.1\n"
     ]
    }
   ],
   "source": [
    "elastic_cv= ElasticNetCV(alphas=alphas, cv=5) # 교차검증 5번\n",
    "model = elastic_cv.fit(x, y)\n",
    "print(model.alpha_)"
   ]
  },
  {
   "cell_type": "code",
   "execution_count": 19,
   "metadata": {
    "colab": {
     "base_uri": "https://localhost:8080/"
    },
    "id": "FAvwgcV6nUay",
    "outputId": "d8c63f16-536b-4fc3-94de-a24afd53fbf9"
   },
   "outputs": [
    {
     "name": "stdout",
     "output_type": "stream",
     "text": [
      "ElasticNet Final Result: R2:0.541, MSE:0.43, RMSE:0.66\n"
     ]
    }
   ],
   "source": [
    "elastic = ElasticNet(alpha=0.1).fit(xtrain, ytrain)\n",
    "ypred_elastic = elastic.predict(xtest)\n",
    "\n",
    "# calculate R2, MSE, RMSE from test data\n",
    "score_elastic = elastic.score(xtest, ytest)\n",
    "mse_elastic = mean_squared_error(ytest, ypred_elastic)\n",
    "print(\"ElasticNet Final Result: R2:{0:.3f}, MSE:{1:.2f}, RMSE:{2:.2f}\".format(score_elastic, mse_elastic, np.sqrt(mse_elastic)))\n",
    "\n",
    "res_scores[0] = \"ElasticNet Final Result: R2:{0:.3f}, MSE:{1:.2f}, RMSE:{2:.2f}\".format(score_elastic, mse_elastic, np.sqrt(mse_elastic))\n",
    "# res_scores[0] = res"
   ]
  },
  {
   "cell_type": "markdown",
   "metadata": {
    "id": "OSeGQJv0nbo3"
   },
   "source": [
    "## RandomForest"
   ]
  },
  {
   "cell_type": "markdown",
   "metadata": {
    "id": "EGdXNZx3Oo82"
   },
   "source": [
    "### hyperparameters"
   ]
  },
  {
   "cell_type": "markdown",
   "metadata": {
    "id": "KtPsnWzPIQj1"
   },
   "source": [
    "\n",
    "\n",
    "- n_estimators\t\n",
    "  - 결정트리의 갯수를 지정\n",
    "  - Default = 10\n",
    "  - 무작정 트리 갯수를 늘리면 성능 좋아지는 것 대비 시간이 걸릴 수 있음\n",
    "- min_samples_split\t\n",
    "  - 노드를 분할하기 위한 최소한의 샘플 데이터수 → 과적합을 제어하는데 사용\n",
    "  - Default = 2 → 작게 설정할 수록 분할 노드가 많아져 과적합 가능성 증가\n",
    "- min_samples_leaf\t\n",
    "  - 리프노드가 되기 위해 필요한 최소한의 샘플 데이터수\n",
    "  - min_samples_split과 함께 과적합 제어 용도\n",
    "  - 불균형 데이터의 경우 특정 클래스의 데이터가 극도로 작을 수 있으므로 작게 설정 필요\n",
    "- max_features\t\n",
    "  - 최적의 분할을 위해 고려할 최대 feature 개수\n",
    "  - Default = 'auto' (결정트리에서는 default가 none이었음)\n",
    "  - int형으로 지정 →피처 갯수 / float형으로 지정 →비중\n",
    "  - sqrt 또는 auto : 전체 피처 중 √(피처개수) 만큼 선정\n",
    "  - log : 전체 피처 중 log2(전체 피처 개수) 만큼 선정\n",
    "- max_depth\t- 트리의 최대 깊이\n",
    "  - default = None → 완벽하게 클래스 값이 결정될 때 까지 분할\n",
    "또는 데이터 개수가 min_samples_split보다 작아질 때까지 분할\n",
    "  - 깊이가 깊어지면 과적합될 수 있으므로 적절히 제어 필요\n",
    "- max_leaf_nodes\t\n",
    "  - 리프노드의 최대 개수"
   ]
  },
  {
   "cell_type": "markdown",
   "metadata": {
    "id": "nMiJT3F4tSYb"
   },
   "source": [
    "- K-fold CV\n",
    "- Grid Search CV"
   ]
  },
  {
   "cell_type": "code",
   "execution_count": 24,
   "metadata": {
    "colab": {
     "base_uri": "https://localhost:8080/"
    },
    "id": "QkUNpxjZtju2",
    "outputId": "02bc0c0d-1f71-41c1-9892-0c2e39652ec9"
   },
   "outputs": [
    {
     "name": "stdout",
     "output_type": "stream",
     "text": [
      "{'n_estimators': [200, 400, 600, 800, 1000, 1200, 1400, 1600, 1800, 2000], 'max_features': ['auto', 'sqrt'], 'max_depth': [10, 20, 30, 40, 50, 60, 70, 80, 90, 100, 110, None], 'min_samples_split': [2, 5, 10], 'min_samples_leaf': [1, 2, 4], 'bootstrap': [True, False]}\n"
     ]
    }
   ],
   "source": [
    "from sklearn.model_selection import RandomizedSearchCV\n",
    "\n",
    "# Number of trees in random forest\n",
    "n_estimators = [int(x) for x in np.linspace(start = 200, stop = 2000, num = 10)]\n",
    "# Number of features to consider at every split\n",
    "max_features = ['auto', 'sqrt']\n",
    "# Maximum number of levels in tree\n",
    "max_depth = [int(x) for x in np.linspace(10, 110, num = 11)]\n",
    "max_depth.append(None)\n",
    "# Minimum number of samples required to split a node\n",
    "min_samples_split = [2, 5, 10]\n",
    "# Minimum number of samples required at each leaf node\n",
    "min_samples_leaf = [1, 2, 4]\n",
    "# Method of selecting samples for training each tree\n",
    "bootstrap = [True, False]\n",
    "# Create the random grid\n",
    "random_grid = {'n_estimators': n_estimators,\n",
    "               'max_features': max_features,\n",
    "               'max_depth': max_depth,\n",
    "               'min_samples_split': min_samples_split,\n",
    "               'min_samples_leaf': min_samples_leaf,\n",
    "               'bootstrap': bootstrap}\n",
    "\n",
    "print(random_grid)\n",
    "\n",
    "\"\"\"\n",
    "On each iteration, the algorithm will choose a difference combination of the features. \n",
    "Altogether, there are 2 * 12 * 2 * 3 * 3 * 10 = 4320 settings\n",
    "\"\"\""
   ]
  },
  {
   "cell_type": "code",
   "execution_count": 28,
   "metadata": {
    "colab": {
     "base_uri": "https://localhost:8080/"
    },
    "id": "aAYXj3-B3urO",
    "outputId": "aeb43713-c007-4cf0-b12c-a2d4e3e56c8c"
   },
   "outputs": [
    {
     "data": {
      "text/plain": [
       "111    15.112300\n",
       "8      15.452238\n",
       "106    15.473334\n",
       "89     14.141580\n",
       "90     14.108267\n",
       "         ...    \n",
       "103    15.897592\n",
       "67     14.975246\n",
       "117    14.745605\n",
       "47     14.124930\n",
       "172    13.136789\n",
       "Name: audience, Length: 152, dtype: float64"
      ]
     },
     "execution_count": 28,
     "metadata": {},
     "output_type": "execute_result"
    }
   ],
   "source": [
    "ytrain"
   ]
  },
  {
   "cell_type": "code",
   "execution_count": 27,
   "metadata": {
    "colab": {
     "base_uri": "https://localhost:8080/"
    },
    "id": "GFKf8NfZvFj2",
    "outputId": "b03db840-f1fe-4121-9679-f971a509f609"
   },
   "outputs": [
    {
     "name": "stdout",
     "output_type": "stream",
     "text": [
      "Fitting 3 folds for each of 100 candidates, totalling 300 fits\n"
     ]
    },
    {
     "data": {
      "text/plain": [
       "RandomizedSearchCV(cv=3,\n",
       "                   estimator=RandomForestRegressor(n_estimators=490,\n",
       "                                                   random_state=3),\n",
       "                   n_iter=100, n_jobs=-1,\n",
       "                   param_distributions={'bootstrap': [True, False],\n",
       "                                        'max_depth': [10, 20, 30, 40, 50, 60,\n",
       "                                                      70, 80, 90, 100, 110,\n",
       "                                                      None],\n",
       "                                        'max_features': ['auto', 'sqrt'],\n",
       "                                        'min_samples_leaf': [1, 2, 4],\n",
       "                                        'min_samples_split': [2, 5, 10],\n",
       "                                        'n_estimators': [200, 400, 600, 800,\n",
       "                                                         1000, 1200, 1400, 1600,\n",
       "                                                         1800, 2000]},\n",
       "                   random_state=42, verbose=2)"
      ]
     },
     "execution_count": 27,
     "metadata": {},
     "output_type": "execute_result"
    }
   ],
   "source": [
    "# Use the random grid to search for best hyperparameters\n",
    "# First create the base model to tune\n",
    "# rf = RandomForestRegressor()\n",
    "# Random search of parameters, using 3 fold cross validation, \n",
    "# search across 100 different combinations, and use all available cores\n",
    "rf_random = RandomizedSearchCV(estimator = randomforest, param_distributions = random_grid, n_iter = 100, cv = 3, verbose=2, random_state=42, n_jobs = -1)\n",
    "\"\"\"\n",
    "n_iter 가 많으면 좋지만 그만큼 시간도 오래걸림\n",
    "\"\"\"\n",
    "\n",
    "# Fit the random search model\n",
    "rf_random.fit(xtrain, ytrain)"
   ]
  },
  {
   "cell_type": "code",
   "execution_count": 29,
   "metadata": {
    "colab": {
     "base_uri": "https://localhost:8080/"
    },
    "id": "e0dDW-jx31Vo",
    "outputId": "80af8da1-19f3-4ef8-d49c-a89868b4adec"
   },
   "outputs": [
    {
     "data": {
      "text/plain": [
       "{'bootstrap': True,\n",
       " 'max_depth': None,\n",
       " 'max_features': 'auto',\n",
       " 'min_samples_leaf': 2,\n",
       " 'min_samples_split': 10,\n",
       " 'n_estimators': 1600}"
      ]
     },
     "execution_count": 29,
     "metadata": {},
     "output_type": "execute_result"
    }
   ],
   "source": [
    "# best match 출력\n",
    "\n",
    "rf_random.best_params_"
   ]
  },
  {
   "cell_type": "code",
   "execution_count": 45,
   "metadata": {
    "id": "7uVz0wro4TdN"
   },
   "outputs": [],
   "source": [
    "def evaluate(model, test_features, test_labels):\n",
    "    predictions = model.predict(test_features)\n",
    "    errors = abs(predictions - test_labels)\n",
    "    mape = 100 * np.mean(errors / test_labels)\n",
    "    accuracy = 100 - mape\n",
    "    print('Model Performance')\n",
    "    print('Average Error: {:0.4f} degrees.'.format(np.mean(errors)))\n",
    "    print('Accuracy = {:0.2f}%.'.format(accuracy),'\\n')\n",
    "    \n",
    "    return accuracy"
   ]
  },
  {
   "cell_type": "code",
   "execution_count": 34,
   "metadata": {
    "colab": {
     "base_uri": "https://localhost:8080/"
    },
    "id": "RDcvJ-_H4Vip",
    "outputId": "d1511362-14f1-42bc-ec8f-3d95e4c82dbc"
   },
   "outputs": [
    {
     "name": "stdout",
     "output_type": "stream",
     "text": [
      "Model Performance\n",
      "Average Error: 0.5218 degrees.\n",
      "Accuracy = 96.30%.\n",
      "Model Performance\n",
      "Average Error: 0.4993 degrees.\n",
      "Accuracy = 96.45%.\n",
      "Improvement of 0.16%.\n"
     ]
    }
   ],
   "source": [
    "# Random CV로 정한 모델과 오리지날 모델 정확도 비교\n",
    "\n",
    "base_model = randomforest\n",
    "base_model.fit(xtrain, ytrain)\n",
    "base_accuracy = evaluate(base_model, xtest, ytest)\n",
    "\n",
    "best_random = rf_random.best_estimator_\n",
    "random_accuracy = evaluate(best_random, xtest, ytest)\n",
    "\n",
    "print('Improvement of {:0.2f}%.'.format( 100 * (random_accuracy - base_accuracy) / base_accuracy))\n"
   ]
  },
  {
   "cell_type": "code",
   "execution_count": 52,
   "metadata": {
    "colab": {
     "base_uri": "https://localhost:8080/"
    },
    "id": "Oazlb4MHyuJw",
    "outputId": "a000634e-27ac-4048-9df2-fa584c865d7c"
   },
   "outputs": [
    {
     "name": "stdout",
     "output_type": "stream",
     "text": [
      "0.4157193994118836 0.6447630567982967 0.5601153483328973\n"
     ]
    }
   ],
   "source": [
    "# Random CV 결과\n",
    "\n",
    "ypred_rf_random = rf_random.predict(xtest)\n",
    "mse_rf_random = mean_squared_error(ytest, ypred_rf_random)\n",
    "R2_score = r2_score(ytest, ypred_rf_random)\n",
    "\n",
    "print(mse_rf_random, np.sqrt(mse_rf_random), R2_score)"
   ]
  },
  {
   "cell_type": "code",
   "execution_count": 53,
   "metadata": {
    "id": "v8Si1ZQz5hAe"
   },
   "outputs": [],
   "source": [
    "from sklearn.model_selection import GridSearchCV\n",
    "\n",
    "# Create the parameter grid based on the results of random search \n",
    "\"\"\"\n",
    "'bootstrap': 나온대로\n",
    "'max_depth': 나온것보다 더 큰 것들 몇 개?\n",
    "'max_features': 모르겠음.....\n",
    "'min_samples_leaf': 나온거 주변 값\n",
    "'min_samples_split': 나온거 주변 값\n",
    "'n_estimators': 나온것보다 작은것과 젤 큰거 하나?\n",
    "\"\"\"\n",
    "param_grid = {\n",
    "    'bootstrap': [True],\n",
    "    'max_depth': [None],\n",
    "    'max_features': ['auto'],\n",
    "    'min_samples_leaf': [1, 2, 3],\n",
    "    'min_samples_split': [7, 8, 9, 10, 11],\n",
    "    'n_estimators': [1400, 1500, 1600, 1700, 1800]\n",
    "}\n",
    "# Create a based model\n",
    "rf = RandomForestRegressor()\n",
    "# Instantiate the grid search model\n",
    "grid_search = GridSearchCV(estimator = randomforest, param_grid = param_grid, \n",
    "                          cv = 3, n_jobs = -1, verbose = 2)\n"
   ]
  },
  {
   "cell_type": "code",
   "execution_count": 54,
   "metadata": {
    "colab": {
     "base_uri": "https://localhost:8080/"
    },
    "id": "A2F2Gykx9AFb",
    "outputId": "6939b273-0efc-4352-c39c-f7f2548cd655"
   },
   "outputs": [
    {
     "name": "stdout",
     "output_type": "stream",
     "text": [
      "Fitting 3 folds for each of 75 candidates, totalling 225 fits\n"
     ]
    },
    {
     "data": {
      "text/plain": [
       "{'bootstrap': True,\n",
       " 'max_depth': None,\n",
       " 'max_features': 'auto',\n",
       " 'min_samples_leaf': 3,\n",
       " 'min_samples_split': 8,\n",
       " 'n_estimators': 1400}"
      ]
     },
     "execution_count": 54,
     "metadata": {},
     "output_type": "execute_result"
    }
   ],
   "source": [
    "# Fit the random search model\n",
    "\n",
    "grid_search.fit(xtrain, ytrain)\n",
    "grid_search.best_params_"
   ]
  },
  {
   "cell_type": "code",
   "execution_count": 55,
   "metadata": {
    "colab": {
     "base_uri": "https://localhost:8080/",
     "height": 199
    },
    "id": "HhMK_G5R8XsY",
    "outputId": "ee6f7aaa-1a5e-46ce-f52d-e6e1a8772d23"
   },
   "outputs": [
    {
     "name": "stdout",
     "output_type": "stream",
     "text": [
      "Model Performance\n",
      "Average Error: 0.5218 degrees.\n",
      "Accuracy = 96.30%. \n",
      "\n",
      "Model Performance\n",
      "Average Error: 0.5003 degrees.\n",
      "Accuracy = 96.45%. \n",
      "\n",
      "Improvement of 0.15%.\n"
     ]
    },
    {
     "data": {
      "application/vnd.google.colaboratory.intrinsic+json": {
       "type": "string"
      },
      "text/plain": [
       "'\\n오히려 gridsearch CV 하니까 더 떨어지는데...?\\n파라미터 조절하는 방식?\\n여러 조건으로 돌려보기?\\n'"
      ]
     },
     "execution_count": 55,
     "metadata": {},
     "output_type": "execute_result"
    }
   ],
   "source": [
    "# GridSearch CV로 정한 모델과 오리지날 모델 정확도 비교\n",
    "\n",
    "base_model = randomforest\n",
    "base_model.fit(xtrain, ytrain)\n",
    "base_accuracy = evaluate(base_model, xtest, ytest)\n",
    "\n",
    "best_grid = grid_search.best_estimator_\n",
    "grid_accuracy = evaluate(best_grid, xtest, ytest)\n",
    "\n",
    "print('Improvement of {:0.2f}%.'.format( 100 * (grid_accuracy - base_accuracy) / base_accuracy))\n",
    "\n",
    "\"\"\"\n",
    "오히려 gridsearch CV 하니까 더 떨어지는데...?\n",
    "파라미터 조절하는 방식?\n",
    "여러 조건으로 돌려보기?\n",
    "\"\"\"\n"
   ]
  },
  {
   "cell_type": "code",
   "execution_count": null,
   "metadata": {
    "id": "m53wmlhX7UOK"
   },
   "outputs": [],
   "source": [
    "# Grid Search Results\n",
    "\n",
    "\"\"\"\n",
    "- Grid_first\n",
    "Fitting 3 folds for each of 360 candidates, totalling 1080 fits\n",
    "{'bootstrap': True,\n",
    " 'max_depth': 20,\n",
    " 'max_features': 3,\n",
    " 'min_samples_leaf': 1,\n",
    " 'min_samples_split': 8,\n",
    " 'n_estimators': 1000}\n",
    "\n",
    "Model Performance\n",
    "Average Error: 0.5698 degrees.\n",
    "Accuracy = 95.90%.\n",
    "\n",
    "\n",
    "- Grid_second\n",
    "\n",
    "Fitting 3 folds for each of 216 candidates, totalling 648 fits\n",
    "{'bootstrap': True,\n",
    " 'max_depth': 20,\n",
    " 'max_features': 'auto',\n",
    " 'min_samples_leaf': 3,\n",
    " 'min_samples_split': 8,\n",
    " 'n_estimators': 1400}\n",
    "\n",
    "Model Performance\n",
    "Average Error: 0.5003 degrees.\n",
    "Accuracy = 96.45%. \n",
    "\n",
    "Improvement of 0.15%.\n",
    "\n",
    "\n",
    "- Grid_third\n",
    "\n",
    "Fitting 3 folds for each of 120 candidates, totalling 360 fits\n",
    "{'bootstrap': True,\n",
    " 'max_depth': None,\n",
    " 'max_features': 'auto',\n",
    " 'min_samples_leaf': 3,\n",
    " 'min_samples_split': 8,\n",
    " 'n_estimators': 1400}\n",
    "\n",
    "Model Performance\n",
    "Average Error: 0.5003 degrees.\n",
    "Accuracy = 96.45%. \n",
    "\n",
    "\n",
    "- Grid_fourth\n",
    "\n",
    "Fitting 3 folds for each of 75 candidates, totalling 225 fits\n",
    "{'bootstrap': True,\n",
    " 'max_depth': None,\n",
    " 'max_features': 'auto',\n",
    " 'min_samples_leaf': 3,\n",
    " 'min_samples_split': 8,\n",
    " 'n_estimators': 1400}\n",
    "\n",
    "똑같......\n",
    "\n",
    "\"\"\""
   ]
  },
  {
   "cell_type": "markdown",
   "metadata": {
    "id": "isrdxIWPOs-0"
   },
   "source": [
    "### Train"
   ]
  },
  {
   "cell_type": "code",
   "execution_count": 12,
   "metadata": {
    "colab": {
     "base_uri": "https://localhost:8080/"
    },
    "id": "9ufXeNhmnUWV",
    "outputId": "a9c41dea-83b8-4201-e8d2-064c1931d54f"
   },
   "outputs": [
    {
     "name": "stdout",
     "output_type": "stream",
     "text": [
      "44\n",
      "490\n"
     ]
    }
   ],
   "source": [
    "nTreeList = range(50, 500, 10)\n",
    "\n",
    "nTree = []\n",
    "MSE = []\n",
    "\n",
    "for iTrees in nTreeList:\n",
    "    randomforest = RandomForestRegressor(n_estimators=iTrees, random_state=3)\n",
    "    randomforest.fit(xtrain, ytrain)  \n",
    "    ypred = randomforest.predict(xtest)\n",
    "    nTree.append(iTrees)\n",
    "    MSE.append(mean_squared_error(ytest, ypred))\n",
    "    \n",
    "# 결정트리 갯수 무작정 늘리면 성능 좋아지는데 대비 시간이 걸릴 수 있음\n",
    "index = MSE.index(min(MSE))\n",
    "print(index)\n",
    "print(nTree[index])"
   ]
  },
  {
   "cell_type": "code",
   "execution_count": 13,
   "metadata": {
    "id": "EMZMe0sHnUSE"
   },
   "outputs": [],
   "source": [
    "randomforest = RandomForestRegressor(n_estimators=490, random_state=3)\n",
    "randomforest.fit(xtrain, ytrain)\n",
    "ypred_randomforest= randomforest.predict(xtest)\n"
   ]
  },
  {
   "cell_type": "code",
   "execution_count": 22,
   "metadata": {
    "colab": {
     "base_uri": "https://localhost:8080/"
    },
    "id": "QuYhxrqHoXOe",
    "outputId": "d4dc7138-e97f-4475-d341-584a3872b8a3"
   },
   "outputs": [
    {
     "name": "stdout",
     "output_type": "stream",
     "text": [
      "RandomForest Final Result: R2:0.556 MSE:0.419 RMSE:0.647\n"
     ]
    }
   ],
   "source": [
    "# calculate RMSE from test data\n",
    "\n",
    "mse_randomforest = mean_squared_error(ytest, ypred_randomforest)\n",
    "R2_score = r2_score(ytest, ypred_randomforest)\n",
    "print(\"RandomForest Final Result: R2:{0:.3f} MSE:{1:.3f} RMSE:{2:.3f}\".format(R2_score, mse_randomforest, np.sqrt(mse_randomforest)))\n",
    "featureImportance = randomforest.feature_importances_\n",
    "\n",
    "# 비교위한 결과 저장\n",
    "res_scores[1] = \"RandomForest Final Result: R2:{0:.3f} MSE:{1:.3f} RMSE:{2:.3f}\".format(R2_score, mse_randomforest, np.sqrt(mse_randomforest))"
   ]
  },
  {
   "cell_type": "code",
   "execution_count": null,
   "metadata": {
    "id": "jBoyWwCvnACm"
   },
   "outputs": [],
   "source": [
    "#가장 높은 중요도 기준으로 스케일링\n",
    "\n",
    "\"\"\"\n",
    "featureImportance = featureImportance/featureImportance.max()\n",
    "sorted_idx = np.argsort(featureImportance)\n",
    "barPos = np.arange(sorted_idx.shape[0])+.5\n",
    "plt.barh(barPos, featureImportance[sorted_idx], align='center')\n",
    "plt.yticks(barPos, x.columns[sorted_idx])\n",
    "plt.xlabel('Variable Importance')\n",
    "plt.show()S\n",
    "\"\"\""
   ]
  },
  {
   "cell_type": "markdown",
   "metadata": {
    "id": "yzYrT5AFnsgO"
   },
   "source": [
    "## LightGBM"
   ]
  },
  {
   "cell_type": "code",
   "execution_count": 24,
   "metadata": {
    "id": "Wbj0UZI6nsXs"
   },
   "outputs": [],
   "source": [
    "train_ds = lgb.Dataset(xtrain, label = ytrain) \n",
    "test_ds = lgb.Dataset(xtest, label = ytest) \n",
    "\n",
    "params = {'learning_rate': 0.01, \n",
    "          'max_depth': 16, \n",
    "          'boosting': 'gbdt', \n",
    "          'objective': 'regression', \n",
    "          'metric': 'mse', \n",
    "          'is_training_metric': True, \n",
    "          'num_leaves': 144, \n",
    "          'feature_fraction': 0.9, \n",
    "          'bagging_fraction': 0.7, \n",
    "          'bagging_freq': 5, \n",
    "          'seed':3}"
   ]
  },
  {
   "cell_type": "code",
   "execution_count": 25,
   "metadata": {
    "colab": {
     "base_uri": "https://localhost:8080/"
    },
    "id": "XjtqPfG8nsRT",
    "outputId": "baa090f6-65bd-48b1-be3d-7bc9ac702928"
   },
   "outputs": [
    {
     "name": "stdout",
     "output_type": "stream",
     "text": [
      "Training until validation scores don't improve for 100 rounds.\n",
      "[100]\tvalid_0's l2: 0.575701\n",
      "[200]\tvalid_0's l2: 0.482342\n",
      "[300]\tvalid_0's l2: 0.46339\n",
      "[400]\tvalid_0's l2: 0.466338\n",
      "Early stopping, best iteration is:\n",
      "[300]\tvalid_0's l2: 0.46339\n"
     ]
    }
   ],
   "source": [
    "lgb_model = lgb.train(params, train_ds, 1000, test_ds, verbose_eval=100, early_stopping_rounds=100)"
   ]
  },
  {
   "cell_type": "code",
   "execution_count": 26,
   "metadata": {
    "id": "Saq9PNPmnsKF"
   },
   "outputs": [],
   "source": [
    "predict_train = lgb_model.predict(xtrain)\n",
    "ypred_lgb = lgb_model.predict(xtest)"
   ]
  },
  {
   "cell_type": "code",
   "execution_count": 27,
   "metadata": {
    "colab": {
     "base_uri": "https://localhost:8080/"
    },
    "id": "S1uQYEk-m_9Z",
    "outputId": "62bfc761-7708-4686-e8b3-f5f9c9c74c6f"
   },
   "outputs": [
    {
     "name": "stdout",
     "output_type": "stream",
     "text": [
      "Lightgbm Final Result: MSE:0.46, RMSE:0.68\n"
     ]
    }
   ],
   "source": [
    "# calculate MSE, RMSE from test data\n",
    "mse_lgb = mean_squared_error(ytest, ypred_lgb )\n",
    "print(\"Lightgbm Final Result: MSE:{0:.2f}, RMSE:{1:.2f}\".format(mse_lgb, np.sqrt(mse_lgb)))\n",
    "\n",
    "res_scores[2] = \"Lightgbm Final Result: MSE:{0:.2f}, RMSE:{1:.2f}\".format(mse_lgb, np.sqrt(mse_lgb))"
   ]
  },
  {
   "cell_type": "code",
   "execution_count": 28,
   "metadata": {
    "id": "x3WGI08cn_O5"
   },
   "outputs": [],
   "source": [
    "final_result = pd.concat([ytest.reset_index(drop=True), pd.DataFrame(ypred_lgb )], axis = 1)\n",
    "final_result.columns = ['ytest','ypred']"
   ]
  },
  {
   "cell_type": "code",
   "execution_count": 29,
   "metadata": {
    "colab": {
     "base_uri": "https://localhost:8080/",
     "height": 297
    },
    "id": "m65mLs8Hn_Ic",
    "outputId": "e6d93156-b50b-4f93-dadb-83c8be00d31e"
   },
   "outputs": [
    {
     "data": {
      "text/plain": [
       "<matplotlib.axes._subplots.AxesSubplot at 0x7f091c1fa750>"
      ]
     },
     "execution_count": 29,
     "metadata": {},
     "output_type": "execute_result"
    },
    {
     "data": {
      "image/png": "[encoded data removed]",
      "text/plain": [
       "<Figure size 432x288 with 1 Axes>"
      ]
     },
     "metadata": {
      "needs_background": "light"
     },
     "output_type": "display_data"
    }
   ],
   "source": [
    "# Fit 결과 확인\n",
    "sns.regplot(x = 'ytest', y = 'ypred', data = final_result)"
   ]
  },
  {
   "cell_type": "markdown",
   "metadata": {
    "id": "LNvKn-JLoEIn"
   },
   "source": [
    "## XGBoost"
   ]
  },
  {
   "cell_type": "code",
   "execution_count": 30,
   "metadata": {
    "colab": {
     "base_uri": "https://localhost:8080/"
    },
    "id": "oUITGYAHn_Co",
    "outputId": "6eedb535-987f-4fd5-92ef-e31752bfc861"
   },
   "outputs": [
    {
     "name": "stdout",
     "output_type": "stream",
     "text": [
      "[12:40:35] WARNING: /workspace/src/objective/regression_obj.cu:152: reg:linear is now deprecated in favor of reg:squarederror.\n"
     ]
    }
   ],
   "source": [
    "xgb_model = xgb.XGBRegressor(n_estimators=100, learning_rate=0.08, gamma=0, subsample=0.75, colsample_bytree=1, max_depth=7)\n",
    "\n",
    "xgb_model.fit(xtrain,ytrain)\n",
    "ypred_xgb = xgb_model.predict(xtest)"
   ]
  },
  {
   "cell_type": "code",
   "execution_count": 31,
   "metadata": {
    "colab": {
     "base_uri": "https://localhost:8080/"
    },
    "id": "2JFXwJ4Nn-A9",
    "outputId": "65d78625-e519-4fff-80b2-dd24974f70f2"
   },
   "outputs": [
    {
     "name": "stdout",
     "output_type": "stream",
     "text": [
      "xgboost Final Result: MSE:0.45, RMSE:0.67\n"
     ]
    }
   ],
   "source": [
    "# calculate MSE, RMSE from test data\n",
    "mse_xgb = mean_squared_error(ytest, ypred_xgb)\n",
    "print(\"xgboost Final Result: MSE:{0:.2f}, RMSE:{1:.2f}\".format(mse_xgb, np.sqrt(mse_xgb)))\n",
    "\n",
    "res_scores[3] = \"xgboost Final Result: MSE:{0:.2f}, RMSE:{1:.2f}\".format(mse_xgb, np.sqrt(mse_xgb))"
   ]
  },
  {
   "cell_type": "code",
   "execution_count": 32,
   "metadata": {
    "colab": {
     "base_uri": "https://localhost:8080/",
     "height": 349
    },
    "id": "mh1pXBAqn97f",
    "outputId": "f5a290b5-8aab-4e67-975a-7846b129e54d"
   },
   "outputs": [
    {
     "data": {
      "text/plain": [
       "<Figure size 720x720 with 0 Axes>"
      ]
     },
     "metadata": {},
     "output_type": "display_data"
    },
    {
     "name": "stderr",
     "output_type": "stream",
     "text": [
      "findfont: Font family ['Malgun Gothic'] not found. Falling back to DejaVu Sans.\n",
      "findfont: Font family ['Malgun Gothic'] not found. Falling back to DejaVu Sans.\n"
     ]
    },
    {
     "data": {
      "image/png": "[encoded data removed]",
      "text/plain": [
       "<Figure size 432x288 with 1 Axes>"
      ]
     },
     "metadata": {
      "needs_background": "light"
     },
     "output_type": "display_data"
    }
   ],
   "source": [
    "plt.figure(figsize=(10,10))\n",
    "plt.rcParams['font.family'] ='Malgun Gothic'\n",
    "xgb.plot_importance(xgb_model, max_num_features= 10)\n",
    "plt.show()"
   ]
  },
  {
   "cell_type": "code",
   "execution_count": 33,
   "metadata": {
    "colab": {
     "base_uri": "https://localhost:8080/"
    },
    "id": "yk879pfVn9xF",
    "outputId": "47e756cd-9afd-4947-af45-a71597c32e8b"
   },
   "outputs": [
    {
     "data": {
      "text/plain": [
       "['ElasticNet Final Result: R2:0.541, MSE:0.43, RMSE:0.66',\n",
       " 'RandomForest Final Result: MSE:0.42 RMSE:0.65',\n",
       " 'Lightgbm Final Result: MSE:0.46, RMSE:0.68',\n",
       " 'xgboost Final Result: MSE:0.45, RMSE:0.67']"
      ]
     },
     "execution_count": 33,
     "metadata": {},
     "output_type": "execute_result"
    }
   ],
   "source": [
    "\n",
    "res_scores"
   ]
  },
  {
   "cell_type": "code",
   "execution_count": null,
   "metadata": {
    "id": "yp_W1_aJn9ph"
   },
   "outputs": [],
   "source": [
    "x"
   ]
  },
  {
   "cell_type": "markdown",
   "metadata": {
    "id": "oOW71qRrH2o7"
   },
   "source": [
    "Second try\n",
    "- ElasticNet Final Result: R2:0.541, MSE:0.43, RMSE:0.66\n",
    "- RandomForest Final Result: MSE:0.42 RMSE:0.65\n",
    "- Lightgbm Final Result: MSE:0.46, RMSE:0.68\n",
    "- xgboost Final Result: MSE:0.45, RMSE:0.67\n"
   ]
  },
  {
   "cell_type": "markdown",
   "metadata": {
    "id": "Ap0C27-nnN6m"
   },
   "source": [
    "- Taenam's score\n",
    "\n",
    "  - ElasticNet Final Result: MSE:0.43, RMSE:0.66\n",
    "  - RandomForest Final Result: MSE:0.42 RMSE:0.65\n",
    "  - Lightgbm Final Result: MSE:0.47, RMSE:0.69\n",
    "  - xgboost Final Result: MSE:0.45, RMSE:0.67"
   ]
  }
 ],
 "metadata": {
  "colab": {
   "collapsed_sections": [],
   "name": "Modelling_taenam.ipynb",
   "provenance": []
  },
  "hide_input": false,
  "kernelspec": {
   "display_name": "Python 3",
   "language": "python",
   "name": "python3"
  },
  "language_info": {
   "codemirror_mode": {
    "name": "ipython",
    "version": 3
   },
   "file_extension": ".py",
   "mimetype": "text/x-python",
   "name": "python",
   "nbconvert_exporter": "python",
   "pygments_lexer": "ipython3",
   "version": "3.8.3"
  },
  "toc": {
   "base_numbering": 1,
   "nav_menu": {},
   "number_sections": true,
   "sideBar": true,
   "skip_h1_title": false,
   "title_cell": "Table of Contents",
   "title_sidebar": "Contents",
   "toc_cell": false,
   "toc_position": {},
   "toc_section_display": true,
   "toc_window_display": false
  },
  "varInspector": {
   "cols": {
    "lenName": 16,
    "lenType": 16,
    "lenVar": 40
   },
   "kernels_config": {
    "python": {
     "delete_cmd_postfix": "",
     "delete_cmd_prefix": "del ",
     "library": "var_list.py",
     "varRefreshCmd": "print(var_dic_list())"
    },
    "r": {
     "delete_cmd_postfix": ") ",
     "delete_cmd_prefix": "rm(",
     "library": "var_list.r",
     "varRefreshCmd": "cat(var_dic_list()) "
    }
   },
   "types_to_exclude": [
    "module",
    "function",
    "builtin_function_or_method",
    "instance",
    "_Feature"
   ],
   "window_display": false
  }
 },
 "nbformat": 4,
 "nbformat_minor": 1
}
