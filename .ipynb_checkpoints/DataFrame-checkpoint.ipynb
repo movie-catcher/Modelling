{
 "cells": [
  {
   "cell_type": "code",
   "execution_count": 59,
   "metadata": {
    "ExecuteTime": {
     "end_time": "2021-11-30T17:57:29.052076Z",
     "start_time": "2021-11-30T17:57:29.049113Z"
    }
   },
   "outputs": [],
   "source": [
    "import pandas as pd"
   ]
  },
  {
   "cell_type": "code",
   "execution_count": 69,
   "metadata": {
    "ExecuteTime": {
     "end_time": "2021-11-30T18:01:11.509942Z",
     "start_time": "2021-11-30T18:01:11.398395Z"
    }
   },
   "outputs": [],
   "source": [
    "# 마지막 행 삭제 : 다 NaN임\n",
    "data = pd.read_excel('C:/Users/User/Desktop/Viral_Effect/SNS-scraping/Movie_Data_Final.xlsx').iloc[:-1,1:]\n",
    "trans_data = pd.read_excel('C:/Users/User/Desktop/Viral_Effect/SNS-scraping/Movie_Data_Final_transformation.xlsx').iloc[:-1,1:]"
   ]
  },
  {
   "cell_type": "code",
   "execution_count": 71,
   "metadata": {
    "ExecuteTime": {
     "end_time": "2021-11-30T18:01:12.878503Z",
     "start_time": "2021-11-30T18:01:12.870503Z"
    }
   },
   "outputs": [],
   "source": [
    "# genre, distribution_company 첫 번째만 사용\n",
    "# actor : [, ], ' 삭제\n",
    "def modify_df(data):\n",
    "    for i in range(len(data.iloc[:,0])):\n",
    "        data.loc[i, 'genre'] = data.loc[i, 'genre'].split(',')[0].replace('[','').replace(']','').replace(\"'\",'')\n",
    "        data.loc[i, 'distribution_company'] = data.loc[i, 'distribution_company'].split(',')[0]\n",
    "        data.loc[i, 'actor'] = data.loc[i, 'actor'].replace('[','').replace(']','').replace(\"'\",'')\n",
    "        \n",
    "    return data"
   ]
  },
  {
   "cell_type": "code",
   "execution_count": 72,
   "metadata": {
    "ExecuteTime": {
     "end_time": "2021-11-30T18:01:17.407312Z",
     "start_time": "2021-11-30T18:01:17.085314Z"
    }
   },
   "outputs": [],
   "source": [
    "data = modify_df(data)\n",
    "trans_data = modify_df(trans_data)"
   ]
  },
  {
   "cell_type": "code",
   "execution_count": 73,
   "metadata": {
    "ExecuteTime": {
     "end_time": "2021-11-30T18:03:04.231286Z",
     "start_time": "2021-11-30T18:03:03.864958Z"
    }
   },
   "outputs": [],
   "source": [
    "data.to_excel('Movie_Data_Final.xlsx')\n",
    "trans_data.to_excel('Movie_Data_Final_transformation.xlsx')"
   ]
  },
  {
   "cell_type": "code",
   "execution_count": null,
   "metadata": {},
   "outputs": [],
   "source": []
  }
 ],
 "metadata": {
  "hide_input": false,
  "kernelspec": {
   "display_name": "Python 3",
   "language": "python",
   "name": "python3"
  },
  "language_info": {
   "codemirror_mode": {
    "name": "ipython",
    "version": 3
   },
   "file_extension": ".py",
   "mimetype": "text/x-python",
   "name": "python",
   "nbconvert_exporter": "python",
   "pygments_lexer": "ipython3",
   "version": "3.8.3"
  },
  "toc": {
   "base_numbering": 1,
   "nav_menu": {},
   "number_sections": true,
   "sideBar": true,
   "skip_h1_title": false,
   "title_cell": "Table of Contents",
   "title_sidebar": "Contents",
   "toc_cell": false,
   "toc_position": {},
   "toc_section_display": true,
   "toc_window_display": false
  },
  "varInspector": {
   "cols": {
    "lenName": 16,
    "lenType": 16,
    "lenVar": 40
   },
   "kernels_config": {
    "python": {
     "delete_cmd_postfix": "",
     "delete_cmd_prefix": "del ",
     "library": "var_list.py",
     "varRefreshCmd": "print(var_dic_list())"
    },
    "r": {
     "delete_cmd_postfix": ") ",
     "delete_cmd_prefix": "rm(",
     "library": "var_list.r",
     "varRefreshCmd": "cat(var_dic_list()) "
    }
   },
   "types_to_exclude": [
    "module",
    "function",
    "builtin_function_or_method",
    "instance",
    "_Feature"
   ],
   "window_display": false
  }
 },
 "nbformat": 4,
 "nbformat_minor": 4
}
