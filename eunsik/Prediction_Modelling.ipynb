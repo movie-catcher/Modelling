{
  "nbformat": 4,
  "nbformat_minor": 5,
  "metadata": {
    "kernelspec": {
      "display_name": "Python 3 (ipykernel)",
      "language": "python",
      "name": "python3"
    },
    "language_info": {
      "codemirror_mode": {
        "name": "ipython",
        "version": 3
      },
      "file_extension": ".py",
      "mimetype": "text/x-python",
      "name": "python",
      "nbconvert_exporter": "python",
      "pygments_lexer": "ipython3",
      "version": "3.8.12"
    },
    "colab": {
      "name": "Prediction_Modelling.ipynb",
      "provenance": []
    }
  },
  "cells": [
    {
      "cell_type": "markdown",
      "metadata": {
        "id": "77d39d41"
      },
      "source": [
        "# 영화 관객수 예측 모델\n",
        "감독, 이름, 상영등급, 스태프 수 등의 정보를 이용하여 영화 관객 수를 예측하는 모델을 만들어 보는 것"
      ],
      "id": "77d39d41"
    },
    {
      "cell_type": "code",
      "metadata": {
        "colab": {
          "base_uri": "https://localhost:8080/"
        },
        "id": "y99xeLHlncvM",
        "outputId": "094edbd8-c616-41a8-c0ad-3228c55dd0e1"
      },
      "source": [
        "from google.colab import drive\n",
        "drive.mount('/content/drive')"
      ],
      "id": "y99xeLHlncvM",
      "execution_count": 1,
      "outputs": [
        {
          "output_type": "stream",
          "name": "stdout",
          "text": [
            "Mounted at /content/drive\n"
          ]
        }
      ]
    },
    {
      "cell_type": "code",
      "metadata": {
        "colab": {
          "base_uri": "https://localhost:8080/"
        },
        "id": "t5-qBisbnGCW",
        "outputId": "3232cfe7-f23d-47b4-a193-ed3b68a512f0"
      },
      "source": [
        "cd /content/drive/MyDrive/Bigdata_project_moviecatcher/Modelling"
      ],
      "id": "t5-qBisbnGCW",
      "execution_count": 2,
      "outputs": [
        {
          "output_type": "stream",
          "name": "stdout",
          "text": [
            "/content/drive/MyDrive/Bigdata_project_moviecatcher/Modelling\n"
          ]
        }
      ]
    },
    {
      "cell_type": "markdown",
      "metadata": {
        "id": "445c3102"
      },
      "source": [
        "## 1. 라이브러리 및 Data set 불러오기"
      ],
      "id": "445c3102"
    },
    {
      "cell_type": "code",
      "metadata": {
        "id": "c10c1593"
      },
      "source": [
        "import pandas as pd\n",
        "import lightgbm as lgb\n",
        "import seaborn as sns\n",
        "import matplotlib.pyplot as plt\n",
        "%matplotlib inline\n",
        "\n",
        "from sklearn.linear_model import ElasticNet, ElasticNetCV # 두 개 구분\n",
        "from sklearn.ensemble import RandomForestRegressor\n",
        "from sklearn.model_selection import KFold, cross_val_score, train_test_split\n",
        "from sklearn.metrics import mean_squared_error\n",
        "import xgboost as xgb\n",
        "import lightgbm as lgb"
      ],
      "id": "c10c1593",
      "execution_count": 2,
      "outputs": []
    },
    {
      "cell_type": "code",
      "metadata": {
        "colab": {
          "base_uri": "https://localhost:8080/"
        },
        "id": "BBqVC2CoAcbC",
        "outputId": "0fa34089-5c4b-4ef7-a4f3-99fa0da47760"
      },
      "source": [
        "# csv로 변환\n",
        "df = pd.read_excel('data/Preprocessed_Data_19_20.xlsx')\n",
        "#print(df)\n",
        "df.to_csv('data/Preprocessed_Data_19_20.csv',index=True, sep='\\t')\n",
        "print(df)"
      ],
      "id": "BBqVC2CoAcbC",
      "execution_count": 43,
      "outputs": [
        {
          "output_type": "stream",
          "name": "stdout",
          "text": [
            "    Unnamed: 0       movie_name  ...  abs_mean_score   actor_power\n",
            "0            0             극한직업  ...        1.019999  4.539712e+06\n",
            "1            1       어벤져스: 엔드게임  ...        2.126920  9.367612e+06\n",
            "2            2           겨울왕국 2  ...        1.154460  9.751492e+06\n",
            "3            3              알라딘  ...        1.495438  6.752496e+06\n",
            "4            4              기생충  ...        2.085190  5.109347e+06\n",
            "..         ...              ...  ...             ...           ...\n",
            "89          89        프리즌 이스케이프  ...        0.791509  8.232217e+04\n",
            "90          90               검객  ...        3.028084  1.902370e+05\n",
            "91          91               조제  ...        2.439042  1.335327e+06\n",
            "92          92           사라진 시간  ...        3.225536  1.872178e+06\n",
            "93          93  밤쉘: 세상을 바꾼 폭탄선언  ...        4.372499  5.237502e+05\n",
            "\n",
            "[94 rows x 12 columns]\n"
          ]
        }
      ]
    },
    {
      "cell_type": "code",
      "metadata": {
        "colab": {
          "base_uri": "https://localhost:8080/"
        },
        "id": "wKBGwlH6A5uV",
        "outputId": "edb039c8-8bf5-4c54-9198-ebc2a44da1d5"
      },
      "source": [
        "df = pd.read_table('data/Preprocessed_Data_19_20.csv')\n",
        "print(df)\n",
        "\n",
        "df1 = df.iloc[4:94,:] \n",
        "#df1 = df1[['movie_name','actor_power']]\n",
        "df2 = df.iloc[0:4,:]\n",
        "df1.to_csv('data/movies_train.csv',sep=',')\n",
        "df2.to_csv('data/movies_test.csv',sep=',')"
      ],
      "id": "wKBGwlH6A5uV",
      "execution_count": 61,
      "outputs": [
        {
          "output_type": "stream",
          "name": "stdout",
          "text": [
            "    Unnamed: 0  Unnamed: 0.1  ... abs_mean_score   actor_power\n",
            "0            0             0  ...       1.019999  4.539712e+06\n",
            "1            1             1  ...       2.126920  9.367612e+06\n",
            "2            2             2  ...       1.154460  9.751492e+06\n",
            "3            3             3  ...       1.495438  6.752496e+06\n",
            "4            4             4  ...       2.085190  5.109347e+06\n",
            "..         ...           ...  ...            ...           ...\n",
            "89          89            89  ...       0.791509  8.232217e+04\n",
            "90          90            90  ...       3.028084  1.902370e+05\n",
            "91          91            91  ...       2.439042  1.335327e+06\n",
            "92          92            92  ...       3.225536  1.872178e+06\n",
            "93          93            93  ...       4.372499  5.237502e+05\n",
            "\n",
            "[94 rows x 13 columns]\n"
          ]
        }
      ]
    },
    {
      "cell_type": "code",
      "metadata": {
        "id": "4a60fe36"
      },
      "source": [
        "# 데이터 불러오기\n",
        "train = pd.read_csv('data/movies_train.csv')\n",
        "test = pd.read_csv('data/movies_test.csv')\n",
        "submission = pd.read_csv('data/submission.csv')"
      ],
      "id": "4a60fe36",
      "execution_count": 62,
      "outputs": []
    },
    {
      "cell_type": "code",
      "metadata": {
        "colab": {
          "base_uri": "https://localhost:8080/",
          "height": 365
        },
        "id": "wLTG3Vi_Kcm9",
        "outputId": "5fc23c3b-aef7-46e5-ee8d-333bdbc936f2"
      },
      "source": [
        "test"
      ],
      "id": "wLTG3Vi_Kcm9",
      "execution_count": 63,
      "outputs": [
        {
          "output_type": "execute_result",
          "data": {
            "text/html": [
              "<div>\n",
              "<style scoped>\n",
              "    .dataframe tbody tr th:only-of-type {\n",
              "        vertical-align: middle;\n",
              "    }\n",
              "\n",
              "    .dataframe tbody tr th {\n",
              "        vertical-align: top;\n",
              "    }\n",
              "\n",
              "    .dataframe thead th {\n",
              "        text-align: right;\n",
              "    }\n",
              "</style>\n",
              "<table border=\"1\" class=\"dataframe\">\n",
              "  <thead>\n",
              "    <tr style=\"text-align: right;\">\n",
              "      <th></th>\n",
              "      <th>Unnamed: 0</th>\n",
              "      <th>Unnamed: 0.1</th>\n",
              "      <th>Unnamed: 0.1.1</th>\n",
              "      <th>movie_name</th>\n",
              "      <th>audience</th>\n",
              "      <th>nation</th>\n",
              "      <th>distribution_company</th>\n",
              "      <th>genre</th>\n",
              "      <th>running_time</th>\n",
              "      <th>age</th>\n",
              "      <th>youtube_comment_count</th>\n",
              "      <th>youtube_view_mean</th>\n",
              "      <th>abs_mean_score</th>\n",
              "      <th>actor_power</th>\n",
              "    </tr>\n",
              "  </thead>\n",
              "  <tbody>\n",
              "    <tr>\n",
              "      <th>0</th>\n",
              "      <td>0</td>\n",
              "      <td>0</td>\n",
              "      <td>0</td>\n",
              "      <td>극한직업</td>\n",
              "      <td>16265618</td>\n",
              "      <td>한국</td>\n",
              "      <td>(주)씨제이이엔엠</td>\n",
              "      <td>코미디</td>\n",
              "      <td>111</td>\n",
              "      <td>15세이상관람가</td>\n",
              "      <td>9518</td>\n",
              "      <td>616945.8</td>\n",
              "      <td>1.019999</td>\n",
              "      <td>4.539712e+06</td>\n",
              "    </tr>\n",
              "    <tr>\n",
              "      <th>1</th>\n",
              "      <td>1</td>\n",
              "      <td>1</td>\n",
              "      <td>1</td>\n",
              "      <td>어벤져스: 엔드게임</td>\n",
              "      <td>13934592</td>\n",
              "      <td>미국</td>\n",
              "      <td>월트디즈니컴퍼니코리아 유한책임회사</td>\n",
              "      <td>액션</td>\n",
              "      <td>180</td>\n",
              "      <td>12세이상관람가</td>\n",
              "      <td>26299</td>\n",
              "      <td>3047574.7</td>\n",
              "      <td>2.126920</td>\n",
              "      <td>9.367612e+06</td>\n",
              "    </tr>\n",
              "    <tr>\n",
              "      <th>2</th>\n",
              "      <td>2</td>\n",
              "      <td>2</td>\n",
              "      <td>2</td>\n",
              "      <td>겨울왕국 2</td>\n",
              "      <td>27495584</td>\n",
              "      <td>미국</td>\n",
              "      <td>월트디즈니컴퍼니코리아 유한책임회사</td>\n",
              "      <td>애니메이션</td>\n",
              "      <td>103</td>\n",
              "      <td>전체관람가</td>\n",
              "      <td>20661</td>\n",
              "      <td>9814174.2</td>\n",
              "      <td>1.154460</td>\n",
              "      <td>9.751492e+06</td>\n",
              "    </tr>\n",
              "    <tr>\n",
              "      <th>3</th>\n",
              "      <td>3</td>\n",
              "      <td>3</td>\n",
              "      <td>3</td>\n",
              "      <td>알라딘</td>\n",
              "      <td>25447554</td>\n",
              "      <td>미국</td>\n",
              "      <td>월트디즈니컴퍼니코리아 유한책임회사</td>\n",
              "      <td>어드벤처</td>\n",
              "      <td>127</td>\n",
              "      <td>전체관람가</td>\n",
              "      <td>6934</td>\n",
              "      <td>4894125.2</td>\n",
              "      <td>1.495438</td>\n",
              "      <td>6.752496e+06</td>\n",
              "    </tr>\n",
              "  </tbody>\n",
              "</table>\n",
              "</div>"
            ],
            "text/plain": [
              "   Unnamed: 0  Unnamed: 0.1  ...  abs_mean_score   actor_power\n",
              "0           0             0  ...        1.019999  4.539712e+06\n",
              "1           1             1  ...        2.126920  9.367612e+06\n",
              "2           2             2  ...        1.154460  9.751492e+06\n",
              "3           3             3  ...        1.495438  6.752496e+06\n",
              "\n",
              "[4 rows x 14 columns]"
            ]
          },
          "metadata": {},
          "execution_count": 63
        }
      ]
    },
    {
      "cell_type": "code",
      "metadata": {
        "colab": {
          "base_uri": "https://localhost:8080/",
          "height": 484
        },
        "id": "Ye186GIqLlQK",
        "outputId": "22880832-1845-411a-d6d4-aa9cee317c1d"
      },
      "source": [
        "train.head()"
      ],
      "id": "Ye186GIqLlQK",
      "execution_count": 64,
      "outputs": [
        {
          "output_type": "execute_result",
          "data": {
            "text/html": [
              "<div>\n",
              "<style scoped>\n",
              "    .dataframe tbody tr th:only-of-type {\n",
              "        vertical-align: middle;\n",
              "    }\n",
              "\n",
              "    .dataframe tbody tr th {\n",
              "        vertical-align: top;\n",
              "    }\n",
              "\n",
              "    .dataframe thead th {\n",
              "        text-align: right;\n",
              "    }\n",
              "</style>\n",
              "<table border=\"1\" class=\"dataframe\">\n",
              "  <thead>\n",
              "    <tr style=\"text-align: right;\">\n",
              "      <th></th>\n",
              "      <th>Unnamed: 0</th>\n",
              "      <th>Unnamed: 0.1</th>\n",
              "      <th>Unnamed: 0.1.1</th>\n",
              "      <th>movie_name</th>\n",
              "      <th>audience</th>\n",
              "      <th>nation</th>\n",
              "      <th>distribution_company</th>\n",
              "      <th>genre</th>\n",
              "      <th>running_time</th>\n",
              "      <th>age</th>\n",
              "      <th>youtube_comment_count</th>\n",
              "      <th>youtube_view_mean</th>\n",
              "      <th>abs_mean_score</th>\n",
              "      <th>actor_power</th>\n",
              "    </tr>\n",
              "  </thead>\n",
              "  <tbody>\n",
              "    <tr>\n",
              "      <th>0</th>\n",
              "      <td>4</td>\n",
              "      <td>4</td>\n",
              "      <td>4</td>\n",
              "      <td>기생충</td>\n",
              "      <td>20626290</td>\n",
              "      <td>한국</td>\n",
              "      <td>(주)씨제이이엔엠</td>\n",
              "      <td>드라마</td>\n",
              "      <td>131</td>\n",
              "      <td>15세이상관람가</td>\n",
              "      <td>10215</td>\n",
              "      <td>1974417.4</td>\n",
              "      <td>2.085190</td>\n",
              "      <td>5.109347e+06</td>\n",
              "    </tr>\n",
              "    <tr>\n",
              "      <th>1</th>\n",
              "      <td>5</td>\n",
              "      <td>5</td>\n",
              "      <td>5</td>\n",
              "      <td>엑시트</td>\n",
              "      <td>9426011</td>\n",
              "      <td>한국</td>\n",
              "      <td>(주)씨제이이엔엠</td>\n",
              "      <td>코미디</td>\n",
              "      <td>103</td>\n",
              "      <td>12세이상관람가</td>\n",
              "      <td>2198</td>\n",
              "      <td>408436.3</td>\n",
              "      <td>1.486567</td>\n",
              "      <td>5.557060e+06</td>\n",
              "    </tr>\n",
              "    <tr>\n",
              "      <th>2</th>\n",
              "      <td>6</td>\n",
              "      <td>6</td>\n",
              "      <td>6</td>\n",
              "      <td>스파이더맨: 파 프롬 홈</td>\n",
              "      <td>8021145</td>\n",
              "      <td>미국</td>\n",
              "      <td>소니픽쳐스엔터테인먼트코리아주식회사극장배급지점</td>\n",
              "      <td>액션</td>\n",
              "      <td>129</td>\n",
              "      <td>12세이상관람가</td>\n",
              "      <td>7007</td>\n",
              "      <td>647694.1</td>\n",
              "      <td>1.496247</td>\n",
              "      <td>3.854988e+06</td>\n",
              "    </tr>\n",
              "    <tr>\n",
              "      <th>3</th>\n",
              "      <td>7</td>\n",
              "      <td>7</td>\n",
              "      <td>7</td>\n",
              "      <td>백두산</td>\n",
              "      <td>16505818</td>\n",
              "      <td>한국</td>\n",
              "      <td>(주)씨제이이엔엠</td>\n",
              "      <td>어드벤처</td>\n",
              "      <td>128</td>\n",
              "      <td>12세이상관람가</td>\n",
              "      <td>13381</td>\n",
              "      <td>674718.9</td>\n",
              "      <td>2.728461</td>\n",
              "      <td>6.686322e+06</td>\n",
              "    </tr>\n",
              "    <tr>\n",
              "      <th>4</th>\n",
              "      <td>8</td>\n",
              "      <td>8</td>\n",
              "      <td>8</td>\n",
              "      <td>캡틴 마블</td>\n",
              "      <td>5802810</td>\n",
              "      <td>미국</td>\n",
              "      <td>월트디즈니컴퍼니코리아 유한책임회사</td>\n",
              "      <td>액션</td>\n",
              "      <td>123</td>\n",
              "      <td>12세이상관람가</td>\n",
              "      <td>10251</td>\n",
              "      <td>813026.7</td>\n",
              "      <td>1.805130</td>\n",
              "      <td>2.364987e+06</td>\n",
              "    </tr>\n",
              "  </tbody>\n",
              "</table>\n",
              "</div>"
            ],
            "text/plain": [
              "   Unnamed: 0  Unnamed: 0.1  ...  abs_mean_score   actor_power\n",
              "0           4             4  ...        2.085190  5.109347e+06\n",
              "1           5             5  ...        1.486567  5.557060e+06\n",
              "2           6             6  ...        1.496247  3.854988e+06\n",
              "3           7             7  ...        2.728461  6.686322e+06\n",
              "4           8             8  ...        1.805130  2.364987e+06\n",
              "\n",
              "[5 rows x 14 columns]"
            ]
          },
          "metadata": {},
          "execution_count": 64
        }
      ]
    },
    {
      "cell_type": "code",
      "metadata": {
        "colab": {
          "base_uri": "https://localhost:8080/",
          "height": 36
        },
        "id": "gOotXGNDoE_P",
        "outputId": "b6db8ac1-6b85-4120-f834-6f864a821549"
      },
      "source": [
        "import platform\n",
        "\n",
        "platform.system()"
      ],
      "id": "gOotXGNDoE_P",
      "execution_count": 20,
      "outputs": [
        {
          "output_type": "execute_result",
          "data": {
            "application/vnd.google.colaboratory.intrinsic+json": {
              "type": "string"
            },
            "text/plain": [
              "'Linux'"
            ]
          },
          "metadata": {},
          "execution_count": 20
        }
      ]
    },
    {
      "cell_type": "code",
      "metadata": {
        "colab": {
          "base_uri": "https://localhost:8080/"
        },
        "id": "f5F6WPSMowKV",
        "outputId": "3afc548b-03ac-4ce4-f964-bc3ce9495664"
      },
      "source": [
        "cd ../"
      ],
      "id": "f5F6WPSMowKV",
      "execution_count": null,
      "outputs": [
        {
          "output_type": "stream",
          "name": "stdout",
          "text": [
            "/\n"
          ]
        }
      ]
    },
    {
      "cell_type": "code",
      "metadata": {
        "colab": {
          "base_uri": "https://localhost:8080/",
          "height": 386
        },
        "id": "8db2b099",
        "outputId": "55b60b7e-3dd1-469b-b415-171b49e5a964"
      },
      "source": [
        "import platform\n",
        "\n",
        "from matplotlib import font_manager, rc\n",
        "plt.rcParams['axes.unicode_minus'] = False\n",
        "\n",
        "if platform.system() == 'Darwin':\n",
        "    rc('font', family='AppleGothic')\n",
        "    print('Mac version')\n",
        "elif platform.system() == 'Windows':\n",
        "    path = \"c:/Windows/Fonts/malgun.ttf\"\n",
        "    font_name = font_manager.FontProperties(fname=path).get_name()\n",
        "    rc('font', family=font_name)\n",
        "    print('Windows version')\n",
        "elif platform.system() == 'Linux':\n",
        "    path = \"/usr/share/fonts/NanumFont/NanumGothicBold.ttf\"\n",
        "    font_name = font_manager.FontProperties(fname=path).get_name()\n",
        "    plt.rc('font', family=font_name)\n",
        "    print('Linux version')\n",
        "else:\n",
        "    print('Unknown system... sorry~~~~')\n"
      ],
      "id": "8db2b099",
      "execution_count": null,
      "outputs": [
        {
          "output_type": "error",
          "ename": "FileNotFoundError",
          "evalue": "ignored",
          "traceback": [
            "\u001b[0;31m---------------------------------------------------------------------------\u001b[0m",
            "\u001b[0;31mFileNotFoundError\u001b[0m                         Traceback (most recent call last)",
            "\u001b[0;32m<ipython-input-24-05f71c6553a0>\u001b[0m in \u001b[0;36m<module>\u001b[0;34m()\u001b[0m\n\u001b[1;32m     14\u001b[0m \u001b[0;32melif\u001b[0m \u001b[0mplatform\u001b[0m\u001b[0;34m.\u001b[0m\u001b[0msystem\u001b[0m\u001b[0;34m(\u001b[0m\u001b[0;34m)\u001b[0m \u001b[0;34m==\u001b[0m \u001b[0;34m'Linux'\u001b[0m\u001b[0;34m:\u001b[0m\u001b[0;34m\u001b[0m\u001b[0;34m\u001b[0m\u001b[0m\n\u001b[1;32m     15\u001b[0m     \u001b[0mpath\u001b[0m \u001b[0;34m=\u001b[0m \u001b[0;34m\"/usr/share/fonts/NanumFont/NanumGothicBold.ttf\"\u001b[0m\u001b[0;34m\u001b[0m\u001b[0;34m\u001b[0m\u001b[0m\n\u001b[0;32m---> 16\u001b[0;31m     \u001b[0mfont_name\u001b[0m \u001b[0;34m=\u001b[0m \u001b[0mfont_manager\u001b[0m\u001b[0;34m.\u001b[0m\u001b[0mFontProperties\u001b[0m\u001b[0;34m(\u001b[0m\u001b[0mfname\u001b[0m\u001b[0;34m=\u001b[0m\u001b[0mpath\u001b[0m\u001b[0;34m)\u001b[0m\u001b[0;34m.\u001b[0m\u001b[0mget_name\u001b[0m\u001b[0;34m(\u001b[0m\u001b[0;34m)\u001b[0m\u001b[0;34m\u001b[0m\u001b[0;34m\u001b[0m\u001b[0m\n\u001b[0m\u001b[1;32m     17\u001b[0m     \u001b[0mplt\u001b[0m\u001b[0;34m.\u001b[0m\u001b[0mrc\u001b[0m\u001b[0;34m(\u001b[0m\u001b[0;34m'font'\u001b[0m\u001b[0;34m,\u001b[0m \u001b[0mfamily\u001b[0m\u001b[0;34m=\u001b[0m\u001b[0mfont_name\u001b[0m\u001b[0;34m)\u001b[0m\u001b[0;34m\u001b[0m\u001b[0;34m\u001b[0m\u001b[0m\n\u001b[1;32m     18\u001b[0m     \u001b[0mprint\u001b[0m\u001b[0;34m(\u001b[0m\u001b[0;34m'Linux version'\u001b[0m\u001b[0;34m)\u001b[0m\u001b[0;34m\u001b[0m\u001b[0;34m\u001b[0m\u001b[0m\n",
            "\u001b[0;32m/usr/local/lib/python3.7/dist-packages/matplotlib/font_manager.py\u001b[0m in \u001b[0;36mget_name\u001b[0;34m(self)\u001b[0m\n\u001b[1;32m    687\u001b[0m         \u001b[0mReturn\u001b[0m \u001b[0mthe\u001b[0m \u001b[0mname\u001b[0m \u001b[0mof\u001b[0m \u001b[0mthe\u001b[0m \u001b[0mfont\u001b[0m \u001b[0mthat\u001b[0m \u001b[0mbest\u001b[0m \u001b[0mmatches\u001b[0m \u001b[0mthe\u001b[0m \u001b[0mfont\u001b[0m \u001b[0mproperties\u001b[0m\u001b[0;34m.\u001b[0m\u001b[0;34m\u001b[0m\u001b[0;34m\u001b[0m\u001b[0m\n\u001b[1;32m    688\u001b[0m         \"\"\"\n\u001b[0;32m--> 689\u001b[0;31m         \u001b[0;32mreturn\u001b[0m \u001b[0mget_font\u001b[0m\u001b[0;34m(\u001b[0m\u001b[0mfindfont\u001b[0m\u001b[0;34m(\u001b[0m\u001b[0mself\u001b[0m\u001b[0;34m)\u001b[0m\u001b[0;34m)\u001b[0m\u001b[0;34m.\u001b[0m\u001b[0mfamily_name\u001b[0m\u001b[0;34m\u001b[0m\u001b[0;34m\u001b[0m\u001b[0m\n\u001b[0m\u001b[1;32m    690\u001b[0m \u001b[0;34m\u001b[0m\u001b[0m\n\u001b[1;32m    691\u001b[0m     \u001b[0;32mdef\u001b[0m \u001b[0mget_style\u001b[0m\u001b[0;34m(\u001b[0m\u001b[0mself\u001b[0m\u001b[0;34m)\u001b[0m\u001b[0;34m:\u001b[0m\u001b[0;34m\u001b[0m\u001b[0;34m\u001b[0m\u001b[0m\n",
            "\u001b[0;32m/usr/local/lib/python3.7/dist-packages/matplotlib/font_manager.py\u001b[0m in \u001b[0;36mget_font\u001b[0;34m(filename, hinting_factor)\u001b[0m\n\u001b[1;32m   1327\u001b[0m         \u001b[0mhinting_factor\u001b[0m \u001b[0;34m=\u001b[0m \u001b[0mrcParams\u001b[0m\u001b[0;34m[\u001b[0m\u001b[0;34m'text.hinting_factor'\u001b[0m\u001b[0;34m]\u001b[0m\u001b[0;34m\u001b[0m\u001b[0;34m\u001b[0m\u001b[0m\n\u001b[1;32m   1328\u001b[0m     return _get_font(os.fspath(filename), hinting_factor,\n\u001b[0;32m-> 1329\u001b[0;31m                      _kerning_factor=rcParams['text.kerning_factor'])\n\u001b[0m\u001b[1;32m   1330\u001b[0m \u001b[0;34m\u001b[0m\u001b[0m\n\u001b[1;32m   1331\u001b[0m \u001b[0;34m\u001b[0m\u001b[0m\n",
            "\u001b[0;31mFileNotFoundError\u001b[0m: [Errno 2] No such file or directory: '/usr/share/fonts/NanumFont/NanumGothicBold.ttf'"
          ]
        }
      ]
    },
    {
      "cell_type": "markdown",
      "metadata": {
        "id": "241eb49a"
      },
      "source": [
        "## 3. 데이터 전처리\n",
        "## Data Cleansing & Pre-Processing  "
      ],
      "id": "241eb49a"
    },
    {
      "cell_type": "markdown",
      "metadata": {
        "id": "3147944c"
      },
      "source": [
        "### isna함수는 결측치 여부를 확인"
      ],
      "id": "3147944c"
    },
    {
      "cell_type": "code",
      "metadata": {
        "id": "65499a68",
        "colab": {
          "base_uri": "https://localhost:8080/",
          "height": 223
        },
        "outputId": "cf67541a-e60c-4c09-b35c-cf88e5e0d5c2"
      },
      "source": [
        "train.isna().head()"
      ],
      "id": "65499a68",
      "execution_count": 65,
      "outputs": [
        {
          "output_type": "execute_result",
          "data": {
            "text/html": [
              "<div>\n",
              "<style scoped>\n",
              "    .dataframe tbody tr th:only-of-type {\n",
              "        vertical-align: middle;\n",
              "    }\n",
              "\n",
              "    .dataframe tbody tr th {\n",
              "        vertical-align: top;\n",
              "    }\n",
              "\n",
              "    .dataframe thead th {\n",
              "        text-align: right;\n",
              "    }\n",
              "</style>\n",
              "<table border=\"1\" class=\"dataframe\">\n",
              "  <thead>\n",
              "    <tr style=\"text-align: right;\">\n",
              "      <th></th>\n",
              "      <th>Unnamed: 0</th>\n",
              "      <th>Unnamed: 0.1</th>\n",
              "      <th>Unnamed: 0.1.1</th>\n",
              "      <th>movie_name</th>\n",
              "      <th>audience</th>\n",
              "      <th>nation</th>\n",
              "      <th>distribution_company</th>\n",
              "      <th>genre</th>\n",
              "      <th>running_time</th>\n",
              "      <th>age</th>\n",
              "      <th>youtube_comment_count</th>\n",
              "      <th>youtube_view_mean</th>\n",
              "      <th>abs_mean_score</th>\n",
              "      <th>actor_power</th>\n",
              "    </tr>\n",
              "  </thead>\n",
              "  <tbody>\n",
              "    <tr>\n",
              "      <th>0</th>\n",
              "      <td>False</td>\n",
              "      <td>False</td>\n",
              "      <td>False</td>\n",
              "      <td>False</td>\n",
              "      <td>False</td>\n",
              "      <td>False</td>\n",
              "      <td>False</td>\n",
              "      <td>False</td>\n",
              "      <td>False</td>\n",
              "      <td>False</td>\n",
              "      <td>False</td>\n",
              "      <td>False</td>\n",
              "      <td>False</td>\n",
              "      <td>False</td>\n",
              "    </tr>\n",
              "    <tr>\n",
              "      <th>1</th>\n",
              "      <td>False</td>\n",
              "      <td>False</td>\n",
              "      <td>False</td>\n",
              "      <td>False</td>\n",
              "      <td>False</td>\n",
              "      <td>False</td>\n",
              "      <td>False</td>\n",
              "      <td>False</td>\n",
              "      <td>False</td>\n",
              "      <td>False</td>\n",
              "      <td>False</td>\n",
              "      <td>False</td>\n",
              "      <td>False</td>\n",
              "      <td>False</td>\n",
              "    </tr>\n",
              "    <tr>\n",
              "      <th>2</th>\n",
              "      <td>False</td>\n",
              "      <td>False</td>\n",
              "      <td>False</td>\n",
              "      <td>False</td>\n",
              "      <td>False</td>\n",
              "      <td>False</td>\n",
              "      <td>False</td>\n",
              "      <td>False</td>\n",
              "      <td>False</td>\n",
              "      <td>False</td>\n",
              "      <td>False</td>\n",
              "      <td>False</td>\n",
              "      <td>False</td>\n",
              "      <td>False</td>\n",
              "    </tr>\n",
              "    <tr>\n",
              "      <th>3</th>\n",
              "      <td>False</td>\n",
              "      <td>False</td>\n",
              "      <td>False</td>\n",
              "      <td>False</td>\n",
              "      <td>False</td>\n",
              "      <td>False</td>\n",
              "      <td>False</td>\n",
              "      <td>False</td>\n",
              "      <td>False</td>\n",
              "      <td>False</td>\n",
              "      <td>False</td>\n",
              "      <td>False</td>\n",
              "      <td>False</td>\n",
              "      <td>False</td>\n",
              "    </tr>\n",
              "    <tr>\n",
              "      <th>4</th>\n",
              "      <td>False</td>\n",
              "      <td>False</td>\n",
              "      <td>False</td>\n",
              "      <td>False</td>\n",
              "      <td>False</td>\n",
              "      <td>False</td>\n",
              "      <td>False</td>\n",
              "      <td>False</td>\n",
              "      <td>False</td>\n",
              "      <td>False</td>\n",
              "      <td>False</td>\n",
              "      <td>False</td>\n",
              "      <td>False</td>\n",
              "      <td>False</td>\n",
              "    </tr>\n",
              "  </tbody>\n",
              "</table>\n",
              "</div>"
            ],
            "text/plain": [
              "   Unnamed: 0  Unnamed: 0.1  ...  abs_mean_score  actor_power\n",
              "0       False         False  ...           False        False\n",
              "1       False         False  ...           False        False\n",
              "2       False         False  ...           False        False\n",
              "3       False         False  ...           False        False\n",
              "4       False         False  ...           False        False\n",
              "\n",
              "[5 rows x 14 columns]"
            ]
          },
          "metadata": {},
          "execution_count": 65
        }
      ]
    },
    {
      "cell_type": "markdown",
      "metadata": {
        "id": "8595f65a"
      },
      "source": [
        "이렇게 보면 결측치를 확인하기 어렵다. 여기서 sum함수를 이용해 확인해보자."
      ],
      "id": "8595f65a"
    },
    {
      "cell_type": "code",
      "metadata": {
        "id": "326dc9a9",
        "colab": {
          "base_uri": "https://localhost:8080/"
        },
        "outputId": "51b8f944-c31e-4e90-c22b-cdf304e898ca"
      },
      "source": [
        "train.isna().sum()"
      ],
      "id": "326dc9a9",
      "execution_count": 66,
      "outputs": [
        {
          "output_type": "execute_result",
          "data": {
            "text/plain": [
              "Unnamed: 0               0\n",
              "Unnamed: 0.1             0\n",
              "Unnamed: 0.1.1           0\n",
              "movie_name               0\n",
              "audience                 0\n",
              "nation                   0\n",
              "distribution_company     0\n",
              "genre                    0\n",
              "running_time             0\n",
              "age                      0\n",
              "youtube_comment_count    0\n",
              "youtube_view_mean        0\n",
              "abs_mean_score           0\n",
              "actor_power              0\n",
              "dtype: int64"
            ]
          },
          "metadata": {},
          "execution_count": 66
        }
      ]
    },
    {
      "cell_type": "code",
      "metadata": {
        "id": "33cd7bb1",
        "colab": {
          "base_uri": "https://localhost:8080/",
          "height": 143
        },
        "outputId": "9b88d1c9-0711-4297-83b8-f7f12d714804"
      },
      "source": [
        "test.isna().head()"
      ],
      "id": "33cd7bb1",
      "execution_count": 23,
      "outputs": [
        {
          "output_type": "execute_result",
          "data": {
            "text/html": [
              "<div>\n",
              "<style scoped>\n",
              "    .dataframe tbody tr th:only-of-type {\n",
              "        vertical-align: middle;\n",
              "    }\n",
              "\n",
              "    .dataframe tbody tr th {\n",
              "        vertical-align: top;\n",
              "    }\n",
              "\n",
              "    .dataframe thead th {\n",
              "        text-align: right;\n",
              "    }\n",
              "</style>\n",
              "<table border=\"1\" class=\"dataframe\">\n",
              "  <thead>\n",
              "    <tr style=\"text-align: right;\">\n",
              "      <th></th>\n",
              "      <th>Unnamed: 0,movie_name,audience,nation,distribution_company,genre,running_time,age,youtube_comment_count,youtube_view_mean,abs_mean_score,actor_power</th>\n",
              "    </tr>\n",
              "  </thead>\n",
              "  <tbody>\n",
              "    <tr>\n",
              "      <th>0</th>\n",
              "      <td>False</td>\n",
              "    </tr>\n",
              "    <tr>\n",
              "      <th>1</th>\n",
              "      <td>False</td>\n",
              "    </tr>\n",
              "    <tr>\n",
              "      <th>2</th>\n",
              "      <td>False</td>\n",
              "    </tr>\n",
              "  </tbody>\n",
              "</table>\n",
              "</div>"
            ],
            "text/plain": [
              "   Unnamed: 0,movie_name,audience,nation,distribution_company,genre,running_time,age,youtube_comment_count,youtube_view_mean,abs_mean_score,actor_power\n",
              "0                                              False                                                                                                   \n",
              "1                                              False                                                                                                   \n",
              "2                                              False                                                                                                   "
            ]
          },
          "metadata": {},
          "execution_count": 23
        }
      ]
    },
    {
      "cell_type": "code",
      "metadata": {
        "id": "3610b8bc",
        "colab": {
          "base_uri": "https://localhost:8080/"
        },
        "outputId": "7a6c7256-740a-4065-fdb6-dc1e371c305a"
      },
      "source": [
        "test.isna().sum()"
      ],
      "id": "3610b8bc",
      "execution_count": 26,
      "outputs": [
        {
          "output_type": "execute_result",
          "data": {
            "text/plain": [
              "Unnamed: 0,movie_name,audience,nation,distribution_company,genre,running_time,age,youtube_comment_count,youtube_view_mean,abs_mean_score,actor_power    0\n",
              "dtype: int64"
            ]
          },
          "metadata": {},
          "execution_count": 26
        }
      ]
    },
    {
      "cell_type": "markdown",
      "metadata": {
        "id": "dc70598e"
      },
      "source": [
        "## 4. 변수 선택 및 모델 구축\n",
        "## Feature Engineering & Initial Modeling  "
      ],
      "id": "dc70598e"
    },
    {
      "cell_type": "code",
      "metadata": {
        "id": "4f3bf38c"
      },
      "source": [
        "model = lgb.LGBMRegressor(random_state=777, n_estimators=1000)"
      ],
      "id": "4f3bf38c",
      "execution_count": 27,
      "outputs": []
    },
    {
      "cell_type": "markdown",
      "metadata": {
        "id": "e100dc5e"
      },
      "source": [
        "random_state=777은 어느 pc에서도 결과값이 같게 나오게 고정시켜준다고 이해를 하자. n_estimators은 순차적으로 만드는 모델을 1000번 반복해서 만들겟다는 뜻"
      ],
      "id": "e100dc5e"
    },
    {
      "cell_type": "code",
      "metadata": {
        "id": "33a6b949"
      },
      "source": [
        "#features = ['distribution_company','genre','running_time','age','nation','youtube_comment_count','youtube_view_mean','abs_mean_score','actor_power']\n",
        "features = ['running_time','youtube_comment_count','youtube_view_mean','abs_mean_score','actor_power']\n",
        "target = ['audience']"
      ],
      "id": "33a6b949",
      "execution_count": 70,
      "outputs": []
    },
    {
      "cell_type": "markdown",
      "metadata": {
        "id": "284ceefd"
      },
      "source": [
        "이제 독립변수(features)와 종속변수(target)를 만들어주자."
      ],
      "id": "284ceefd"
    },
    {
      "cell_type": "code",
      "metadata": {
        "id": "e209cee9"
      },
      "source": [
        "X_train, X_test, y_train = train[features], test[features], train[target]"
      ],
      "id": "e209cee9",
      "execution_count": 71,
      "outputs": []
    },
    {
      "cell_type": "markdown",
      "metadata": {
        "id": "e3376aed"
      },
      "source": [
        "X,y를 이제 tarin,test에 변수들을 저장해주도록 하자. "
      ],
      "id": "e3376aed"
    },
    {
      "cell_type": "code",
      "metadata": {
        "id": "c4966b47",
        "colab": {
          "base_uri": "https://localhost:8080/"
        },
        "outputId": "ccadce3e-6366-464d-8f48-0c9c1362cc55"
      },
      "source": [
        "model.fit(X_train, y_train)"
      ],
      "id": "c4966b47",
      "execution_count": 72,
      "outputs": [
        {
          "output_type": "execute_result",
          "data": {
            "text/plain": [
              "LGBMRegressor(n_estimators=1000, random_state=777)"
            ]
          },
          "metadata": {},
          "execution_count": 72
        }
      ]
    },
    {
      "cell_type": "markdown",
      "metadata": {
        "id": "8a960284"
      },
      "source": [
        "#### LGBM 모델을 학습시켜주기"
      ],
      "id": "8a960284"
    },
    {
      "cell_type": "code",
      "metadata": {
        "id": "68660989"
      },
      "source": [
        "singleLGBM = submission.copy()"
      ],
      "id": "68660989",
      "execution_count": 73,
      "outputs": []
    },
    {
      "cell_type": "code",
      "metadata": {
        "id": "20e8fc7a",
        "colab": {
          "base_uri": "https://localhost:8080/",
          "height": 175
        },
        "outputId": "bb891ea8-9dea-4391-948d-79589f887e22"
      },
      "source": [
        "singleLGBM.head()"
      ],
      "id": "20e8fc7a",
      "execution_count": 74,
      "outputs": [
        {
          "output_type": "execute_result",
          "data": {
            "text/html": [
              "<div>\n",
              "<style scoped>\n",
              "    .dataframe tbody tr th:only-of-type {\n",
              "        vertical-align: middle;\n",
              "    }\n",
              "\n",
              "    .dataframe tbody tr th {\n",
              "        vertical-align: top;\n",
              "    }\n",
              "\n",
              "    .dataframe thead th {\n",
              "        text-align: right;\n",
              "    }\n",
              "</style>\n",
              "<table border=\"1\" class=\"dataframe\">\n",
              "  <thead>\n",
              "    <tr style=\"text-align: right;\">\n",
              "      <th></th>\n",
              "      <th>movie_name</th>\n",
              "      <th>audience</th>\n",
              "    </tr>\n",
              "  </thead>\n",
              "  <tbody>\n",
              "    <tr>\n",
              "      <th>0</th>\n",
              "      <td>극한직업</td>\n",
              "      <td>0</td>\n",
              "    </tr>\n",
              "    <tr>\n",
              "      <th>1</th>\n",
              "      <td>어벤져서: 엔드게임</td>\n",
              "      <td>0</td>\n",
              "    </tr>\n",
              "    <tr>\n",
              "      <th>2</th>\n",
              "      <td>겨울왕국 2</td>\n",
              "      <td>0</td>\n",
              "    </tr>\n",
              "    <tr>\n",
              "      <th>3</th>\n",
              "      <td>알라딘</td>\n",
              "      <td>0</td>\n",
              "    </tr>\n",
              "  </tbody>\n",
              "</table>\n",
              "</div>"
            ],
            "text/plain": [
              "   movie_name  audience\n",
              "0        극한직업         0\n",
              "1  어벤져서: 엔드게임         0\n",
              "2      겨울왕국 2         0\n",
              "3         알라딘         0"
            ]
          },
          "metadata": {},
          "execution_count": 74
        }
      ]
    },
    {
      "cell_type": "code",
      "metadata": {
        "id": "b98972c2"
      },
      "source": [
        "singleLGBM['audience'] = model.predict(X_test)"
      ],
      "id": "b98972c2",
      "execution_count": 75,
      "outputs": []
    },
    {
      "cell_type": "code",
      "metadata": {
        "id": "57981559",
        "colab": {
          "base_uri": "https://localhost:8080/",
          "height": 175
        },
        "outputId": "e5f5febc-17a6-4aff-c9ca-5f14265c2ad3"
      },
      "source": [
        "singleLGBM.head()"
      ],
      "id": "57981559",
      "execution_count": 76,
      "outputs": [
        {
          "output_type": "execute_result",
          "data": {
            "text/html": [
              "<div>\n",
              "<style scoped>\n",
              "    .dataframe tbody tr th:only-of-type {\n",
              "        vertical-align: middle;\n",
              "    }\n",
              "\n",
              "    .dataframe tbody tr th {\n",
              "        vertical-align: top;\n",
              "    }\n",
              "\n",
              "    .dataframe thead th {\n",
              "        text-align: right;\n",
              "    }\n",
              "</style>\n",
              "<table border=\"1\" class=\"dataframe\">\n",
              "  <thead>\n",
              "    <tr style=\"text-align: right;\">\n",
              "      <th></th>\n",
              "      <th>movie_name</th>\n",
              "      <th>audience</th>\n",
              "    </tr>\n",
              "  </thead>\n",
              "  <tbody>\n",
              "    <tr>\n",
              "      <th>0</th>\n",
              "      <td>극한직업</td>\n",
              "      <td>6.211123e+06</td>\n",
              "    </tr>\n",
              "    <tr>\n",
              "      <th>1</th>\n",
              "      <td>어벤져서: 엔드게임</td>\n",
              "      <td>1.670796e+07</td>\n",
              "    </tr>\n",
              "    <tr>\n",
              "      <th>2</th>\n",
              "      <td>겨울왕국 2</td>\n",
              "      <td>7.339427e+06</td>\n",
              "    </tr>\n",
              "    <tr>\n",
              "      <th>3</th>\n",
              "      <td>알라딘</td>\n",
              "      <td>9.139713e+06</td>\n",
              "    </tr>\n",
              "  </tbody>\n",
              "</table>\n",
              "</div>"
            ],
            "text/plain": [
              "   movie_name      audience\n",
              "0        극한직업  6.211123e+06\n",
              "1  어벤져서: 엔드게임  1.670796e+07\n",
              "2      겨울왕국 2  7.339427e+06\n",
              "3         알라딘  9.139713e+06"
            ]
          },
          "metadata": {},
          "execution_count": 76
        }
      ]
    },
    {
      "cell_type": "code",
      "metadata": {
        "colab": {
          "base_uri": "https://localhost:8080/"
        },
        "id": "XMypbRFpgARW",
        "outputId": "d466f41e-a1c7-4828-c9d7-fc13f01b011c"
      },
      "source": [
        "6.211123e+06"
      ],
      "id": "XMypbRFpgARW",
      "execution_count": 77,
      "outputs": [
        {
          "output_type": "execute_result",
          "data": {
            "text/plain": [
              "6211123.0"
            ]
          },
          "metadata": {},
          "execution_count": 77
        }
      ]
    },
    {
      "cell_type": "code",
      "metadata": {
        "colab": {
          "base_uri": "https://localhost:8080/",
          "height": 324
        },
        "id": "HZtPHC6xvbh8",
        "outputId": "65cefb65-0589-411f-a807-dc72dbc0ee8b"
      },
      "source": [
        "mean_squared_error(1,2)"
      ],
      "id": "HZtPHC6xvbh8",
      "execution_count": 3,
      "outputs": [
        {
          "output_type": "error",
          "ename": "TypeError",
          "evalue": "ignored",
          "traceback": [
            "\u001b[0;31m---------------------------------------------------------------------------\u001b[0m",
            "\u001b[0;31mTypeError\u001b[0m                                 Traceback (most recent call last)",
            "\u001b[0;32m<ipython-input-3-f0e66d92e2b8>\u001b[0m in \u001b[0;36m<module>\u001b[0;34m()\u001b[0m\n\u001b[0;32m----> 1\u001b[0;31m \u001b[0mmean_squared_error\u001b[0m\u001b[0;34m(\u001b[0m\u001b[0;36m1\u001b[0m\u001b[0;34m,\u001b[0m\u001b[0;36m2\u001b[0m\u001b[0;34m)\u001b[0m\u001b[0;34m\u001b[0m\u001b[0;34m\u001b[0m\u001b[0m\n\u001b[0m",
            "\u001b[0;32m/usr/local/lib/python3.7/dist-packages/sklearn/metrics/_regression.py\u001b[0m in \u001b[0;36mmean_squared_error\u001b[0;34m(y_true, y_pred, sample_weight, multioutput, squared)\u001b[0m\n\u001b[1;32m    422\u001b[0m     \"\"\"\n\u001b[1;32m    423\u001b[0m     y_type, y_true, y_pred, multioutput = _check_reg_targets(\n\u001b[0;32m--> 424\u001b[0;31m         \u001b[0my_true\u001b[0m\u001b[0;34m,\u001b[0m \u001b[0my_pred\u001b[0m\u001b[0;34m,\u001b[0m \u001b[0mmultioutput\u001b[0m\u001b[0;34m\u001b[0m\u001b[0;34m\u001b[0m\u001b[0m\n\u001b[0m\u001b[1;32m    425\u001b[0m     )\n\u001b[1;32m    426\u001b[0m     \u001b[0mcheck_consistent_length\u001b[0m\u001b[0;34m(\u001b[0m\u001b[0my_true\u001b[0m\u001b[0;34m,\u001b[0m \u001b[0my_pred\u001b[0m\u001b[0;34m,\u001b[0m \u001b[0msample_weight\u001b[0m\u001b[0;34m)\u001b[0m\u001b[0;34m\u001b[0m\u001b[0;34m\u001b[0m\u001b[0m\n",
            "\u001b[0;32m/usr/local/lib/python3.7/dist-packages/sklearn/metrics/_regression.py\u001b[0m in \u001b[0;36m_check_reg_targets\u001b[0;34m(y_true, y_pred, multioutput, dtype)\u001b[0m\n\u001b[1;32m     87\u001b[0m         \u001b[0mthe\u001b[0m \u001b[0mdtype\u001b[0m \u001b[0margument\u001b[0m \u001b[0mpassed\u001b[0m \u001b[0mto\u001b[0m \u001b[0mcheck_array\u001b[0m\u001b[0;34m.\u001b[0m\u001b[0;34m\u001b[0m\u001b[0;34m\u001b[0m\u001b[0m\n\u001b[1;32m     88\u001b[0m     \"\"\"\n\u001b[0;32m---> 89\u001b[0;31m     \u001b[0mcheck_consistent_length\u001b[0m\u001b[0;34m(\u001b[0m\u001b[0my_true\u001b[0m\u001b[0;34m,\u001b[0m \u001b[0my_pred\u001b[0m\u001b[0;34m)\u001b[0m\u001b[0;34m\u001b[0m\u001b[0;34m\u001b[0m\u001b[0m\n\u001b[0m\u001b[1;32m     90\u001b[0m     \u001b[0my_true\u001b[0m \u001b[0;34m=\u001b[0m \u001b[0mcheck_array\u001b[0m\u001b[0;34m(\u001b[0m\u001b[0my_true\u001b[0m\u001b[0;34m,\u001b[0m \u001b[0mensure_2d\u001b[0m\u001b[0;34m=\u001b[0m\u001b[0;32mFalse\u001b[0m\u001b[0;34m,\u001b[0m \u001b[0mdtype\u001b[0m\u001b[0;34m=\u001b[0m\u001b[0mdtype\u001b[0m\u001b[0;34m)\u001b[0m\u001b[0;34m\u001b[0m\u001b[0;34m\u001b[0m\u001b[0m\n\u001b[1;32m     91\u001b[0m     \u001b[0my_pred\u001b[0m \u001b[0;34m=\u001b[0m \u001b[0mcheck_array\u001b[0m\u001b[0;34m(\u001b[0m\u001b[0my_pred\u001b[0m\u001b[0;34m,\u001b[0m \u001b[0mensure_2d\u001b[0m\u001b[0;34m=\u001b[0m\u001b[0;32mFalse\u001b[0m\u001b[0;34m,\u001b[0m \u001b[0mdtype\u001b[0m\u001b[0;34m=\u001b[0m\u001b[0mdtype\u001b[0m\u001b[0;34m)\u001b[0m\u001b[0;34m\u001b[0m\u001b[0;34m\u001b[0m\u001b[0m\n",
            "\u001b[0;32m/usr/local/lib/python3.7/dist-packages/sklearn/utils/validation.py\u001b[0m in \u001b[0;36mcheck_consistent_length\u001b[0;34m(*arrays)\u001b[0m\n\u001b[1;32m    326\u001b[0m     \"\"\"\n\u001b[1;32m    327\u001b[0m \u001b[0;34m\u001b[0m\u001b[0m\n\u001b[0;32m--> 328\u001b[0;31m     \u001b[0mlengths\u001b[0m \u001b[0;34m=\u001b[0m \u001b[0;34m[\u001b[0m\u001b[0m_num_samples\u001b[0m\u001b[0;34m(\u001b[0m\u001b[0mX\u001b[0m\u001b[0;34m)\u001b[0m \u001b[0;32mfor\u001b[0m \u001b[0mX\u001b[0m \u001b[0;32min\u001b[0m \u001b[0marrays\u001b[0m \u001b[0;32mif\u001b[0m \u001b[0mX\u001b[0m \u001b[0;32mis\u001b[0m \u001b[0;32mnot\u001b[0m \u001b[0;32mNone\u001b[0m\u001b[0;34m]\u001b[0m\u001b[0;34m\u001b[0m\u001b[0;34m\u001b[0m\u001b[0m\n\u001b[0m\u001b[1;32m    329\u001b[0m     \u001b[0muniques\u001b[0m \u001b[0;34m=\u001b[0m \u001b[0mnp\u001b[0m\u001b[0;34m.\u001b[0m\u001b[0munique\u001b[0m\u001b[0;34m(\u001b[0m\u001b[0mlengths\u001b[0m\u001b[0;34m)\u001b[0m\u001b[0;34m\u001b[0m\u001b[0;34m\u001b[0m\u001b[0m\n\u001b[1;32m    330\u001b[0m     \u001b[0;32mif\u001b[0m \u001b[0mlen\u001b[0m\u001b[0;34m(\u001b[0m\u001b[0muniques\u001b[0m\u001b[0;34m)\u001b[0m \u001b[0;34m>\u001b[0m \u001b[0;36m1\u001b[0m\u001b[0;34m:\u001b[0m\u001b[0;34m\u001b[0m\u001b[0;34m\u001b[0m\u001b[0m\n",
            "\u001b[0;32m/usr/local/lib/python3.7/dist-packages/sklearn/utils/validation.py\u001b[0m in \u001b[0;36m<listcomp>\u001b[0;34m(.0)\u001b[0m\n\u001b[1;32m    326\u001b[0m     \"\"\"\n\u001b[1;32m    327\u001b[0m \u001b[0;34m\u001b[0m\u001b[0m\n\u001b[0;32m--> 328\u001b[0;31m     \u001b[0mlengths\u001b[0m \u001b[0;34m=\u001b[0m \u001b[0;34m[\u001b[0m\u001b[0m_num_samples\u001b[0m\u001b[0;34m(\u001b[0m\u001b[0mX\u001b[0m\u001b[0;34m)\u001b[0m \u001b[0;32mfor\u001b[0m \u001b[0mX\u001b[0m \u001b[0;32min\u001b[0m \u001b[0marrays\u001b[0m \u001b[0;32mif\u001b[0m \u001b[0mX\u001b[0m \u001b[0;32mis\u001b[0m \u001b[0;32mnot\u001b[0m \u001b[0;32mNone\u001b[0m\u001b[0;34m]\u001b[0m\u001b[0;34m\u001b[0m\u001b[0;34m\u001b[0m\u001b[0m\n\u001b[0m\u001b[1;32m    329\u001b[0m     \u001b[0muniques\u001b[0m \u001b[0;34m=\u001b[0m \u001b[0mnp\u001b[0m\u001b[0;34m.\u001b[0m\u001b[0munique\u001b[0m\u001b[0;34m(\u001b[0m\u001b[0mlengths\u001b[0m\u001b[0;34m)\u001b[0m\u001b[0;34m\u001b[0m\u001b[0;34m\u001b[0m\u001b[0m\n\u001b[1;32m    330\u001b[0m     \u001b[0;32mif\u001b[0m \u001b[0mlen\u001b[0m\u001b[0;34m(\u001b[0m\u001b[0muniques\u001b[0m\u001b[0;34m)\u001b[0m \u001b[0;34m>\u001b[0m \u001b[0;36m1\u001b[0m\u001b[0;34m:\u001b[0m\u001b[0;34m\u001b[0m\u001b[0;34m\u001b[0m\u001b[0m\n",
            "\u001b[0;32m/usr/local/lib/python3.7/dist-packages/sklearn/utils/validation.py\u001b[0m in \u001b[0;36m_num_samples\u001b[0;34m(x)\u001b[0m\n\u001b[1;32m    262\u001b[0m             \u001b[0mx\u001b[0m \u001b[0;34m=\u001b[0m \u001b[0mnp\u001b[0m\u001b[0;34m.\u001b[0m\u001b[0masarray\u001b[0m\u001b[0;34m(\u001b[0m\u001b[0mx\u001b[0m\u001b[0;34m)\u001b[0m\u001b[0;34m\u001b[0m\u001b[0;34m\u001b[0m\u001b[0m\n\u001b[1;32m    263\u001b[0m         \u001b[0;32melse\u001b[0m\u001b[0;34m:\u001b[0m\u001b[0;34m\u001b[0m\u001b[0;34m\u001b[0m\u001b[0m\n\u001b[0;32m--> 264\u001b[0;31m             \u001b[0;32mraise\u001b[0m \u001b[0mTypeError\u001b[0m\u001b[0;34m(\u001b[0m\u001b[0mmessage\u001b[0m\u001b[0;34m)\u001b[0m\u001b[0;34m\u001b[0m\u001b[0;34m\u001b[0m\u001b[0m\n\u001b[0m\u001b[1;32m    265\u001b[0m \u001b[0;34m\u001b[0m\u001b[0m\n\u001b[1;32m    266\u001b[0m     \u001b[0;32mif\u001b[0m \u001b[0mhasattr\u001b[0m\u001b[0;34m(\u001b[0m\u001b[0mx\u001b[0m\u001b[0;34m,\u001b[0m \u001b[0;34m\"shape\"\u001b[0m\u001b[0;34m)\u001b[0m \u001b[0;32mand\u001b[0m \u001b[0mx\u001b[0m\u001b[0;34m.\u001b[0m\u001b[0mshape\u001b[0m \u001b[0;32mis\u001b[0m \u001b[0;32mnot\u001b[0m \u001b[0;32mNone\u001b[0m\u001b[0;34m:\u001b[0m\u001b[0;34m\u001b[0m\u001b[0;34m\u001b[0m\u001b[0m\n",
            "\u001b[0;31mTypeError\u001b[0m: Expected sequence or array-like, got <class 'int'>"
          ]
        }
      ]
    },
    {
      "cell_type": "markdown",
      "metadata": {
        "id": "bd171c41"
      },
      "source": [
        "많이 잘못 됬다는것을 볼 수 있다. 관객수가 음수값이 나올수가 없는데 음수가 나오는것을 확인할수있다. 이 모델은 성능이 별로 안좋은거 같다. 다른 모델로 넘어가보도록 하자."
      ],
      "id": "bd171c41"
    },
    {
      "cell_type": "markdown",
      "metadata": {
        "id": "cb467a93"
      },
      "source": [
        "## 다음 모델을 사용해보기. -> 글씨 형식 다 수치형 데이터로 변환해주기"
      ],
      "id": "cb467a93"
    },
    {
      "cell_type": "code",
      "metadata": {
        "id": "3f8a6a2b",
        "colab": {
          "base_uri": "https://localhost:8080/"
        },
        "outputId": "17b60411-8f7b-472f-db3c-0cf718de773c"
      },
      "source": [
        "features"
      ],
      "id": "3f8a6a2b",
      "execution_count": 82,
      "outputs": [
        {
          "output_type": "execute_result",
          "data": {
            "text/plain": [
              "['running_time',\n",
              " 'youtube_comment_count',\n",
              " 'youtube_view_mean',\n",
              " 'abs_mean_score',\n",
              " 'actor_power']"
            ]
          },
          "metadata": {},
          "execution_count": 82
        }
      ]
    },
    {
      "cell_type": "markdown",
      "metadata": {
        "id": "ea796d25"
      },
      "source": [
        "- 글자로 된 데이터 숫자로 변환하여 사용하기"
      ],
      "id": "ea796d25"
    },
    {
      "cell_type": "code",
      "metadata": {
        "id": "70e5e0ea",
        "colab": {
          "base_uri": "https://localhost:8080/"
        },
        "outputId": "f86f28cb-4fb7-4e2d-b9b4-862e653c78ee"
      },
      "source": [
        "train.genre"
      ],
      "id": "70e5e0ea",
      "execution_count": 78,
      "outputs": [
        {
          "output_type": "execute_result",
          "data": {
            "text/plain": [
              "0        드라마\n",
              "1        코미디\n",
              "2         액션\n",
              "3       어드벤처\n",
              "4         액션\n",
              "       ...  \n",
              "85      어드벤처\n",
              "86        액션\n",
              "87    멜로/로맨스\n",
              "88      미스터리\n",
              "89       드라마\n",
              "Name: genre, Length: 90, dtype: object"
            ]
          },
          "metadata": {},
          "execution_count": 78
        }
      ]
    },
    {
      "cell_type": "code",
      "metadata": {
        "id": "8a5ab5b8"
      },
      "source": [
        "from sklearn import preprocessing\n",
        "le = preprocessing.LabelEncoder() \n",
        "train['genre'] = le.fit_transform(train['genre'])"
      ],
      "id": "8a5ab5b8",
      "execution_count": 79,
      "outputs": []
    },
    {
      "cell_type": "markdown",
      "metadata": {
        "id": "5e64a970"
      },
      "source": [
        "sklearn에서 제공하는 labelEncoder를 활용해서 문자열을 숫자로 변환해보자."
      ],
      "id": "5e64a970"
    },
    {
      "cell_type": "code",
      "metadata": {
        "id": "b7cce685",
        "colab": {
          "base_uri": "https://localhost:8080/"
        },
        "outputId": "98ddc82e-55ac-43e6-f701-37f9d95f4ef4"
      },
      "source": [
        "train['genre']"
      ],
      "id": "b7cce685",
      "execution_count": 80,
      "outputs": [
        {
          "output_type": "execute_result",
          "data": {
            "text/plain": [
              "0      1\n",
              "1     11\n",
              "2      8\n",
              "3      9\n",
              "4      8\n",
              "      ..\n",
              "85     9\n",
              "86     8\n",
              "87     2\n",
              "88     3\n",
              "89     1\n",
              "Name: genre, Length: 90, dtype: int64"
            ]
          },
          "metadata": {},
          "execution_count": 80
        }
      ]
    },
    {
      "cell_type": "markdown",
      "metadata": {
        "id": "a3bfe7f3"
      },
      "source": [
        "숫자로 변환되있는걸 확인 할 수 있다. test셋도 변환해주자."
      ],
      "id": "a3bfe7f3"
    },
    {
      "cell_type": "code",
      "metadata": {
        "id": "7af3f250"
      },
      "source": [
        "test['genre'] = le.transform(test['genre'])"
      ],
      "id": "7af3f250",
      "execution_count": 81,
      "outputs": []
    },
    {
      "cell_type": "markdown",
      "metadata": {
        "id": "65ee4569"
      },
      "source": [
        "위 fit_transfirm인데 test셋은 transform으로만 변환하였다. test셋에 또 fit(훈련하다)을 넣어주면 결과 값이 틀려질수 있으니 transform만 해야된다."
      ],
      "id": "65ee4569"
    },
    {
      "cell_type": "code",
      "metadata": {
        "id": "62b2cb27",
        "outputId": "1fcdc72c-5060-4833-82ae-b27e76205510"
      },
      "source": [
        "test['genre']"
      ],
      "id": "62b2cb27",
      "execution_count": null,
      "outputs": [
        {
          "data": {
            "text/plain": [
              "0       2\n",
              "1       5\n",
              "2       4\n",
              "3      10\n",
              "4       1\n",
              "       ..\n",
              "238     4\n",
              "239     3\n",
              "240     2\n",
              "241     4\n",
              "242     5\n",
              "Name: genre, Length: 243, dtype: int64"
            ]
          },
          "execution_count": 60,
          "metadata": {},
          "output_type": "execute_result"
        }
      ]
    },
    {
      "cell_type": "markdown",
      "metadata": {
        "id": "a041ff36"
      },
      "source": [
        "test셋도 변환될걸 확인 할 수 있다."
      ],
      "id": "a041ff36"
    },
    {
      "cell_type": "code",
      "metadata": {
        "id": "51b2c827"
      },
      "source": [
        "features = ['genre','running_time','youtube_comment_count','youtube_view_mean','abs_mean_score','actor_power']\n"
      ],
      "id": "51b2c827",
      "execution_count": 83,
      "outputs": []
    },
    {
      "cell_type": "markdown",
      "metadata": {
        "id": "9b3c3610"
      },
      "source": [
        "features에 전처리된 dir_prev_bfnum와 문자열을 숫자로 변환한 genre를 추가해주자."
      ],
      "id": "9b3c3610"
    },
    {
      "cell_type": "code",
      "metadata": {
        "id": "ff710376"
      },
      "source": [
        "X_train, X_test, y_train = train[features], test[features], train[target]"
      ],
      "id": "ff710376",
      "execution_count": 84,
      "outputs": []
    },
    {
      "cell_type": "markdown",
      "metadata": {
        "id": "fe97b4a9"
      },
      "source": [
        "컬럼이 2개 추가되어 위와 같이 세팅을 해주면 된다."
      ],
      "id": "fe97b4a9"
    },
    {
      "cell_type": "markdown",
      "metadata": {
        "id": "g5DeJyw1oxc1"
      },
      "source": [
        "#### simple LGBM으로 다시 학습"
      ],
      "id": "g5DeJyw1oxc1"
    },
    {
      "cell_type": "code",
      "metadata": {
        "id": "EWKS4z2Lovxf"
      },
      "source": [
        "model = lgb.LGBMRegressor(random_state=777, n_estimators=1000)"
      ],
      "id": "EWKS4z2Lovxf",
      "execution_count": 87,
      "outputs": []
    },
    {
      "cell_type": "code",
      "metadata": {
        "colab": {
          "base_uri": "https://localhost:8080/"
        },
        "id": "m1IqfB5spQBo",
        "outputId": "a098aaa3-eb67-4738-a990-d0a159f79545"
      },
      "source": [
        "model.fit(X_train, y_train)"
      ],
      "id": "m1IqfB5spQBo",
      "execution_count": 88,
      "outputs": [
        {
          "output_type": "execute_result",
          "data": {
            "text/plain": [
              "LGBMRegressor(n_estimators=1000, random_state=777)"
            ]
          },
          "metadata": {},
          "execution_count": 88
        }
      ]
    },
    {
      "cell_type": "code",
      "metadata": {
        "id": "wNTPS5WRpP7g"
      },
      "source": [
        "singleLGBM = submission.copy()"
      ],
      "id": "wNTPS5WRpP7g",
      "execution_count": 89,
      "outputs": []
    },
    {
      "cell_type": "code",
      "metadata": {
        "id": "Y47EX9wMpP1I"
      },
      "source": [
        "singleLGBM['audience'] = model.predict(X_test)"
      ],
      "id": "Y47EX9wMpP1I",
      "execution_count": 90,
      "outputs": []
    },
    {
      "cell_type": "code",
      "metadata": {
        "colab": {
          "base_uri": "https://localhost:8080/",
          "height": 175
        },
        "id": "BNNlLxWGpPuZ",
        "outputId": "41f9b81f-d9d7-4f5a-e004-34938381d1c0"
      },
      "source": [
        "singleLGBM"
      ],
      "id": "BNNlLxWGpPuZ",
      "execution_count": 91,
      "outputs": [
        {
          "output_type": "execute_result",
          "data": {
            "text/html": [
              "<div>\n",
              "<style scoped>\n",
              "    .dataframe tbody tr th:only-of-type {\n",
              "        vertical-align: middle;\n",
              "    }\n",
              "\n",
              "    .dataframe tbody tr th {\n",
              "        vertical-align: top;\n",
              "    }\n",
              "\n",
              "    .dataframe thead th {\n",
              "        text-align: right;\n",
              "    }\n",
              "</style>\n",
              "<table border=\"1\" class=\"dataframe\">\n",
              "  <thead>\n",
              "    <tr style=\"text-align: right;\">\n",
              "      <th></th>\n",
              "      <th>movie_name</th>\n",
              "      <th>audience</th>\n",
              "    </tr>\n",
              "  </thead>\n",
              "  <tbody>\n",
              "    <tr>\n",
              "      <th>0</th>\n",
              "      <td>극한직업</td>\n",
              "      <td>5.960190e+06</td>\n",
              "    </tr>\n",
              "    <tr>\n",
              "      <th>1</th>\n",
              "      <td>어벤져서: 엔드게임</td>\n",
              "      <td>1.318630e+07</td>\n",
              "    </tr>\n",
              "    <tr>\n",
              "      <th>2</th>\n",
              "      <td>겨울왕국 2</td>\n",
              "      <td>6.458905e+06</td>\n",
              "    </tr>\n",
              "    <tr>\n",
              "      <th>3</th>\n",
              "      <td>알라딘</td>\n",
              "      <td>8.771846e+06</td>\n",
              "    </tr>\n",
              "  </tbody>\n",
              "</table>\n",
              "</div>"
            ],
            "text/plain": [
              "   movie_name      audience\n",
              "0        극한직업  5.960190e+06\n",
              "1  어벤져서: 엔드게임  1.318630e+07\n",
              "2      겨울왕국 2  6.458905e+06\n",
              "3         알라딘  8.771846e+06"
            ]
          },
          "metadata": {},
          "execution_count": 91
        }
      ]
    },
    {
      "cell_type": "code",
      "metadata": {
        "colab": {
          "base_uri": "https://localhost:8080/"
        },
        "id": "BliZE1qspPoF",
        "outputId": "893cbd54-f9d7-4f9b-bc14-2d5265ebdc5f"
      },
      "source": [
        "test['audience']"
      ],
      "id": "BliZE1qspPoF",
      "execution_count": 93,
      "outputs": [
        {
          "output_type": "execute_result",
          "data": {
            "text/plain": [
              "0    16265618\n",
              "1    13934592\n",
              "2    27495584\n",
              "3    25447554\n",
              "Name: audience, dtype: int64"
            ]
          },
          "metadata": {},
          "execution_count": 93
        }
      ]
    },
    {
      "cell_type": "code",
      "metadata": {
        "scrolled": true,
        "id": "2e58db10",
        "outputId": "d8ddc86d-bb45-4df0-faf4-223f5f6b6f97"
      },
      "source": [
        "feLightGBM.head()"
      ],
      "id": "2e58db10",
      "execution_count": null,
      "outputs": [
        {
          "data": {
            "text/html": [
              "<div>\n",
              "<style scoped>\n",
              "    .dataframe tbody tr th:only-of-type {\n",
              "        vertical-align: middle;\n",
              "    }\n",
              "\n",
              "    .dataframe tbody tr th {\n",
              "        vertical-align: top;\n",
              "    }\n",
              "\n",
              "    .dataframe thead th {\n",
              "        text-align: right;\n",
              "    }\n",
              "</style>\n",
              "<table border=\"1\" class=\"dataframe\">\n",
              "  <thead>\n",
              "    <tr style=\"text-align: right;\">\n",
              "      <th></th>\n",
              "      <th>title</th>\n",
              "      <th>box_off_num</th>\n",
              "    </tr>\n",
              "  </thead>\n",
              "  <tbody>\n",
              "    <tr>\n",
              "      <th>0</th>\n",
              "      <td>용서는 없다</td>\n",
              "      <td>3.395493e+06</td>\n",
              "    </tr>\n",
              "    <tr>\n",
              "      <th>1</th>\n",
              "      <td>아빠가 여자를 좋아해</td>\n",
              "      <td>8.235439e+05</td>\n",
              "    </tr>\n",
              "    <tr>\n",
              "      <th>2</th>\n",
              "      <td>하모니</td>\n",
              "      <td>1.162055e+06</td>\n",
              "    </tr>\n",
              "    <tr>\n",
              "      <th>3</th>\n",
              "      <td>의형제</td>\n",
              "      <td>2.184689e+06</td>\n",
              "    </tr>\n",
              "    <tr>\n",
              "      <th>4</th>\n",
              "      <td>평행 이론</td>\n",
              "      <td>8.093288e+05</td>\n",
              "    </tr>\n",
              "  </tbody>\n",
              "</table>\n",
              "</div>"
            ],
            "text/plain": [
              "         title   box_off_num\n",
              "0       용서는 없다  3.395493e+06\n",
              "1  아빠가 여자를 좋아해  8.235439e+05\n",
              "2          하모니  1.162055e+06\n",
              "3          의형제  2.184689e+06\n",
              "4        평행 이론  8.093288e+05"
            ]
          },
          "execution_count": 68,
          "metadata": {},
          "output_type": "execute_result"
        }
      ]
    },
    {
      "cell_type": "code",
      "metadata": {
        "id": "b762a9e0"
      },
      "source": [
        "feLightGBM['box_off_num'] = np.mean(preds, axis = 0)"
      ],
      "id": "b762a9e0",
      "execution_count": null,
      "outputs": []
    },
    {
      "cell_type": "code",
      "metadata": {
        "id": "9743fb3d"
      },
      "source": [
        "feLightGBM = submission.copy()"
      ],
      "id": "9743fb3d",
      "execution_count": null,
      "outputs": []
    },
    {
      "cell_type": "code",
      "metadata": {
        "id": "3fc6adbf",
        "outputId": "f71b0686-3a28-4fcc-c136-4d0b986a3cae"
      },
      "source": [
        "preds = []\n",
        "for model in models:\n",
        "    preds.append(model.predict(X_test))\n",
        "len(preds)"
      ],
      "id": "3fc6adbf",
      "execution_count": null,
      "outputs": [
        {
          "data": {
            "text/plain": [
              "5"
            ]
          },
          "execution_count": 65,
          "metadata": {},
          "output_type": "execute_result"
        }
      ]
    },
    {
      "cell_type": "code",
      "metadata": {
        "id": "fda9694b",
        "colab": {
          "base_uri": "https://localhost:8080/",
          "height": 245
        },
        "outputId": "8cea5e9c-cd87-402d-c30f-462077d419d5"
      },
      "source": [
        "model = lgb.LGBMRegressor(random_state=777, n_estimators=1000)\n",
        "\n",
        "models = []\n",
        "\n",
        "for train_idx, val_idx in k_fold.split(X_train):\n",
        "    x_t = X_train.iloc[train_idx]\n",
        "    y_t = y_train.iloc[train_idx]\n",
        "    x_val = X_train.iloc[val_idx]\n",
        "    y_val = y_train.iloc[val_idx]\n",
        "    \n",
        "    models.append(model.fit(x_t, y_t, eval_set=(x_val, y_val), early_stopping_rounds=100, verbose = 100))"
      ],
      "id": "fda9694b",
      "execution_count": 85,
      "outputs": [
        {
          "output_type": "error",
          "ename": "NameError",
          "evalue": "ignored",
          "traceback": [
            "\u001b[0;31m---------------------------------------------------------------------------\u001b[0m",
            "\u001b[0;31mNameError\u001b[0m                                 Traceback (most recent call last)",
            "\u001b[0;32m<ipython-input-85-4ab509a06e03>\u001b[0m in \u001b[0;36m<module>\u001b[0;34m()\u001b[0m\n\u001b[1;32m      3\u001b[0m \u001b[0mmodels\u001b[0m \u001b[0;34m=\u001b[0m \u001b[0;34m[\u001b[0m\u001b[0;34m]\u001b[0m\u001b[0;34m\u001b[0m\u001b[0;34m\u001b[0m\u001b[0m\n\u001b[1;32m      4\u001b[0m \u001b[0;34m\u001b[0m\u001b[0m\n\u001b[0;32m----> 5\u001b[0;31m \u001b[0;32mfor\u001b[0m \u001b[0mtrain_idx\u001b[0m\u001b[0;34m,\u001b[0m \u001b[0mval_idx\u001b[0m \u001b[0;32min\u001b[0m \u001b[0mk_fold\u001b[0m\u001b[0;34m.\u001b[0m\u001b[0msplit\u001b[0m\u001b[0;34m(\u001b[0m\u001b[0mX_train\u001b[0m\u001b[0;34m)\u001b[0m\u001b[0;34m:\u001b[0m\u001b[0;34m\u001b[0m\u001b[0;34m\u001b[0m\u001b[0m\n\u001b[0m\u001b[1;32m      6\u001b[0m     \u001b[0mx_t\u001b[0m \u001b[0;34m=\u001b[0m \u001b[0mX_train\u001b[0m\u001b[0;34m.\u001b[0m\u001b[0miloc\u001b[0m\u001b[0;34m[\u001b[0m\u001b[0mtrain_idx\u001b[0m\u001b[0;34m]\u001b[0m\u001b[0;34m\u001b[0m\u001b[0;34m\u001b[0m\u001b[0m\n\u001b[1;32m      7\u001b[0m     \u001b[0my_t\u001b[0m \u001b[0;34m=\u001b[0m \u001b[0my_train\u001b[0m\u001b[0;34m.\u001b[0m\u001b[0miloc\u001b[0m\u001b[0;34m[\u001b[0m\u001b[0mtrain_idx\u001b[0m\u001b[0;34m]\u001b[0m\u001b[0;34m\u001b[0m\u001b[0;34m\u001b[0m\u001b[0m\n",
            "\u001b[0;31mNameError\u001b[0m: name 'k_fold' is not defined"
          ]
        }
      ]
    },
    {
      "cell_type": "code",
      "metadata": {
        "id": "914b944b",
        "colab": {
          "base_uri": "https://localhost:8080/",
          "height": 175
        },
        "outputId": "9cadd10b-5131-45cb-cf76-d20cf6accb63"
      },
      "source": [
        "X_test.head()"
      ],
      "id": "914b944b",
      "execution_count": 86,
      "outputs": [
        {
          "output_type": "execute_result",
          "data": {
            "text/html": [
              "<div>\n",
              "<style scoped>\n",
              "    .dataframe tbody tr th:only-of-type {\n",
              "        vertical-align: middle;\n",
              "    }\n",
              "\n",
              "    .dataframe tbody tr th {\n",
              "        vertical-align: top;\n",
              "    }\n",
              "\n",
              "    .dataframe thead th {\n",
              "        text-align: right;\n",
              "    }\n",
              "</style>\n",
              "<table border=\"1\" class=\"dataframe\">\n",
              "  <thead>\n",
              "    <tr style=\"text-align: right;\">\n",
              "      <th></th>\n",
              "      <th>genre</th>\n",
              "      <th>running_time</th>\n",
              "      <th>youtube_comment_count</th>\n",
              "      <th>youtube_view_mean</th>\n",
              "      <th>abs_mean_score</th>\n",
              "      <th>actor_power</th>\n",
              "    </tr>\n",
              "  </thead>\n",
              "  <tbody>\n",
              "    <tr>\n",
              "      <th>0</th>\n",
              "      <td>11</td>\n",
              "      <td>111</td>\n",
              "      <td>9518</td>\n",
              "      <td>616945.8</td>\n",
              "      <td>1.019999</td>\n",
              "      <td>4.539712e+06</td>\n",
              "    </tr>\n",
              "    <tr>\n",
              "      <th>1</th>\n",
              "      <td>8</td>\n",
              "      <td>180</td>\n",
              "      <td>26299</td>\n",
              "      <td>3047574.7</td>\n",
              "      <td>2.126920</td>\n",
              "      <td>9.367612e+06</td>\n",
              "    </tr>\n",
              "    <tr>\n",
              "      <th>2</th>\n",
              "      <td>7</td>\n",
              "      <td>103</td>\n",
              "      <td>20661</td>\n",
              "      <td>9814174.2</td>\n",
              "      <td>1.154460</td>\n",
              "      <td>9.751492e+06</td>\n",
              "    </tr>\n",
              "    <tr>\n",
              "      <th>3</th>\n",
              "      <td>9</td>\n",
              "      <td>127</td>\n",
              "      <td>6934</td>\n",
              "      <td>4894125.2</td>\n",
              "      <td>1.495438</td>\n",
              "      <td>6.752496e+06</td>\n",
              "    </tr>\n",
              "  </tbody>\n",
              "</table>\n",
              "</div>"
            ],
            "text/plain": [
              "   genre  running_time  ...  abs_mean_score   actor_power\n",
              "0     11           111  ...        1.019999  4.539712e+06\n",
              "1      8           180  ...        2.126920  9.367612e+06\n",
              "2      7           103  ...        1.154460  9.751492e+06\n",
              "3      9           127  ...        1.495438  6.752496e+06\n",
              "\n",
              "[4 rows x 6 columns]"
            ]
          },
          "metadata": {},
          "execution_count": 86
        }
      ]
    },
    {
      "cell_type": "markdown",
      "metadata": {
        "id": "2ce1a499"
      },
      "source": [
        "## Grid Search 모델 튜닝"
      ],
      "id": "2ce1a499"
    },
    {
      "cell_type": "code",
      "metadata": {
        "id": "14c65dbb"
      },
      "source": [
        "from sklearn.model_selection import GridSearchCV"
      ],
      "id": "14c65dbb",
      "execution_count": null,
      "outputs": []
    },
    {
      "cell_type": "code",
      "metadata": {
        "id": "0a7f2233"
      },
      "source": [
        "model = lgb.LGBMRegressor(random_state=777, n_estimators=1000)"
      ],
      "id": "0a7f2233",
      "execution_count": null,
      "outputs": []
    },
    {
      "cell_type": "code",
      "metadata": {
        "id": "f84aa796"
      },
      "source": [
        "params = {\n",
        "    'learning_rate': [0.1, 0.01, 0.003],\n",
        "    'min_child_samples': [20, 30]}\n",
        "\n",
        "gs = GridSearchCV(estimator=model,\n",
        "                 param_grid=params,\n",
        "                  scoring= 'neg_mean_squared_error',\n",
        "                  cv = k_fold)"
      ],
      "id": "f84aa796",
      "execution_count": null,
      "outputs": []
    },
    {
      "cell_type": "markdown",
      "metadata": {
        "id": "2593c25b"
      },
      "source": [
        "params에서 learning_rate는 모델링을 하는 간격으로, 값이 적을수록 점점 더 미세하게 모델의 변화가 이루어진다로 생각하면 된다.\n",
        " \n",
        "scoring을 rmse로 한 이후는 현재 이 대회의 평가지표가 rmse값이기 때문에 이렇게 설정하였습니다."
      ],
      "id": "2593c25b"
    },
    {
      "cell_type": "code",
      "metadata": {
        "id": "9e305f0f",
        "outputId": "661fbb6c-b92c-4822-f8f6-40279f8e7f35"
      },
      "source": [
        "gs.fit(X_train, y_train)"
      ],
      "id": "9e305f0f",
      "execution_count": null,
      "outputs": [
        {
          "data": {
            "text/plain": [
              "GridSearchCV(cv=KFold(n_splits=5, random_state=777, shuffle=True),\n",
              "             estimator=LGBMRegressor(n_estimators=1000, random_state=777),\n",
              "             param_grid={'learning_rate': [0.1, 0.01, 0.003],\n",
              "                         'min_child_samples': [20, 30]},\n",
              "             scoring='neg_mean_squared_error')"
            ]
          },
          "execution_count": 72,
          "metadata": {},
          "output_type": "execute_result"
        }
      ]
    },
    {
      "cell_type": "code",
      "metadata": {
        "id": "dede7088",
        "outputId": "9f4aa71e-82c8-45ef-8000-9b309e15d597"
      },
      "source": [
        "gs.best_params_"
      ],
      "id": "dede7088",
      "execution_count": null,
      "outputs": [
        {
          "data": {
            "text/plain": [
              "{'learning_rate': 0.003, 'min_child_samples': 30}"
            ]
          },
          "execution_count": 73,
          "metadata": {},
          "output_type": "execute_result"
        }
      ]
    },
    {
      "cell_type": "code",
      "metadata": {
        "id": "da8435e4"
      },
      "source": [
        "gslgbm.to_csv('gslgbm.csv', index=False)"
      ],
      "id": "da8435e4",
      "execution_count": null,
      "outputs": []
    }
  ]
}