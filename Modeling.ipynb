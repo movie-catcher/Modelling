{
 "cells": [
  {
   "cell_type": "markdown",
   "metadata": {
    "ExecuteTime": {
     "end_time": "2021-11-29T09:55:07.097469Z",
     "start_time": "2021-11-29T09:55:07.094499Z"
    }
   },
   "source": [
    "# Before Modeling\n",
    "\n",
    "> Model selection\n",
    "1. 엘라스틱 - Ridge, Lasso 합친거니까 선택\n",
    "2. randomForest - 트리모형\n",
    "3. lightgbm - 트리모형\n",
    "4. xgboost - 트리모형"
   ]
  },
  {
   "cell_type": "markdown",
   "metadata": {},
   "source": [
    "## import"
   ]
  },
  {
   "cell_type": "code",
   "execution_count": null,
   "metadata": {
    "ExecuteTime": {
     "end_time": "2021-12-03T17:55:18.990483Z",
     "start_time": "2021-12-03T17:55:15.482850Z"
    }
   },
   "outputs": [],
   "source": [
    "import pandas as pd\n",
    "import numpy as np\n",
    "import matplotlib.pyplot as plt\n",
    "\n",
    "import seaborn as sns\n",
    "\n",
    "from sklearn.linear_model import ElasticNet, ElasticNetCV # 두 개 구분\n",
    "from sklearn.ensemble import RandomForestRegressor\n",
    "from sklearn.model_selection import KFold, cross_val_score, train_test_split\n",
    "from sklearn.metrics import mean_squared_error, r2_score, mean_absolute_error \n",
    "import xgboost as xgb\n",
    "import lightgbm as lgb\n",
    "\n",
    "%matplotlib inline\n",
    "plt.rcParams['font.family'] ='Malgun Gothic'\n",
    "\n",
    "from pprint import pprint\n",
    "import warnings\n",
    "warnings.filterwarnings('ignore')"
   ]
  },
  {
   "cell_type": "markdown",
   "metadata": {},
   "source": [
    "## Data"
   ]
  },
  {
   "cell_type": "code",
   "execution_count": null,
   "metadata": {
    "ExecuteTime": {
     "end_time": "2021-12-03T06:19:25.841330Z",
     "start_time": "2021-12-03T06:19:25.660973Z"
    }
   },
   "outputs": [],
   "source": [
    "import pandas as pd\n",
    "data = pd.read_excel('data/Movie_Data_Final_transformation.xlsx').iloc[:,1:]"
   ]
  },
  {
   "cell_type": "code",
   "execution_count": null,
   "metadata": {
    "ExecuteTime": {
     "end_time": "2021-12-03T06:19:25.841330Z",
     "start_time": "2021-12-03T06:19:25.660973Z"
    }
   },
   "outputs": [],
   "source": [
    "# modeling에 포함되지 않는 columns 제거\n",
    "colums_rm = ['movie_name','release', 'take', 'code', 'kind', 'scale', 'actor']\n",
    "def remove_columns(movie_df):\n",
    "    col = list(movie_df.columns)\n",
    "    for i in colums_rm:\n",
    "        col.remove(i)\n",
    "    movie_df = movie_df.loc[:, col]\n",
    "    \n",
    "    return movie_df"
   ]
  },
  {
   "cell_type": "code",
   "execution_count": null,
   "metadata": {
    "ExecuteTime": {
     "end_time": "2021-12-03T06:19:25.841330Z",
     "start_time": "2021-12-03T06:19:25.660973Z"
    }
   },
   "outputs": [],
   "source": [
    "# 영화명 날림\n",
    "data = remove_columns(data)"
   ]
  },
  {
   "cell_type": "code",
   "execution_count": null,
   "metadata": {
    "ExecuteTime": {
     "end_time": "2021-12-03T06:19:25.841330Z",
     "start_time": "2021-12-03T06:19:25.660973Z"
    }
   },
   "outputs": [],
   "source": [
    "# data.to_excel('data/Movie_Data_Final_transformation_cut.xlsx')"
   ]
  },
  {
   "cell_type": "markdown",
   "metadata": {},
   "source": [
    "## One-hot encoding"
   ]
  },
  {
   "cell_type": "code",
   "execution_count": null,
   "metadata": {
    "ExecuteTime": {
     "end_time": "2021-12-03T06:19:37.824227Z",
     "start_time": "2021-12-03T06:19:37.769064Z"
    }
   },
   "outputs": [],
   "source": [
    "data = pd.get_dummies(data = data, columns = ['nation'], prefix = 'nation')\n",
    "data = pd.get_dummies(data = data, columns = ['distribution_company'], prefix = 'distribution_company')\n",
    "data = pd.get_dummies(data = data, columns = ['genre'], prefix = 'genre')\n",
    "data = pd.get_dummies(data = data, columns = ['age'], prefix = 'age')"
   ]
  },
  {
   "cell_type": "code",
   "execution_count": null,
   "metadata": {
    "ExecuteTime": {
     "end_time": "2021-12-03T06:19:37.824227Z",
     "start_time": "2021-12-03T06:19:37.769064Z"
    }
   },
   "outputs": [],
   "source": [
    "x = data.iloc[:,1:] \n",
    "y = np.log(data.iloc[:,0]) # 관객수 log transformation"
   ]
  },
  {
   "cell_type": "code",
   "execution_count": null,
   "metadata": {
    "ExecuteTime": {
     "end_time": "2021-12-03T06:19:42.055823Z",
     "start_time": "2021-12-03T06:19:41.978028Z"
    },
    "scrolled": true
   },
   "outputs": [],
   "source": [
    "x"
   ]
  },
  {
   "cell_type": "code",
   "execution_count": null,
   "metadata": {
    "ExecuteTime": {
     "end_time": "2021-12-03T06:19:47.207493Z",
     "start_time": "2021-12-03T06:19:47.196225Z"
    }
   },
   "outputs": [],
   "source": [
    "y"
   ]
  },
  {
   "cell_type": "markdown",
   "metadata": {},
   "source": [
    "# Model Selection\n",
    "\n",
    "> 결과\n",
    "- ElasticNet Final Result: MSE:0.43, RMSE:0.66\n",
    "- RandomForest Final Result: MSE:0.42 RMSE:0.65\n",
    "- Lightgbm Final Result: MSE:0.47, RMSE:0.69\n",
    "- xgboost Final Result: MSE:0.45, RMSE:0.67\n"
   ]
  },
  {
   "cell_type": "code",
   "execution_count": null,
   "metadata": {
    "ExecuteTime": {
     "end_time": "2021-12-03T06:19:56.463779Z",
     "start_time": "2021-12-03T06:19:56.446143Z"
    }
   },
   "outputs": [],
   "source": [
    "# Test set, Train set 분리\n",
    "\n",
    "xtrain, xtest, ytrain, ytest = train_test_split(x, y, test_size=0.2, random_state=0)"
   ]
  },
  {
   "cell_type": "markdown",
   "metadata": {},
   "source": [
    "## ElasticNet"
   ]
  },
  {
   "cell_type": "code",
   "execution_count": null,
   "metadata": {
    "ExecuteTime": {
     "end_time": "2021-11-30T20:05:20.931236Z",
     "start_time": "2021-11-30T20:05:20.854098Z"
    }
   },
   "outputs": [],
   "source": [
    "alphas = [0.0001, 0.001, 0.01, 0.1, 0.3, 0.5, 0.7, 1]\n",
    "\n",
    "# R2는 제일 높고 (제일 설명력이 좋고), RMSE는 제일 낮은 값 선택\n",
    "for a in alphas:\n",
    "    model = ElasticNet(alpha=a).fit(x,y)\n",
    "    score = model.score(x, y)\n",
    "    pred_y = model.predict(x)\n",
    "    mse = mean_squared_error(y, pred_y)\n",
    "    print(\"Alpha:{0:.4f}, R2:{1:.2f}, MSE:{2:.2f}, RMSE:{3:.2f}\".format(a, score, mse, np.sqrt(mse)))"
   ]
  },
  {
   "cell_type": "code",
   "execution_count": null,
   "metadata": {
    "ExecuteTime": {
     "end_time": "2021-11-30T20:05:23.805643Z",
     "start_time": "2021-11-30T20:05:23.751649Z"
    }
   },
   "outputs": [],
   "source": [
    "elastic_cv= ElasticNetCV(alphas=alphas, cv=5) # 교차검증 5번\n",
    "model = elastic_cv.fit(x, y)\n",
    "print(model.alpha_)"
   ]
  },
  {
   "cell_type": "code",
   "execution_count": null,
   "metadata": {
    "ExecuteTime": {
     "end_time": "2021-11-30T20:05:24.588645Z",
     "start_time": "2021-11-30T20:05:24.575614Z"
    }
   },
   "outputs": [],
   "source": [
    "elastic = ElasticNet(alpha=0.1).fit(xtrain, ytrain)\n",
    "ypred_elastic = elastic.predict(xtest)\n",
    "\n",
    "# calculate R2, MSE, RMSE from test data\n",
    "score_elastic = elastic.score(xtest, ytest)\n",
    "mse_elastic = mean_squared_error(ytest, ypred_elastic)\n",
    "print(\"ElasticNet Final Result: R2:{0:.3f}, MSE:{1:.2f}, RMSE:{2:.2f}\".format(score_elastic, mse_elastic, np.sqrt(mse_elastic)))"
   ]
  },
  {
   "cell_type": "markdown",
   "metadata": {},
   "source": [
    "## RandomForest"
   ]
  },
  {
   "cell_type": "code",
   "execution_count": null,
   "metadata": {
    "ExecuteTime": {
     "end_time": "2021-11-30T19:39:23.786571Z",
     "start_time": "2021-11-30T19:39:23.690990Z"
    }
   },
   "outputs": [],
   "source": [
    "RandomForestRegressor?"
   ]
  },
  {
   "cell_type": "code",
   "execution_count": null,
   "metadata": {
    "ExecuteTime": {
     "end_time": "2021-12-03T06:15:58.408570Z",
     "start_time": "2021-12-03T06:15:56.570658Z"
    }
   },
   "outputs": [],
   "source": [
    "nTreeList = range(50, 500, 10)\n",
    "nTree = []\n",
    "MSE = []\n",
    "\n",
    "for iTrees in nTreeList:\n",
    "    randomforest = RandomForestRegressor(n_estimators=iTrees, random_state=3)\n",
    "    randomforest.fit(xtrain, ytrain)  \n",
    "    ypred = randomforest.predict(xtest)\n",
    "    nTree.append(iTrees)\n",
    "    MSE.append(mean_squared_error(ytest, ypred))\n",
    "    \n",
    "# 결정트리 갯수 무작정 늘리면 성능 좋아지는데 대비 시간이 걸릴 수 있음\n",
    "index = MSE.index(min(MSE))\n",
    "print(index)\n",
    "print(nTree[index])"
   ]
  },
  {
   "cell_type": "code",
   "execution_count": null,
   "metadata": {
    "ExecuteTime": {
     "end_time": "2021-11-30T20:06:15.652323Z",
     "start_time": "2021-11-30T20:06:14.839307Z"
    }
   },
   "outputs": [],
   "source": [
    "randomforest = RandomForestRegressor(n_estimators=490, random_state=3)\n",
    "randomforest.fit(xtrain, ytrain)\n",
    "ypred_randomforest= randomforest.predict(xtest)\n",
    "\n",
    "# calculate RMSE from test data\n",
    "mse_randomforest = mean_squared_error(ytest, ypred_randomforest)\n",
    "print(\"RandomForest Final Result: MSE:{0:.2f} RMSE:{1:.2f}\".format(mse_randomforest, np.sqrt(mse_randomforest)))\n",
    "featureImportance = randomforest.feature_importances_"
   ]
  },
  {
   "cell_type": "code",
   "execution_count": null,
   "metadata": {
    "ExecuteTime": {
     "end_time": "2021-11-30T19:33:31.726639Z",
     "start_time": "2021-11-30T19:33:31.063152Z"
    }
   },
   "outputs": [],
   "source": [
    "# #가장 높은 중요도 기준으로 스케일링\n",
    "# featureImportance = featureImportance/featureImportance.max()\n",
    "# sorted_idx = np.argsort(featureImportance)\n",
    "# barPos = np.arange(sorted_idx.shape[0])+.5\n",
    "# plt.barh(barPos, featureImportance[sorted_idx], align='center')\n",
    "# plt.yticks(barPos, x.columns[sorted_idx])\n",
    "# plt.xlabel('Variable Importance')\n",
    "# plt.show()"
   ]
  },
  {
   "cell_type": "markdown",
   "metadata": {
    "ExecuteTime": {
     "end_time": "2021-11-30T19:09:21.485849Z",
     "start_time": "2021-11-30T19:09:21.482852Z"
    }
   },
   "source": [
    "## lightgbm"
   ]
  },
  {
   "cell_type": "code",
   "execution_count": null,
   "metadata": {
    "ExecuteTime": {
     "end_time": "2021-11-30T20:06:29.017310Z",
     "start_time": "2021-11-30T20:06:29.013307Z"
    }
   },
   "outputs": [],
   "source": [
    "train_ds = lgb.Dataset(xtrain, label = ytrain) \n",
    "test_ds = lgb.Dataset(xtest, label = ytest) \n",
    "\n",
    "params = {'learning_rate': 0.01, \n",
    "          'max_depth': 16, \n",
    "          'boosting': 'gbdt', \n",
    "          'objective': 'regression', \n",
    "          'metric': 'mse', \n",
    "          'is_training_metric': True, \n",
    "          'num_leaves': 144, \n",
    "          'feature_fraction': 0.9, \n",
    "          'bagging_fraction': 0.7, \n",
    "          'bagging_freq': 5, \n",
    "          'seed':3}"
   ]
  },
  {
   "cell_type": "code",
   "execution_count": null,
   "metadata": {
    "ExecuteTime": {
     "end_time": "2021-11-30T20:06:29.834308Z",
     "start_time": "2021-11-30T20:06:29.642312Z"
    }
   },
   "outputs": [],
   "source": [
    "lgb_model = lgb.train(params, train_ds, 1000, test_ds, verbose_eval=100, early_stopping_rounds=100)"
   ]
  },
  {
   "cell_type": "code",
   "execution_count": null,
   "metadata": {
    "ExecuteTime": {
     "end_time": "2021-11-30T20:06:32.496306Z",
     "start_time": "2021-11-30T20:06:32.482311Z"
    }
   },
   "outputs": [],
   "source": [
    "predict_train = lgb_model.predict(xtrain)\n",
    "ypred_lgb = lgb_model.predict(xtest)"
   ]
  },
  {
   "cell_type": "code",
   "execution_count": null,
   "metadata": {
    "ExecuteTime": {
     "end_time": "2021-11-30T20:06:33.096308Z",
     "start_time": "2021-11-30T20:06:33.091308Z"
    }
   },
   "outputs": [],
   "source": [
    "# calculate MSE, RMSE from test data\n",
    "mse_lgb = mean_squared_error(ytest, ypred_lgb )\n",
    "print(\"Lightgbm Final Result: MSE:{0:.2f}, RMSE:{1:.2f}\".format(mse_lgb, np.sqrt(mse_lgb)))"
   ]
  },
  {
   "cell_type": "code",
   "execution_count": null,
   "metadata": {
    "ExecuteTime": {
     "end_time": "2021-11-30T20:06:33.814311Z",
     "start_time": "2021-11-30T20:06:33.805310Z"
    }
   },
   "outputs": [],
   "source": [
    "final_result = pd.concat([ytest.reset_index(drop=True), pd.DataFrame(ypred_lgb )], axis = 1)\n",
    "final_result.columns = ['ytest','ypred']"
   ]
  },
  {
   "cell_type": "code",
   "execution_count": null,
   "metadata": {
    "ExecuteTime": {
     "end_time": "2021-11-30T20:06:40.156330Z",
     "start_time": "2021-11-30T20:06:39.943310Z"
    }
   },
   "outputs": [],
   "source": [
    "# Fit 결과 확인\n",
    "sns.regplot(x = 'ytest', y = 'ypred', data = final_result)"
   ]
  },
  {
   "cell_type": "markdown",
   "metadata": {},
   "source": [
    "## xgboost"
   ]
  },
  {
   "cell_type": "code",
   "execution_count": null,
   "metadata": {
    "ExecuteTime": {
     "end_time": "2021-11-30T20:06:54.218305Z",
     "start_time": "2021-11-30T20:06:54.123308Z"
    }
   },
   "outputs": [],
   "source": [
    "xgb_model = xgb.XGBRegressor(n_estimators=100, learning_rate=0.08, gamma=0, subsample=0.75, colsample_bytree=1, max_depth=7)\n",
    "\n",
    "xgb_model.fit(xtrain,ytrain)\n",
    "ypred_xgb = xgb_model.predict(xtest)"
   ]
  },
  {
   "cell_type": "code",
   "execution_count": null,
   "metadata": {
    "ExecuteTime": {
     "end_time": "2021-11-30T20:06:56.975312Z",
     "start_time": "2021-11-30T20:06:56.966347Z"
    }
   },
   "outputs": [],
   "source": [
    "# calculate MSE, RMSE from test data\n",
    "mse_xgb = mean_squared_error(ytest, ypred_xgb)\n",
    "print(\"xgboost Final Result: MSE:{0:.2f}, RMSE:{1:.2f}\".format(mse_xgb, np.sqrt(mse_xgb)))"
   ]
  },
  {
   "cell_type": "code",
   "execution_count": null,
   "metadata": {
    "ExecuteTime": {
     "end_time": "2021-11-30T20:11:46.883350Z",
     "start_time": "2021-11-30T20:11:46.669350Z"
    },
    "scrolled": false
   },
   "outputs": [],
   "source": [
    "plt.figure(figsize=(10,10))\n",
    "plt.rcParams['font.family'] ='Malgun Gothic'\n",
    "xgb.plot_importance(xgb_model, max_num_features= 10)\n",
    "plt.show()"
   ]
  },
  {
   "cell_type": "markdown",
   "metadata": {
    "ExecuteTime": {
     "end_time": "2021-12-03T06:09:42.332534Z",
     "start_time": "2021-12-03T06:09:42.323534Z"
    }
   },
   "source": [
    "# Random Forest\n",
    "- Random Forest로 모델 결정하였고, 성능 향상 시키기 위한 작업\n",
    "- 하이퍼 파라미터 조정"
   ]
  },
  {
   "cell_type": "markdown",
   "metadata": {},
   "source": [
    "## Basic Train"
   ]
  },
  {
   "cell_type": "code",
   "execution_count": null,
   "metadata": {
    "ExecuteTime": {
     "end_time": "2021-12-03T06:36:24.392949Z",
     "start_time": "2021-12-03T06:35:04.744250Z"
    }
   },
   "outputs": [],
   "source": [
    "nTreeList = range(50, 500, 10)\n",
    "nTree = []\n",
    "MSE = []\n",
    "\n",
    "for iTrees in nTreeList:\n",
    "    randomforest = RandomForestRegressor(n_estimators=iTrees, random_state=3)\n",
    "    randomforest.fit(xtrain, ytrain)  \n",
    "    ypred = randomforest.predict(xtest)\n",
    "    nTree.append(iTrees)\n",
    "    MSE.append(mean_squared_error(ytest, ypred))\n",
    "    \n",
    "# 결정트리 갯수 무작정 늘리면 성능 좋아지는데 대비 시간이 걸릴 수 있음\n",
    "index = MSE.index(min(MSE))\n",
    "print(index)\n",
    "print(nTree[index])"
   ]
  },
  {
   "cell_type": "code",
   "execution_count": null,
   "metadata": {
    "ExecuteTime": {
     "end_time": "2021-12-03T06:45:53.546117Z",
     "start_time": "2021-12-03T06:45:53.526002Z"
    }
   },
   "outputs": [],
   "source": [
    "pprint(randomforest.get_params())"
   ]
  },
  {
   "cell_type": "code",
   "execution_count": null,
   "metadata": {
    "ExecuteTime": {
     "end_time": "2021-12-03T07:20:22.972263Z",
     "start_time": "2021-12-03T07:20:19.925761Z"
    }
   },
   "outputs": [],
   "source": [
    "randomforest = RandomForestRegressor(n_estimators=490, random_state=3)\n",
    "randomforest.fit(xtrain, ytrain)\n",
    "ypred_randomforest= randomforest.predict(xtest)\n",
    "\n",
    "# calculate RMSE from test data\n",
    "mse_randomforest = mean_squared_error(ytest, ypred_randomforest)\n",
    "print(\"RandomForest Final Result: MSE:{0:.2f} RMSE:{1:.2f}\".format(mse_randomforest, np.sqrt(mse_randomforest)))\n",
    "featureImportance = randomforest.feature_importances_"
   ]
  },
  {
   "cell_type": "code",
   "execution_count": null,
   "metadata": {
    "ExecuteTime": {
     "end_time": "2021-12-03T07:22:09.403557Z",
     "start_time": "2021-12-03T07:22:09.393012Z"
    }
   },
   "outputs": [],
   "source": [
    "featureImportance"
   ]
  },
  {
   "cell_type": "code",
   "execution_count": null,
   "metadata": {
    "ExecuteTime": {
     "end_time": "2021-12-03T07:30:03.908974Z",
     "start_time": "2021-12-03T07:30:03.899336Z"
    }
   },
   "outputs": [],
   "source": [
    "indices = np.argsort(featureImportance)[::-1]\n",
    "indices"
   ]
  },
  {
   "cell_type": "code",
   "execution_count": null,
   "metadata": {
    "ExecuteTime": {
     "end_time": "2021-12-03T07:30:04.431441Z",
     "start_time": "2021-12-03T07:30:04.422469Z"
    }
   },
   "outputs": [],
   "source": [
    "x.shape[1]"
   ]
  },
  {
   "cell_type": "code",
   "execution_count": null,
   "metadata": {
    "ExecuteTime": {
     "end_time": "2021-12-03T07:31:45.139898Z",
     "start_time": "2021-12-03T07:31:45.129891Z"
    },
    "scrolled": true
   },
   "outputs": [],
   "source": [
    "# print the feature ranking\n",
    "print(\"Feature ranking\")\n",
    "\n",
    "# for f in range(x.shape[1]):\n",
    "# 상위 10개만\n",
    "for f in range(10):\n",
    "    print(\"{}. feature {} ({:.3f})\".format(f+1, x.columns[indices][f], featureImportance[indices[f]]))"
   ]
  },
  {
   "cell_type": "code",
   "execution_count": null,
   "metadata": {
    "ExecuteTime": {
     "end_time": "2021-12-03T07:38:21.709722Z",
     "start_time": "2021-12-03T07:38:21.314747Z"
    }
   },
   "outputs": [],
   "source": [
    "# Plot the imprity-based feature importances of the forest\n",
    "plt.figure(figsize=(10,10))\n",
    "plt.title(\"Feature impotances\")\n",
    "plt.barh(range(x.shape[1])[:10], featureImportance[indices][:10], color = 'r')\n",
    "plt.yticks(range(x.shape[1])[:10], x.columns[indices][:10])\n",
    "plt.ylim([-1, 10])\n",
    "plt.show()"
   ]
  },
  {
   "cell_type": "code",
   "execution_count": null,
   "metadata": {},
   "outputs": [],
   "source": [
    "# #가장 높은 중요도 기준으로 스케일링\n",
    "# featureImportance = featureImportance/featureImportance.max()\n",
    "# sorted_idx = np.argsort(featureImportance)\n",
    "# barPos = np.arange(sorted_idx.shape[0])+.5\n",
    "# plt.barh(barPos, featureImportance[sorted_idx], align='center')\n",
    "# plt.yticks(barPos, x.columns[sorted_idx])\n",
    "# plt.xlabel('Variable Importance')\n",
    "# plt.show()"
   ]
  },
  {
   "cell_type": "markdown",
   "metadata": {},
   "source": [
    "## hyperparameters\n",
    "\n",
    "> n_estimators\t***\n",
    "- 결정트리의 갯수를 지정\n",
    "- Default = 10\n",
    "- 무작정 트리 갯수를 늘리면 성능 좋아지는 것 대비 시간이 걸릴 수 있음\n",
    "  \n",
    "> max_features\t***\n",
    "- 최적의 분할을 위해 고려할 최대 feature 개수\n",
    "- Default = 'auto' (결정트리에서는 default가 none이었음)\n",
    "- int형으로 지정 →피처 갯수 / float형으로 지정 →비중\n",
    "- sqrt 또는 auto : 전체 피처 중 √(피처개수) 만큼 선정\n",
    "- log : 전체 피처 중 log2(전체 피처 개수) 만큼 선정\n",
    "\n",
    "> min_samples_split\t\n",
    "- 노드를 분할하기 위한 최소한의 샘플 데이터수 → 과적합을 제어하는데 사용\n",
    "- Default = 2 → 작게 설정할 수록 분할 노드가 많아져 과적합 가능성 증가\n",
    "- 2보다 적어지면 더이상 안나눔\n",
    "\n",
    "> min_samples_leaf\t\n",
    "- 리프노드가 되기 위해 필요한 최소한의 샘플 데이터수\n",
    "- min_samples_split과 함께 과적합 제어 용도\n",
    "- 불균형 데이터의 경우 특정 클래스의 데이터가 극도로 작을 수 있으므로 작게 설정 필요\n",
    "\n",
    "\n",
    "\n",
    "> max_depth\t- 트리의 최대 깊이\n",
    "- default = None → 완벽하게 클래스 값이 결정될 때 까지 분할 또는 데이터 개수 min_samples_split보다 작아질 때까지 분할\n",
    "- 깊이가 깊어지면 과적합될 수 있으므로 적절히 제어 필요\n",
    "\n",
    "> max_leaf_nodes\t\n",
    "- 리프노드의 최대 개수\n",
    "\n",
    "> bootstrap\n",
    "- method for sampling data points (with or without replacement)"
   ]
  },
  {
   "cell_type": "markdown",
   "metadata": {},
   "source": [
    "### cross validation\n",
    "- K-Fold CV\n",
    "- Grid Search CV\n",
    "\n",
    "> link\n",
    "- https://towardsdatascience.com/hyperparameter-tuning-the-random-forest-in-python-using-scikit-learn-28d2aa77dd74"
   ]
  },
  {
   "cell_type": "markdown",
   "metadata": {},
   "source": [
    "#### RandomizedSearchCV"
   ]
  },
  {
   "cell_type": "code",
   "execution_count": null,
   "metadata": {
    "ExecuteTime": {
     "end_time": "2021-12-03T07:14:37.198814Z",
     "start_time": "2021-12-03T07:14:37.176812Z"
    }
   },
   "outputs": [],
   "source": [
    "from sklearn.model_selection import RandomizedSearchCV\n",
    "\n",
    "# Number of trees in random forest\n",
    "n_estimators = [int(x) for x in np.linspace(start = 100, stop = 1200, num = 12)]\n",
    "# Number of features to consider at every split\n",
    "max_features = ['auto', 'sqrt']\n",
    "# Maximum number of levels in tree\n",
    "max_depth = [int(x) for x in np.linspace(10, 110, num = 11)]\n",
    "max_depth.append(None)\n",
    "# Minimum number of samples required to split a node\n",
    "min_samples_split = [2, 5, 10]\n",
    "# Minimum number of samples required at each leaf node\n",
    "min_samples_leaf = [1, 2, 4]\n",
    "# Method of selecting samples for training each tree\n",
    "bootstrap = [True, False]\n",
    "# Create the random grid\n",
    "random_grid = {'n_estimators': n_estimators,\n",
    "               'max_features': max_features,\n",
    "               'max_depth': max_depth,\n",
    "               'min_samples_split': min_samples_split,\n",
    "               'min_samples_leaf': min_samples_leaf,\n",
    "               'bootstrap': bootstrap}\n",
    "\n",
    "pprint(random_grid)"
   ]
  },
  {
   "cell_type": "code",
   "execution_count": null,
   "metadata": {
    "ExecuteTime": {
     "end_time": "2021-12-03T07:17:30.027762Z",
     "start_time": "2021-12-03T07:14:41.475417Z"
    }
   },
   "outputs": [],
   "source": [
    "# Use the random grid to search for best hyperparameters\n",
    "# First create the base model to tune\n",
    "# rf = RandomForestRegressor()\n",
    "# Random search of parameters, using 3 fold cross validation, \n",
    "# search across 100 different combinations, and use all available cores\n",
    "randomforest = RandomForestRegressor(random_state=3)\n",
    "\n",
    "rf_random = RandomizedSearchCV(estimator = randomforest,\n",
    "                               param_distributions = random_grid,\n",
    "                               n_iter = 100,\n",
    "                               cv = 3,\n",
    "                               verbose=2,\n",
    "                               random_state=42,\n",
    "                               n_jobs = -1)\n",
    "\"\"\"\n",
    "n_iter 가 많으면 좋지만 그만큼 시간도 오래걸림\n",
    "\"\"\"\n",
    "\n",
    "# Fit the random search model\n",
    "rf_random.fit(xtrain, ytrain)"
   ]
  },
  {
   "cell_type": "code",
   "execution_count": null,
   "metadata": {
    "ExecuteTime": {
     "end_time": "2021-12-03T06:32:49.758531Z",
     "start_time": "2021-12-03T06:32:49.749355Z"
    }
   },
   "outputs": [],
   "source": [
    "# best match 출력\n",
    "\n",
    "rf_random.best_params_"
   ]
  },
  {
   "cell_type": "code",
   "execution_count": null,
   "metadata": {
    "ExecuteTime": {
     "end_time": "2021-12-03T06:36:38.014412Z",
     "start_time": "2021-12-03T06:36:38.005516Z"
    }
   },
   "outputs": [],
   "source": [
    "def evaluate(model, test_features, test_labels):\n",
    "    predictions = model.predict(test_features)\n",
    "    errors = abs(predictions - test_labels)\n",
    "    mape = 100 * np.mean(errors / test_labels)\n",
    "    accuracy = 100 - mape\n",
    "    print('Model Performance')\n",
    "    print('Average Error: {:0.4f} degrees.'.format(np.mean(errors)))\n",
    "    print('Accuracy = {:0.2f}%.'.format(accuracy),'\\n')\n",
    "    \n",
    "    return accuracy"
   ]
  },
  {
   "cell_type": "code",
   "execution_count": null,
   "metadata": {
    "ExecuteTime": {
     "end_time": "2021-12-03T06:43:17.103777Z",
     "start_time": "2021-12-03T06:43:16.724847Z"
    }
   },
   "outputs": [],
   "source": [
    "# Random CV 결과\n",
    "\n",
    "ypred_rf_random = rf_random.predict(xtest)\n",
    "mse_rf_random = mean_squared_error(ytest, ypred_rf_random)\n",
    "R2_score = r2_score(ytest, ypred_rf_random)\n",
    "\n",
    "print(mse_rf_random, np.sqrt(mse_rf_random), R2_score)"
   ]
  },
  {
   "cell_type": "code",
   "execution_count": null,
   "metadata": {
    "ExecuteTime": {
     "end_time": "2021-12-03T06:43:22.639300Z",
     "start_time": "2021-12-03T06:43:18.527388Z"
    }
   },
   "outputs": [],
   "source": [
    "# Random CV로 정한 모델과 오리지날 모델 정확도 비교\n",
    "\n",
    "print(\"Basic Model\")\n",
    "base_model = randomforest\n",
    "base_model.fit(xtrain, ytrain)\n",
    "base_accuracy = evaluate(base_model, xtest, ytest)\n",
    "\n",
    "print(\"Random CV Model\")\n",
    "best_random = rf_random.best_estimator_\n",
    "random_accuracy = evaluate(best_random, xtest, ytest)\n",
    "\n",
    "print('Improvement of {:0.2f}%.'.format( 100 * (random_accuracy - base_accuracy) / base_accuracy))"
   ]
  },
  {
   "cell_type": "markdown",
   "metadata": {
    "ExecuteTime": {
     "end_time": "2021-12-03T06:43:17.692746Z",
     "start_time": "2021-12-03T06:43:17.682800Z"
    }
   },
   "source": [
    "#### GridSearchCV"
   ]
  },
  {
   "cell_type": "code",
   "execution_count": null,
   "metadata": {
    "ExecuteTime": {
     "end_time": "2021-12-03T06:38:13.631243Z",
     "start_time": "2021-12-03T06:38:13.620079Z"
    }
   },
   "outputs": [],
   "source": [
    "from sklearn.model_selection import GridSearchCV\n",
    "\n",
    "# Create the parameter grid based on the results of random search \n",
    "\"\"\"\n",
    "'bootstrap': 나온대로\n",
    "'max_depth': 나온것보다 더 큰 것들 몇 개?\n",
    "'max_features': 모르겠음.....\n",
    "'min_samples_leaf': 나온거 주변 값\n",
    "'min_samples_split': 나온거 주변 값\n",
    "'n_estimators': 나온것보다 작은것과 젤 큰거 하나?\n",
    "\"\"\"\n",
    "param_grid = {\n",
    "    'bootstrap': [True],\n",
    "    'max_depth': [None],\n",
    "    'max_features': ['auto'],\n",
    "    'min_samples_leaf': [1, 2, 3],\n",
    "    'min_samples_split': [7, 8, 9, 10, 11],\n",
    "    'n_estimators': [1400, 1500, 1600, 1700, 1800]\n",
    "}\n",
    "\n",
    "# Create a based model\n",
    "rf = RandomForestRegressor()\n",
    "# Instantiate the grid search model\n",
    "grid_search = GridSearchCV(estimator = randomforest,\n",
    "                           param_grid = param_grid,\n",
    "                           cv = 3,\n",
    "                           n_jobs = -1,\n",
    "                           verbose = 2)"
   ]
  },
  {
   "cell_type": "code",
   "execution_count": null,
   "metadata": {
    "ExecuteTime": {
     "end_time": "2021-12-03T06:43:16.159096Z",
     "start_time": "2021-12-03T06:38:18.442293Z"
    }
   },
   "outputs": [],
   "source": [
    "# Fit the GridSearch model\n",
    "\n",
    "grid_search.fit(xtrain, ytrain)\n",
    "grid_search.best_params_"
   ]
  },
  {
   "cell_type": "code",
   "execution_count": null,
   "metadata": {
    "ExecuteTime": {
     "end_time": "2021-12-03T06:43:37.516465Z",
     "start_time": "2021-12-03T06:43:33.930669Z"
    }
   },
   "outputs": [],
   "source": [
    "# GridSearch CV로 정한 모델과 오리지날 모델 정확도 비교\n",
    "\n",
    "base_model = randomforest\n",
    "base_model.fit(xtrain, ytrain)\n",
    "base_accuracy = evaluate(base_model, xtest, ytest)\n",
    "\n",
    "best_grid = grid_search.best_estimator_\n",
    "grid_accuracy = evaluate(best_grid, xtest, ytest)\n",
    "\n",
    "print('Improvement of {:0.2f}%.'.format( 100 * (grid_accuracy - base_accuracy) / base_accuracy))\n",
    "\n",
    "\"\"\"\n",
    "오히려 gridsearch CV 하니까 더 떨어지는데...?\n",
    "파라미터 조절하는 방식?\n",
    "여러 조건으로 돌려보기?\n",
    "\"\"\""
   ]
  },
  {
   "cell_type": "code",
   "execution_count": null,
   "metadata": {},
   "outputs": [],
   "source": [
    "# Grid Search Results\n",
    "\n",
    "\"\"\"\n",
    "똑같......\n",
    "\n",
    "- Grid_first\n",
    "Fitting 3 folds for each of 360 candidates, totalling 1080 fits\n",
    "{'bootstrap': True,\n",
    " 'max_depth': 20,\n",
    " 'max_features': 3,\n",
    " 'min_samples_leaf': 1,\n",
    " 'min_samples_split': 8,\n",
    " 'n_estimators': 1000}\n",
    "\n",
    "Model Performance\n",
    "Average Error: 0.5698 degrees.\n",
    "Accuracy = 95.90%.\n",
    "\n",
    "\n",
    "- Grid_second\n",
    "\n",
    "Fitting 3 folds for each of 216 candidates, totalling 648 fits\n",
    "{'bootstrap': True,\n",
    " 'max_depth': 20,\n",
    " 'max_features': 'auto',\n",
    " 'min_samples_leaf': 3,\n",
    " 'min_samples_split': 8,\n",
    " 'n_estimators': 1400}\n",
    "\n",
    "Model Performance\n",
    "Average Error: 0.5003 degrees.\n",
    "Accuracy = 96.45%. \n",
    "\n",
    "Improvement of 0.15%.\n",
    "\n",
    "\n",
    "- Grid_third\n",
    "\n",
    "Fitting 3 folds for each of 120 candidates, totalling 360 fits\n",
    "{'bootstrap': True,\n",
    " 'max_depth': None,\n",
    " 'max_features': 'auto',\n",
    " 'min_samples_leaf': 3,\n",
    " 'min_samples_split': 8,\n",
    " 'n_estimators': 1400}\n",
    "\n",
    "Model Performance\n",
    "Average Error: 0.5003 degrees.\n",
    "Accuracy = 96.45%. \n",
    "\n",
    "\n",
    "- Grid_fourth\n",
    "\n",
    "Fitting 3 folds for each of 75 candidates, totalling 225 fits\n",
    "{'bootstrap': True,\n",
    " 'max_depth': None,\n",
    " 'max_features': 'auto',\n",
    " 'min_samples_leaf': 3,\n",
    " 'min_samples_split': 8,\n",
    " 'n_estimators': 1400}\n",
    "\n",
    "똑같......\n",
    "\n",
    "\"\"\""
   ]
  },
  {
   "cell_type": "markdown",
   "metadata": {},
   "source": [
    "# Viral Index"
   ]
  },
  {
   "cell_type": "code",
   "execution_count": 1,
   "metadata": {
    "ExecuteTime": {
     "end_time": "2021-12-03T18:59:36.624011Z",
     "start_time": "2021-12-03T18:59:34.636709Z"
    }
   },
   "outputs": [],
   "source": [
    "import pandas as pd\n",
    "import numpy as np\n",
    "import matplotlib.pyplot as plt\n",
    "\n",
    "import seaborn as sns\n",
    "\n",
    "from sklearn.linear_model import ElasticNet, ElasticNetCV # 두 개 구분\n",
    "from sklearn.ensemble import RandomForestRegressor\n",
    "from sklearn.model_selection import KFold, cross_val_score, train_test_split\n",
    "from sklearn.metrics import mean_squared_error, r2_score, mean_absolute_error \n",
    "from sklearn import preprocessing\n",
    "import xgboost as xgb\n",
    "import lightgbm as lgb\n",
    "\n",
    "%matplotlib inline\n",
    "plt.rcParams['font.family'] ='Malgun Gothic'\n",
    "\n",
    "from pprint import pprint\n",
    "import warnings\n",
    "warnings.filterwarnings('ignore')"
   ]
  },
  {
   "cell_type": "markdown",
   "metadata": {},
   "source": [
    "## Model"
   ]
  },
  {
   "cell_type": "markdown",
   "metadata": {},
   "source": [
    "### Data"
   ]
  },
  {
   "cell_type": "code",
   "execution_count": 2,
   "metadata": {
    "ExecuteTime": {
     "end_time": "2021-12-03T18:59:38.623726Z",
     "start_time": "2021-12-03T18:59:38.482056Z"
    }
   },
   "outputs": [],
   "source": [
    "data = pd.read_excel('data/Movie_Data_Final_transformation.xlsx').iloc[:,1:]\n",
    "\n",
    "# modeling에 포함되지 않는 columns 제거\n",
    "colums_rm = ['movie_name','release', 'take', 'code', 'kind', 'scale', 'actor']\n",
    "def remove_columns(movie_df):\n",
    "    col = list(movie_df.columns)\n",
    "    for i in colums_rm:\n",
    "        col.remove(i)\n",
    "    movie_df = movie_df.loc[:, col]\n",
    "    \n",
    "    return movie_df\n",
    "\n",
    "# 영화명 날림\n",
    "data = remove_columns(data)"
   ]
  },
  {
   "cell_type": "code",
   "execution_count": 3,
   "metadata": {
    "ExecuteTime": {
     "end_time": "2021-12-03T18:59:39.062716Z",
     "start_time": "2021-12-03T18:59:39.035574Z"
    }
   },
   "outputs": [],
   "source": [
    "data = pd.get_dummies(data = data, columns = ['nation'], prefix = 'nation')\n",
    "data = pd.get_dummies(data = data, columns = ['distribution_company'], prefix = 'distribution_company')\n",
    "data = pd.get_dummies(data = data, columns = ['genre'], prefix = 'genre')\n",
    "data = pd.get_dummies(data = data, columns = ['age'], prefix = 'age')\n",
    "\n",
    "x = data.iloc[:,1:] \n",
    "y = np.log(data.iloc[:,0]) # 관객수 log transformation"
   ]
  },
  {
   "cell_type": "code",
   "execution_count": 4,
   "metadata": {
    "ExecuteTime": {
     "end_time": "2021-12-03T18:59:39.545713Z",
     "start_time": "2021-12-03T18:59:39.537684Z"
    }
   },
   "outputs": [],
   "source": [
    "# Test set, Train set 분리\n",
    "\n",
    "xtrain, xtest, ytrain, ytest = train_test_split(x, y, test_size=0.2, random_state=0)"
   ]
  },
  {
   "cell_type": "code",
   "execution_count": 5,
   "metadata": {
    "ExecuteTime": {
     "end_time": "2021-12-03T18:59:40.050399Z",
     "start_time": "2021-12-03T18:59:40.033831Z"
    },
    "scrolled": true
   },
   "outputs": [
    {
     "name": "stdout",
     "output_type": "stream",
     "text": [
      "<class 'pandas.core.frame.DataFrame'>\n",
      "Int64Index: 152 entries, 111 to 172\n",
      "Data columns (total 52 columns):\n",
      " #   Column                                         Non-Null Count  Dtype  \n",
      "---  ------                                         --------------  -----  \n",
      " 0   running_time                                   152 non-null    int64  \n",
      " 1   log_youtube_view_mean                          152 non-null    float64\n",
      " 2   sqrt_comment_count                             152 non-null    float64\n",
      " 3   sqrt_abs_mean_score                            152 non-null    float64\n",
      " 4   sqrt_actor_power                               152 non-null    float64\n",
      " 5   nation_미국                                      152 non-null    uint8  \n",
      " 6   nation_영국                                      152 non-null    uint8  \n",
      " 7   nation_일본                                      152 non-null    uint8  \n",
      " 8   nation_한국                                      152 non-null    uint8  \n",
      " 9   distribution_company_(주)넥스트엔터테인먼트월드(NEW)       152 non-null    uint8  \n",
      " 10  distribution_company_(주)누리픽쳐스                  152 non-null    uint8  \n",
      " 11  distribution_company_(주)리틀빅픽쳐스                 152 non-null    uint8  \n",
      " 12  distribution_company_(주)메리크리스마스                152 non-null    uint8  \n",
      " 13  distribution_company_(주)쇼박스                    152 non-null    uint8  \n",
      " 14  distribution_company_(주)스마일이엔티                 152 non-null    uint8  \n",
      " 15  distribution_company_(주)씨제이이엔엠                 152 non-null    uint8  \n",
      " 16  distribution_company_(주)에이스메이커무비웍스             152 non-null    uint8  \n",
      " 17  distribution_company_(주)이놀미디어                  152 non-null    uint8  \n",
      " 18  distribution_company_(주)제이앤씨미디어그룹              152 non-null    uint8  \n",
      " 19  distribution_company_(주)키다리이엔티                 152 non-null    uint8  \n",
      " 20  distribution_company_(주)키위미디어그룹                152 non-null    uint8  \n",
      " 21  distribution_company_(주)홈초이스                   152 non-null    uint8  \n",
      " 22  distribution_company_CGV아트하우스                  152 non-null    uint8  \n",
      " 23  distribution_company_롯데쇼핑㈜롯데엔터테인먼트             152 non-null    uint8  \n",
      " 24  distribution_company_롯데컬처웍스(주)롯데엔터테인먼트         152 non-null    uint8  \n",
      " 25  distribution_company_메가박스중앙(주)플러스엠             152 non-null    uint8  \n",
      " 26  distribution_company_소니픽쳐스엔터테인먼트코리아주식회사극장배급지점  152 non-null    uint8  \n",
      " 27  distribution_company_오퍼스픽쳐스(유)                 152 non-null    uint8  \n",
      " 28  distribution_company_워너브러더스 코리아(주)             152 non-null    uint8  \n",
      " 29  distribution_company_월트디즈니컴퍼니코리아 유한책임회사        152 non-null    uint8  \n",
      " 30  distribution_company_유니버설픽쳐스인터내셔널 코리아(유)       152 non-null    uint8  \n",
      " 31  distribution_company_이십세기폭스코리아(주)              152 non-null    uint8  \n",
      " 32  genre_SF                                       152 non-null    uint8  \n",
      " 33  genre_공포(호러)                                   152 non-null    uint8  \n",
      " 34  genre_다큐멘터리                                    152 non-null    uint8  \n",
      " 35  genre_드라마                                      152 non-null    uint8  \n",
      " 36  genre_멜로/로맨스                                   152 non-null    uint8  \n",
      " 37  genre_뮤지컬                                      152 non-null    uint8  \n",
      " 38  genre_미스터리                                     152 non-null    uint8  \n",
      " 39  genre_범죄                                       152 non-null    uint8  \n",
      " 40  genre_사극                                       152 non-null    uint8  \n",
      " 41  genre_스릴러                                      152 non-null    uint8  \n",
      " 42  genre_애니메이션                                    152 non-null    uint8  \n",
      " 43  genre_액션                                       152 non-null    uint8  \n",
      " 44  genre_어드벤처                                     152 non-null    uint8  \n",
      " 45  genre_전쟁                                       152 non-null    uint8  \n",
      " 46  genre_코미디                                      152 non-null    uint8  \n",
      " 47  genre_판타지                                      152 non-null    uint8  \n",
      " 48  age_12세이상관람가                                   152 non-null    uint8  \n",
      " 49  age_15세이상관람가                                   152 non-null    uint8  \n",
      " 50  age_전체관람가                                      152 non-null    uint8  \n",
      " 51  age_청소년관람불가                                    152 non-null    uint8  \n",
      "dtypes: float64(4), int64(1), uint8(47)\n",
      "memory usage: 14.1 KB\n"
     ]
    }
   ],
   "source": [
    "xtrain.info()"
   ]
  },
  {
   "cell_type": "code",
   "execution_count": 7,
   "metadata": {
    "ExecuteTime": {
     "end_time": "2021-12-03T19:00:19.553843Z",
     "start_time": "2021-12-03T19:00:19.513748Z"
    },
    "scrolled": true
   },
   "outputs": [
    {
     "name": "stdout",
     "output_type": "stream",
     "text": [
      "     running_time  log_youtube_view_mean  sqrt_comment_count  \\\n",
      "111      1.021607               0.169674           -0.011655   \n",
      "8        0.615989               1.314485            1.354699   \n",
      "106      0.142767               1.277980            1.748942   \n",
      "89      -0.871279              -1.314786           -0.855084   \n",
      "90      -0.736073              -1.001445           -0.971772   \n",
      "\n",
      "     sqrt_abs_mean_score  sqrt_actor_power  nation_미국  nation_영국  nation_일본  \\\n",
      "111            -0.831052         -0.008780          1          0          0   \n",
      "8              -0.749564          0.006926          1          0          0   \n",
      "106             0.418632         -0.106984          1          0          0   \n",
      "89              2.089437         -0.589081          1          0          0   \n",
      "90              0.145978         -0.893488          0          0          0   \n",
      "\n",
      "     nation_한국  distribution_company_(주)넥스트엔터테인먼트월드(NEW)  ...  genre_애니메이션  \\\n",
      "111          0                                         0  ...            0   \n",
      "8            0                                         0  ...            0   \n",
      "106          0                                         0  ...            0   \n",
      "89           0                                         0  ...            0   \n",
      "90           1                                         0  ...            0   \n",
      "\n",
      "     genre_액션  genre_어드벤처  genre_전쟁  genre_코미디  genre_판타지  age_12세이상관람가  \\\n",
      "111         1           0         0          0          0             1   \n",
      "8           0           0         0          0          0             0   \n",
      "106         1           0         0          0          0             0   \n",
      "89          1           0         0          0          0             1   \n",
      "90          0           0         0          1          0             1   \n",
      "\n",
      "     age_15세이상관람가  age_전체관람가  age_청소년관람불가  \n",
      "111             0          0            0  \n",
      "8               0          1            0  \n",
      "106             1          0            0  \n",
      "89              0          0            0  \n",
      "90              0          0            0  \n",
      "\n",
      "[5 rows x 52 columns]\n",
      "     running_time  log_youtube_view_mean  sqrt_comment_count  \\\n",
      "108     -0.127645               1.207352            1.343327   \n",
      "74      -0.600867              -0.695953           -0.369499   \n",
      "161      0.818798               0.574950            0.002700   \n",
      "95       0.277973               0.047532           -0.287320   \n",
      "123     -0.938882               0.530424            0.483126   \n",
      "\n",
      "     sqrt_abs_mean_score  sqrt_actor_power  nation_미국  nation_영국  nation_일본  \\\n",
      "108            -0.150820          1.232638          1          0          0   \n",
      "74              0.865943         -0.136027          0          0          0   \n",
      "161            -0.768547         -0.483164          0          0          0   \n",
      "95             -0.625559          1.577386          0          0          0   \n",
      "123            -0.273858         -0.630349          0          0          0   \n",
      "\n",
      "     nation_한국  distribution_company_(주)넥스트엔터테인먼트월드(NEW)  ...  genre_애니메이션  \\\n",
      "108          0                                         0  ...            0   \n",
      "74           1                                         1  ...            0   \n",
      "161          1                                         0  ...            0   \n",
      "95           1                                         0  ...            0   \n",
      "123          1                                         0  ...            0   \n",
      "\n",
      "     genre_액션  genre_어드벤처  genre_전쟁  genre_코미디  genre_판타지  age_12세이상관람가  \\\n",
      "108         0           1         0          0          0             0   \n",
      "74          0           0         0          0          0             0   \n",
      "161         0           0         0          0          0             1   \n",
      "95          1           0         0          0          0             0   \n",
      "123         0           0         0          0          0             0   \n",
      "\n",
      "     age_15세이상관람가  age_전체관람가  age_청소년관람불가  \n",
      "108             0          1            0  \n",
      "74              1          0            0  \n",
      "161             0          0            0  \n",
      "95              1          0            0  \n",
      "123             1          0            0  \n",
      "\n",
      "[5 rows x 52 columns]\n"
     ]
    }
   ],
   "source": [
    "# 단위가 다르니 정규화 후 모델링 (수치형만)\n",
    "# Normalize Training Data \n",
    "train_norm = xtrain[xtrain.columns[:5]]\n",
    "test_norm = xtest[xtest.columns[:5]]\n",
    "\n",
    "std_scale = preprocessing.StandardScaler().fit(train_norm)\n",
    "xtrain_norm = std_scale.transform(train_norm)\n",
    "\n",
    "#Converting numpy array to dataframe\n",
    "training_norm_col = pd.DataFrame(xtrain_norm, index=train_norm.index, columns=train_norm.columns) \n",
    "xtrain.update(training_norm_col)\n",
    "print (xtrain.head())\n",
    "\n",
    "xtest_norm = std_scale.transform(test_norm)\n",
    "testing_norm_col = pd.DataFrame(xtest_norm, index=test_norm.index, columns=test_norm.columns) \n",
    "xtest.update(testing_norm_col)\n",
    "print (xtest.head())"
   ]
  },
  {
   "cell_type": "markdown",
   "metadata": {
    "ExecuteTime": {
     "end_time": "2021-12-03T18:42:44.559529Z",
     "start_time": "2021-12-03T18:42:44.554530Z"
    }
   },
   "source": [
    "### hyperparameter"
   ]
  },
  {
   "cell_type": "code",
   "execution_count": 8,
   "metadata": {
    "ExecuteTime": {
     "end_time": "2021-12-03T19:00:34.628499Z",
     "start_time": "2021-12-03T19:00:34.615544Z"
    },
    "scrolled": true
   },
   "outputs": [
    {
     "name": "stdout",
     "output_type": "stream",
     "text": [
      "{'bootstrap': [True, False],\n",
      " 'max_depth': [10, 20, 30, 40, 50, 60, 70, 80, 90, 100, 110, None],\n",
      " 'max_features': ['auto', 'sqrt'],\n",
      " 'min_samples_leaf': [1, 2, 4],\n",
      " 'min_samples_split': [2, 5, 10],\n",
      " 'n_estimators': [100,\n",
      "                  200,\n",
      "                  300,\n",
      "                  400,\n",
      "                  500,\n",
      "                  600,\n",
      "                  700,\n",
      "                  800,\n",
      "                  900,\n",
      "                  1000,\n",
      "                  1100,\n",
      "                  1200,\n",
      "                  1300,\n",
      "                  1400,\n",
      "                  1500,\n",
      "                  1600,\n",
      "                  1700,\n",
      "                  1800,\n",
      "                  1900,\n",
      "                  2000]}\n"
     ]
    }
   ],
   "source": [
    "from sklearn.model_selection import RandomizedSearchCV\n",
    "\n",
    "# Number of trees in random forest\n",
    "n_estimators = [int(x) for x in np.linspace(start = 100, stop = 2000, num = 20)]\n",
    "# Number of features to consider at every split\n",
    "max_features = ['auto', 'sqrt']\n",
    "# Maximum number of levels in tree\n",
    "max_depth = [int(x) for x in np.linspace(10, 110, num = 11)]\n",
    "max_depth.append(None)\n",
    "# Minimum number of samples required to split a node\n",
    "min_samples_split = [2, 5, 10]\n",
    "# Minimum number of samples required at each leaf node\n",
    "min_samples_leaf = [1, 2, 4]\n",
    "# Method of selecting samples for training each tree\n",
    "bootstrap = [True, False]\n",
    "# Create the random grid\n",
    "random_grid = {'n_estimators': n_estimators,\n",
    "               'max_features': max_features,\n",
    "               'max_depth': max_depth,\n",
    "               'min_samples_split': min_samples_split,\n",
    "               'min_samples_leaf': min_samples_leaf,\n",
    "               'bootstrap': bootstrap}\n",
    "\n",
    "pprint(random_grid)"
   ]
  },
  {
   "cell_type": "code",
   "execution_count": 9,
   "metadata": {
    "ExecuteTime": {
     "end_time": "2021-12-03T19:03:05.747795Z",
     "start_time": "2021-12-03T19:00:35.696415Z"
    },
    "scrolled": true
   },
   "outputs": [
    {
     "name": "stdout",
     "output_type": "stream",
     "text": [
      "Fitting 3 folds for each of 100 candidates, totalling 300 fits\n"
     ]
    },
    {
     "name": "stderr",
     "output_type": "stream",
     "text": [
      "[Parallel(n_jobs=-1)]: Using backend LokyBackend with 8 concurrent workers.\n",
      "[Parallel(n_jobs=-1)]: Done  25 tasks      | elapsed:   13.7s\n",
      "[Parallel(n_jobs=-1)]: Done 146 tasks      | elapsed:  1.2min\n",
      "[Parallel(n_jobs=-1)]: Done 300 out of 300 | elapsed:  2.5min finished\n"
     ]
    },
    {
     "data": {
      "text/plain": [
       "RandomizedSearchCV(cv=3, estimator=RandomForestRegressor(random_state=3),\n",
       "                   n_iter=100, n_jobs=-1,\n",
       "                   param_distributions={'bootstrap': [True, False],\n",
       "                                        'max_depth': [10, 20, 30, 40, 50, 60,\n",
       "                                                      70, 80, 90, 100, 110,\n",
       "                                                      None],\n",
       "                                        'max_features': ['auto', 'sqrt'],\n",
       "                                        'min_samples_leaf': [1, 2, 4],\n",
       "                                        'min_samples_split': [2, 5, 10],\n",
       "                                        'n_estimators': [100, 200, 300, 400,\n",
       "                                                         500, 600, 700, 800,\n",
       "                                                         900, 1000, 1100, 1200,\n",
       "                                                         1300, 1400, 1500, 1600,\n",
       "                                                         1700, 1800, 1900,\n",
       "                                                         2000]},\n",
       "                   random_state=42, verbose=2)"
      ]
     },
     "execution_count": 9,
     "metadata": {},
     "output_type": "execute_result"
    }
   ],
   "source": [
    "# Use the random grid to search for best hyperparameters\n",
    "# First create the base model to tune\n",
    "# rf = RandomForestRegressor()\n",
    "# Random search of parameters, using 3 fold cross validation, \n",
    "# search across 100 different combinations, and use all available cores\n",
    "randomforest = RandomForestRegressor(random_state=3)\n",
    "\n",
    "rf_random = RandomizedSearchCV(estimator = randomforest,\n",
    "                               param_distributions = random_grid,\n",
    "                               n_iter = 100,\n",
    "                               cv = 3,\n",
    "                               verbose=2,\n",
    "                               random_state=42,\n",
    "                               n_jobs = -1)\n",
    "\n",
    "# Fit the random search model\n",
    "rf_random.fit(xtrain, ytrain)"
   ]
  },
  {
   "cell_type": "code",
   "execution_count": 10,
   "metadata": {
    "ExecuteTime": {
     "end_time": "2021-12-03T19:03:21.656731Z",
     "start_time": "2021-12-03T19:03:21.650631Z"
    }
   },
   "outputs": [
    {
     "data": {
      "text/plain": [
       "{'n_estimators': 800,\n",
       " 'min_samples_split': 2,\n",
       " 'min_samples_leaf': 4,\n",
       " 'max_features': 'auto',\n",
       " 'max_depth': 90,\n",
       " 'bootstrap': True}"
      ]
     },
     "execution_count": 10,
     "metadata": {},
     "output_type": "execute_result"
    }
   ],
   "source": [
    "# best match 출력\n",
    "\n",
    "rf_random.best_params_"
   ]
  },
  {
   "cell_type": "code",
   "execution_count": 11,
   "metadata": {
    "ExecuteTime": {
     "end_time": "2021-12-03T19:03:53.280960Z",
     "start_time": "2021-12-03T19:03:53.275951Z"
    }
   },
   "outputs": [],
   "source": [
    "def evaluate(model, test_features, test_labels):\n",
    "    predictions = model.predict(test_features)\n",
    "    errors = abs(predictions - test_labels)\n",
    "    mape = 100 * np.mean(errors / test_labels)\n",
    "    accuracy = 100 - mape\n",
    "    print('Model Performance')\n",
    "    print('Average Error: {:0.4f} degrees.'.format(np.mean(errors)))\n",
    "    print('Accuracy = {:0.2f}%.'.format(accuracy),'\\n')\n",
    "    \n",
    "    return accuracy"
   ]
  },
  {
   "cell_type": "code",
   "execution_count": 12,
   "metadata": {
    "ExecuteTime": {
     "end_time": "2021-12-03T19:03:53.960649Z",
     "start_time": "2021-12-03T19:03:53.886593Z"
    }
   },
   "outputs": [
    {
     "name": "stdout",
     "output_type": "stream",
     "text": [
      "0.4255108105768204 0.6523118967003594 0.549754774600445\n"
     ]
    }
   ],
   "source": [
    "# Random CV 결과\n",
    "\n",
    "ypred_rf_random = rf_random.predict(xtest)\n",
    "mse_rf_random = mean_squared_error(ytest, ypred_rf_random)\n",
    "R2_score = r2_score(ytest, ypred_rf_random)\n",
    "\n",
    "print(mse_rf_random, np.sqrt(mse_rf_random), R2_score)"
   ]
  },
  {
   "cell_type": "code",
   "execution_count": 13,
   "metadata": {
    "ExecuteTime": {
     "end_time": "2021-12-03T19:03:59.175801Z",
     "start_time": "2021-12-03T19:03:58.896668Z"
    }
   },
   "outputs": [
    {
     "name": "stdout",
     "output_type": "stream",
     "text": [
      "Basic Model\n",
      "Model Performance\n",
      "Average Error: 0.5344 degrees.\n",
      "Accuracy = 96.21%. \n",
      "\n",
      "Random CV Model\n",
      "Model Performance\n",
      "Average Error: 0.5047 degrees.\n",
      "Accuracy = 96.41%. \n",
      "\n",
      "Improvement of 0.21%.\n"
     ]
    }
   ],
   "source": [
    "# Random CV로 정한 모델과 오리지날 모델 정확도 비교\n",
    "\n",
    "print(\"Basic Model\")\n",
    "base_model = randomforest\n",
    "base_model.fit(xtrain, ytrain)\n",
    "base_accuracy = evaluate(base_model, xtest, ytest)\n",
    "\n",
    "print(\"Random CV Model\")\n",
    "best_random = rf_random.best_estimator_\n",
    "random_accuracy = evaluate(best_random, xtest, ytest)\n",
    "\n",
    "print('Improvement of {:0.2f}%.'.format( 100 * (random_accuracy - base_accuracy) / base_accuracy))"
   ]
  },
  {
   "cell_type": "markdown",
   "metadata": {},
   "source": [
    "### model fit"
   ]
  },
  {
   "cell_type": "code",
   "execution_count": 18,
   "metadata": {
    "ExecuteTime": {
     "end_time": "2021-12-03T19:04:46.421326Z",
     "start_time": "2021-12-03T19:04:44.943402Z"
    }
   },
   "outputs": [
    {
     "name": "stdout",
     "output_type": "stream",
     "text": [
      "RandomForest Final Result: R^2:0.55 MSE:0.42 RMSE:0.65\n"
     ]
    }
   ],
   "source": [
    "rf = RandomForestRegressor(n_estimators= 800,\n",
    "                           min_samples_leaf=4, \n",
    "                           min_samples_split= 2,\n",
    "                           max_features= 'auto', \n",
    "                           max_depth= 90, \n",
    "                           bootstrap= True,\n",
    "                           random_state = 0)\n",
    "rf.fit(xtrain, ytrain)\n",
    "ypred = rf.predict(xtest)\n",
    "\n",
    "# calculate RMSE from test data\n",
    "mse = mean_squared_error(ytest, ypred)\n",
    "print(\"RandomForest Final Result: R^2:{0:.2f} MSE:{1:.2f} RMSE:{2:.2f}\".format(rf.score(xtest, ytest), mse, np.sqrt(mse)))\n",
    "importance = rf.feature_importances_"
   ]
  },
  {
   "cell_type": "code",
   "execution_count": 19,
   "metadata": {
    "ExecuteTime": {
     "end_time": "2021-12-03T19:05:51.216957Z",
     "start_time": "2021-12-03T19:05:51.012946Z"
    }
   },
   "outputs": [
    {
     "name": "stdout",
     "output_type": "stream",
     "text": [
      "Feature ranking\n",
      "1. feature sqrt_actor_power (0.598)\n",
      "2. feature log_youtube_view_mean (0.195)\n",
      "3. feature sqrt_comment_count (0.079)\n",
      "4. feature running_time (0.069)\n",
      "5. feature sqrt_abs_mean_score (0.023)\n",
      "6. feature age_15세이상관람가 (0.011)\n",
      "7. feature genre_액션 (0.005)\n",
      "8. feature age_12세이상관람가 (0.004)\n",
      "9. feature nation_한국 (0.002)\n",
      "10. feature genre_미스터리 (0.002)\n"
     ]
    },
    {
     "data": {
      "image/png": "[encoded data removed]",
      "text/plain": [
       "<Figure size 720x720 with 1 Axes>"
      ]
     },
     "metadata": {
      "needs_background": "light"
     },
     "output_type": "display_data"
    }
   ],
   "source": [
    "indices = np.argsort(importance)[::-1]\n",
    "\n",
    "# print the feature ranking\n",
    "print(\"Feature ranking\")\n",
    "\n",
    "# for f in range(x.shape[1]):\n",
    "# 상위 10개만\n",
    "for f in range(10):\n",
    "    print(\"{}. feature {} ({:.3f})\".format(f+1, x.columns[indices][f], importance[indices[f]]))\n",
    "    \n",
    "# Plot the imprity-based feature importances of the forest\n",
    "plt.figure(figsize=(10,10))\n",
    "plt.title(\"Feature impotances\")\n",
    "plt.barh(range(x.shape[1])[:10], importance[indices][:10], color = 'r')\n",
    "plt.yticks(range(x.shape[1])[:10], x.columns[indices][:10])\n",
    "plt.ylim([-1, 10])\n",
    "plt.show()"
   ]
  },
  {
   "cell_type": "markdown",
   "metadata": {},
   "source": [
    "## Netflix Data"
   ]
  },
  {
   "cell_type": "code",
   "execution_count": 80,
   "metadata": {
    "ExecuteTime": {
     "end_time": "2021-12-03T19:28:13.229877Z",
     "start_time": "2021-12-03T19:28:13.223875Z"
    }
   },
   "outputs": [],
   "source": [
    "# modeling에 포함되지 않는 columns 제거\n",
    "colums_rm = ['movie_name','release']\n",
    "def remove_columns(movie_df):\n",
    "    col = list(movie_df.columns)\n",
    "    for i in colums_rm:\n",
    "        col.remove(i)\n",
    "    movie_df = movie_df.loc[:, col]\n",
    "    \n",
    "    return movie_df"
   ]
  },
  {
   "cell_type": "code",
   "execution_count": 81,
   "metadata": {
    "ExecuteTime": {
     "end_time": "2021-12-03T19:28:13.611911Z",
     "start_time": "2021-12-03T19:28:13.589890Z"
    }
   },
   "outputs": [],
   "source": [
    "netflix_df = pd.read_excel('C:/Users/User/Desktop/Viral_Effect/SNS-scraping/Netflix_Data.xlsx').iloc[:,1:]\n",
    "netflix_df_tf = pd.read_excel('C:/Users/User/Desktop/Viral_Effect/SNS-scraping/Netflix_Data_transformation.xlsx').iloc[:,1:]"
   ]
  },
  {
   "cell_type": "code",
   "execution_count": 82,
   "metadata": {
    "ExecuteTime": {
     "end_time": "2021-12-03T19:28:14.066880Z",
     "start_time": "2021-12-03T19:28:14.062878Z"
    }
   },
   "outputs": [],
   "source": [
    "netflix_name = netflix_df.loc[:,'movie_name']"
   ]
  },
  {
   "cell_type": "code",
   "execution_count": 83,
   "metadata": {
    "ExecuteTime": {
     "end_time": "2021-12-03T19:28:14.660883Z",
     "start_time": "2021-12-03T19:28:14.653876Z"
    }
   },
   "outputs": [],
   "source": [
    "netflix_df = remove_columns(netflix_df)\n",
    "netflix_df_tf = remove_columns(netflix_df_tf)"
   ]
  },
  {
   "cell_type": "code",
   "execution_count": 84,
   "metadata": {
    "ExecuteTime": {
     "end_time": "2021-12-03T19:28:15.432226Z",
     "start_time": "2021-12-03T19:28:15.422698Z"
    }
   },
   "outputs": [
    {
     "data": {
      "text/html": [
       "<div>\n",
       "<style scoped>\n",
       "    .dataframe tbody tr th:only-of-type {\n",
       "        vertical-align: middle;\n",
       "    }\n",
       "\n",
       "    .dataframe tbody tr th {\n",
       "        vertical-align: top;\n",
       "    }\n",
       "\n",
       "    .dataframe thead th {\n",
       "        text-align: right;\n",
       "    }\n",
       "</style>\n",
       "<table border=\"1\" class=\"dataframe\">\n",
       "  <thead>\n",
       "    <tr style=\"text-align: right;\">\n",
       "      <th></th>\n",
       "      <th>youtube_view_mean</th>\n",
       "      <th>comment_count</th>\n",
       "      <th>abs_mean_score</th>\n",
       "      <th>actor_power</th>\n",
       "    </tr>\n",
       "  </thead>\n",
       "  <tbody>\n",
       "    <tr>\n",
       "      <th>0</th>\n",
       "      <td>39636562.3</td>\n",
       "      <td>182052</td>\n",
       "      <td>0.877846</td>\n",
       "      <td>1837094.000</td>\n",
       "    </tr>\n",
       "    <tr>\n",
       "      <th>1</th>\n",
       "      <td>886085.3</td>\n",
       "      <td>3763</td>\n",
       "      <td>1.183902</td>\n",
       "      <td>6219299.667</td>\n",
       "    </tr>\n",
       "    <tr>\n",
       "      <th>2</th>\n",
       "      <td>1416440.5</td>\n",
       "      <td>10608</td>\n",
       "      <td>1.008533</td>\n",
       "      <td>3041107.333</td>\n",
       "    </tr>\n",
       "    <tr>\n",
       "      <th>3</th>\n",
       "      <td>260578.0</td>\n",
       "      <td>281</td>\n",
       "      <td>1.428533</td>\n",
       "      <td>547475.250</td>\n",
       "    </tr>\n",
       "    <tr>\n",
       "      <th>4</th>\n",
       "      <td>915003.6</td>\n",
       "      <td>10267</td>\n",
       "      <td>4.560011</td>\n",
       "      <td>1505560.000</td>\n",
       "    </tr>\n",
       "  </tbody>\n",
       "</table>\n",
       "</div>"
      ],
      "text/plain": [
       "   youtube_view_mean  comment_count  abs_mean_score  actor_power\n",
       "0         39636562.3         182052        0.877846  1837094.000\n",
       "1           886085.3           3763        1.183902  6219299.667\n",
       "2          1416440.5          10608        1.008533  3041107.333\n",
       "3           260578.0            281        1.428533   547475.250\n",
       "4           915003.6          10267        4.560011  1505560.000"
      ]
     },
     "execution_count": 84,
     "metadata": {},
     "output_type": "execute_result"
    }
   ],
   "source": [
    "netflix_df"
   ]
  },
  {
   "cell_type": "code",
   "execution_count": 85,
   "metadata": {
    "ExecuteTime": {
     "end_time": "2021-12-03T19:28:15.998218Z",
     "start_time": "2021-12-03T19:28:15.989218Z"
    }
   },
   "outputs": [
    {
     "data": {
      "text/html": [
       "<div>\n",
       "<style scoped>\n",
       "    .dataframe tbody tr th:only-of-type {\n",
       "        vertical-align: middle;\n",
       "    }\n",
       "\n",
       "    .dataframe tbody tr th {\n",
       "        vertical-align: top;\n",
       "    }\n",
       "\n",
       "    .dataframe thead th {\n",
       "        text-align: right;\n",
       "    }\n",
       "</style>\n",
       "<table border=\"1\" class=\"dataframe\">\n",
       "  <thead>\n",
       "    <tr style=\"text-align: right;\">\n",
       "      <th></th>\n",
       "      <th>log_youtube_view_mean</th>\n",
       "      <th>sqrt_comment_count</th>\n",
       "      <th>sqrt_abs_mean_score</th>\n",
       "      <th>sqrt_actor_power</th>\n",
       "    </tr>\n",
       "  </thead>\n",
       "  <tbody>\n",
       "    <tr>\n",
       "      <th>0</th>\n",
       "      <td>17.495263</td>\n",
       "      <td>426.675521</td>\n",
       "      <td>0.936934</td>\n",
       "      <td>1355.394408</td>\n",
       "    </tr>\n",
       "    <tr>\n",
       "      <th>1</th>\n",
       "      <td>13.694569</td>\n",
       "      <td>61.343296</td>\n",
       "      <td>1.088073</td>\n",
       "      <td>2493.852375</td>\n",
       "    </tr>\n",
       "    <tr>\n",
       "      <th>2</th>\n",
       "      <td>14.163658</td>\n",
       "      <td>102.995146</td>\n",
       "      <td>1.004258</td>\n",
       "      <td>1743.877098</td>\n",
       "    </tr>\n",
       "    <tr>\n",
       "      <th>3</th>\n",
       "      <td>12.470658</td>\n",
       "      <td>16.763055</td>\n",
       "      <td>1.195213</td>\n",
       "      <td>739.915705</td>\n",
       "    </tr>\n",
       "    <tr>\n",
       "      <th>4</th>\n",
       "      <td>13.726683</td>\n",
       "      <td>101.326206</td>\n",
       "      <td>2.135418</td>\n",
       "      <td>1227.012632</td>\n",
       "    </tr>\n",
       "  </tbody>\n",
       "</table>\n",
       "</div>"
      ],
      "text/plain": [
       "   log_youtube_view_mean  sqrt_comment_count  sqrt_abs_mean_score  \\\n",
       "0              17.495263          426.675521             0.936934   \n",
       "1              13.694569           61.343296             1.088073   \n",
       "2              14.163658          102.995146             1.004258   \n",
       "3              12.470658           16.763055             1.195213   \n",
       "4              13.726683          101.326206             2.135418   \n",
       "\n",
       "   sqrt_actor_power  \n",
       "0       1355.394408  \n",
       "1       2493.852375  \n",
       "2       1743.877098  \n",
       "3        739.915705  \n",
       "4       1227.012632  "
      ]
     },
     "execution_count": 85,
     "metadata": {},
     "output_type": "execute_result"
    }
   ],
   "source": [
    "netflix_df_tf"
   ]
  },
  {
   "cell_type": "code",
   "execution_count": 86,
   "metadata": {
    "ExecuteTime": {
     "end_time": "2021-12-03T19:28:16.736392Z",
     "start_time": "2021-12-03T19:28:16.732392Z"
    }
   },
   "outputs": [],
   "source": [
    "modeling_df = netflix_df_tf.copy()"
   ]
  },
  {
   "cell_type": "markdown",
   "metadata": {},
   "source": [
    "### Forecasting"
   ]
  },
  {
   "cell_type": "code",
   "execution_count": 87,
   "metadata": {
    "ExecuteTime": {
     "end_time": "2021-12-03T19:28:18.356928Z",
     "start_time": "2021-12-03T19:28:18.331953Z"
    }
   },
   "outputs": [
    {
     "data": {
      "text/html": [
       "<div>\n",
       "<style scoped>\n",
       "    .dataframe tbody tr th:only-of-type {\n",
       "        vertical-align: middle;\n",
       "    }\n",
       "\n",
       "    .dataframe tbody tr th {\n",
       "        vertical-align: top;\n",
       "    }\n",
       "\n",
       "    .dataframe thead th {\n",
       "        text-align: right;\n",
       "    }\n",
       "</style>\n",
       "<table border=\"1\" class=\"dataframe\">\n",
       "  <thead>\n",
       "    <tr style=\"text-align: right;\">\n",
       "      <th></th>\n",
       "      <th>running_time</th>\n",
       "      <th>log_youtube_view_mean</th>\n",
       "      <th>sqrt_comment_count</th>\n",
       "      <th>sqrt_abs_mean_score</th>\n",
       "      <th>sqrt_actor_power</th>\n",
       "      <th>nation_미국</th>\n",
       "      <th>nation_영국</th>\n",
       "      <th>nation_일본</th>\n",
       "      <th>nation_한국</th>\n",
       "      <th>distribution_company_(주)넥스트엔터테인먼트월드(NEW)</th>\n",
       "      <th>...</th>\n",
       "      <th>genre_애니메이션</th>\n",
       "      <th>genre_액션</th>\n",
       "      <th>genre_어드벤처</th>\n",
       "      <th>genre_전쟁</th>\n",
       "      <th>genre_코미디</th>\n",
       "      <th>genre_판타지</th>\n",
       "      <th>age_12세이상관람가</th>\n",
       "      <th>age_15세이상관람가</th>\n",
       "      <th>age_전체관람가</th>\n",
       "      <th>age_청소년관람불가</th>\n",
       "    </tr>\n",
       "  </thead>\n",
       "  <tbody>\n",
       "    <tr>\n",
       "      <th>0</th>\n",
       "      <td>0.0</td>\n",
       "      <td>17.495263</td>\n",
       "      <td>426.675521</td>\n",
       "      <td>0.936934</td>\n",
       "      <td>1355.394408</td>\n",
       "      <td>0.0</td>\n",
       "      <td>0.0</td>\n",
       "      <td>0.0</td>\n",
       "      <td>0.0</td>\n",
       "      <td>0.0</td>\n",
       "      <td>...</td>\n",
       "      <td>0.0</td>\n",
       "      <td>0.0</td>\n",
       "      <td>0.0</td>\n",
       "      <td>0.0</td>\n",
       "      <td>0.0</td>\n",
       "      <td>0.0</td>\n",
       "      <td>0.0</td>\n",
       "      <td>0.0</td>\n",
       "      <td>0.0</td>\n",
       "      <td>0.0</td>\n",
       "    </tr>\n",
       "    <tr>\n",
       "      <th>1</th>\n",
       "      <td>0.0</td>\n",
       "      <td>13.694569</td>\n",
       "      <td>61.343296</td>\n",
       "      <td>1.088073</td>\n",
       "      <td>2493.852375</td>\n",
       "      <td>0.0</td>\n",
       "      <td>0.0</td>\n",
       "      <td>0.0</td>\n",
       "      <td>0.0</td>\n",
       "      <td>0.0</td>\n",
       "      <td>...</td>\n",
       "      <td>0.0</td>\n",
       "      <td>0.0</td>\n",
       "      <td>0.0</td>\n",
       "      <td>0.0</td>\n",
       "      <td>0.0</td>\n",
       "      <td>0.0</td>\n",
       "      <td>0.0</td>\n",
       "      <td>0.0</td>\n",
       "      <td>0.0</td>\n",
       "      <td>0.0</td>\n",
       "    </tr>\n",
       "    <tr>\n",
       "      <th>2</th>\n",
       "      <td>0.0</td>\n",
       "      <td>14.163658</td>\n",
       "      <td>102.995146</td>\n",
       "      <td>1.004258</td>\n",
       "      <td>1743.877098</td>\n",
       "      <td>0.0</td>\n",
       "      <td>0.0</td>\n",
       "      <td>0.0</td>\n",
       "      <td>0.0</td>\n",
       "      <td>0.0</td>\n",
       "      <td>...</td>\n",
       "      <td>0.0</td>\n",
       "      <td>0.0</td>\n",
       "      <td>0.0</td>\n",
       "      <td>0.0</td>\n",
       "      <td>0.0</td>\n",
       "      <td>0.0</td>\n",
       "      <td>0.0</td>\n",
       "      <td>0.0</td>\n",
       "      <td>0.0</td>\n",
       "      <td>0.0</td>\n",
       "    </tr>\n",
       "    <tr>\n",
       "      <th>3</th>\n",
       "      <td>0.0</td>\n",
       "      <td>12.470658</td>\n",
       "      <td>16.763055</td>\n",
       "      <td>1.195213</td>\n",
       "      <td>739.915705</td>\n",
       "      <td>0.0</td>\n",
       "      <td>0.0</td>\n",
       "      <td>0.0</td>\n",
       "      <td>0.0</td>\n",
       "      <td>0.0</td>\n",
       "      <td>...</td>\n",
       "      <td>0.0</td>\n",
       "      <td>0.0</td>\n",
       "      <td>0.0</td>\n",
       "      <td>0.0</td>\n",
       "      <td>0.0</td>\n",
       "      <td>0.0</td>\n",
       "      <td>0.0</td>\n",
       "      <td>0.0</td>\n",
       "      <td>0.0</td>\n",
       "      <td>0.0</td>\n",
       "    </tr>\n",
       "    <tr>\n",
       "      <th>4</th>\n",
       "      <td>0.0</td>\n",
       "      <td>13.726683</td>\n",
       "      <td>101.326206</td>\n",
       "      <td>2.135418</td>\n",
       "      <td>1227.012632</td>\n",
       "      <td>0.0</td>\n",
       "      <td>0.0</td>\n",
       "      <td>0.0</td>\n",
       "      <td>0.0</td>\n",
       "      <td>0.0</td>\n",
       "      <td>...</td>\n",
       "      <td>0.0</td>\n",
       "      <td>0.0</td>\n",
       "      <td>0.0</td>\n",
       "      <td>0.0</td>\n",
       "      <td>0.0</td>\n",
       "      <td>0.0</td>\n",
       "      <td>0.0</td>\n",
       "      <td>0.0</td>\n",
       "      <td>0.0</td>\n",
       "      <td>0.0</td>\n",
       "    </tr>\n",
       "  </tbody>\n",
       "</table>\n",
       "<p>5 rows × 52 columns</p>\n",
       "</div>"
      ],
      "text/plain": [
       "   running_time  log_youtube_view_mean  sqrt_comment_count  \\\n",
       "0           0.0              17.495263          426.675521   \n",
       "1           0.0              13.694569           61.343296   \n",
       "2           0.0              14.163658          102.995146   \n",
       "3           0.0              12.470658           16.763055   \n",
       "4           0.0              13.726683          101.326206   \n",
       "\n",
       "   sqrt_abs_mean_score  sqrt_actor_power  nation_미국  nation_영국  nation_일본  \\\n",
       "0             0.936934       1355.394408        0.0        0.0        0.0   \n",
       "1             1.088073       2493.852375        0.0        0.0        0.0   \n",
       "2             1.004258       1743.877098        0.0        0.0        0.0   \n",
       "3             1.195213        739.915705        0.0        0.0        0.0   \n",
       "4             2.135418       1227.012632        0.0        0.0        0.0   \n",
       "\n",
       "   nation_한국  distribution_company_(주)넥스트엔터테인먼트월드(NEW)  ...  genre_애니메이션  \\\n",
       "0        0.0                                       0.0  ...          0.0   \n",
       "1        0.0                                       0.0  ...          0.0   \n",
       "2        0.0                                       0.0  ...          0.0   \n",
       "3        0.0                                       0.0  ...          0.0   \n",
       "4        0.0                                       0.0  ...          0.0   \n",
       "\n",
       "   genre_액션  genre_어드벤처  genre_전쟁  genre_코미디  genre_판타지  age_12세이상관람가  \\\n",
       "0       0.0         0.0       0.0        0.0        0.0           0.0   \n",
       "1       0.0         0.0       0.0        0.0        0.0           0.0   \n",
       "2       0.0         0.0       0.0        0.0        0.0           0.0   \n",
       "3       0.0         0.0       0.0        0.0        0.0           0.0   \n",
       "4       0.0         0.0       0.0        0.0        0.0           0.0   \n",
       "\n",
       "   age_15세이상관람가  age_전체관람가  age_청소년관람불가  \n",
       "0           0.0        0.0          0.0  \n",
       "1           0.0        0.0          0.0  \n",
       "2           0.0        0.0          0.0  \n",
       "3           0.0        0.0          0.0  \n",
       "4           0.0        0.0          0.0  \n",
       "\n",
       "[5 rows x 52 columns]"
      ]
     },
     "execution_count": 87,
     "metadata": {},
     "output_type": "execute_result"
    }
   ],
   "source": [
    "modeling_df = modeling_df.reindex(list(xtest.columns), axis=1).fillna(0)\n",
    "modeling_df"
   ]
  },
  {
   "cell_type": "code",
   "execution_count": 88,
   "metadata": {
    "ExecuteTime": {
     "end_time": "2021-12-03T19:28:19.165807Z",
     "start_time": "2021-12-03T19:28:19.141781Z"
    },
    "scrolled": true
   },
   "outputs": [
    {
     "name": "stdout",
     "output_type": "stream",
     "text": [
      "   running_time  log_youtube_view_mean  sqrt_comment_count  \\\n",
      "0           0.0               1.885398            1.952660   \n",
      "1           0.0              -0.364399           -0.551666   \n",
      "2           0.0              -0.086725           -0.266146   \n",
      "3           0.0              -1.088886           -0.857261   \n",
      "4           0.0              -0.345389           -0.277586   \n",
      "\n",
      "   sqrt_abs_mean_score  sqrt_actor_power  nation_미국  nation_영국  nation_일본  \\\n",
      "0            -0.761005         -0.267055        0.0        0.0        0.0   \n",
      "1            -0.417716          1.674193        0.0        0.0        0.0   \n",
      "2            -0.608090          0.395369        0.0        0.0        0.0   \n",
      "3            -0.174364         -1.316541        0.0        0.0        0.0   \n",
      "4             1.961175         -0.485966        0.0        0.0        0.0   \n",
      "\n",
      "   nation_한국  distribution_company_(주)넥스트엔터테인먼트월드(NEW)  ...  genre_애니메이션  \\\n",
      "0        0.0                                       0.0  ...          0.0   \n",
      "1        0.0                                       0.0  ...          0.0   \n",
      "2        0.0                                       0.0  ...          0.0   \n",
      "3        0.0                                       0.0  ...          0.0   \n",
      "4        0.0                                       0.0  ...          0.0   \n",
      "\n",
      "   genre_액션  genre_어드벤처  genre_전쟁  genre_코미디  genre_판타지  age_12세이상관람가  \\\n",
      "0       0.0         0.0       0.0        0.0        0.0           0.0   \n",
      "1       0.0         0.0       0.0        0.0        0.0           0.0   \n",
      "2       0.0         0.0       0.0        0.0        0.0           0.0   \n",
      "3       0.0         0.0       0.0        0.0        0.0           0.0   \n",
      "4       0.0         0.0       0.0        0.0        0.0           0.0   \n",
      "\n",
      "   age_15세이상관람가  age_전체관람가  age_청소년관람불가  \n",
      "0           0.0        0.0          0.0  \n",
      "1           0.0        0.0          0.0  \n",
      "2           0.0        0.0          0.0  \n",
      "3           0.0        0.0          0.0  \n",
      "4           0.0        0.0          0.0  \n",
      "\n",
      "[5 rows x 52 columns]\n"
     ]
    }
   ],
   "source": [
    "# 단위가 다르니 정규화 후 모델링 (수치형만)\n",
    "# Normalize Training Data \n",
    "modeling_df_norm = modeling_df[modeling_df.columns[:5]]\n",
    "\n",
    "std_scale = preprocessing.StandardScaler().fit(modeling_df_norm)\n",
    "modeling_df_norm = pd.DataFrame(std_scale.transform(modeling_df_norm), columns=modeling_df.columns[:5])\n",
    "\n",
    "#Converting numpy array to dataframe\n",
    "modeling_df_norm_col = pd.DataFrame(modeling_df_norm, index=modeling_df_norm.index, columns=modeling_df_norm.columns) \n",
    "modeling_df.update(modeling_df_norm_col)\n",
    "print (modeling_df)"
   ]
  },
  {
   "cell_type": "code",
   "execution_count": 97,
   "metadata": {
    "ExecuteTime": {
     "end_time": "2021-12-03T19:30:17.341407Z",
     "start_time": "2021-12-03T19:30:17.287447Z"
    }
   },
   "outputs": [],
   "source": [
    "netflix_pred = rf.predict(modeling_df)\n",
    "netflix_pred = pd.DataFrame(netflix_pred, columns = ['prediction'], index = list(netflix_name))"
   ]
  },
  {
   "cell_type": "code",
   "execution_count": 100,
   "metadata": {
    "ExecuteTime": {
     "end_time": "2021-12-03T19:30:48.612763Z",
     "start_time": "2021-12-03T19:30:48.604769Z"
    }
   },
   "outputs": [
    {
     "name": "stdout",
     "output_type": "stream",
     "text": [
      "log(Audience) Prediction : \n"
     ]
    },
    {
     "data": {
      "text/html": [
       "<div>\n",
       "<style scoped>\n",
       "    .dataframe tbody tr th:only-of-type {\n",
       "        vertical-align: middle;\n",
       "    }\n",
       "\n",
       "    .dataframe tbody tr th {\n",
       "        vertical-align: top;\n",
       "    }\n",
       "\n",
       "    .dataframe thead th {\n",
       "        text-align: right;\n",
       "    }\n",
       "</style>\n",
       "<table border=\"1\" class=\"dataframe\">\n",
       "  <thead>\n",
       "    <tr style=\"text-align: right;\">\n",
       "      <th></th>\n",
       "      <th>prediction</th>\n",
       "    </tr>\n",
       "  </thead>\n",
       "  <tbody>\n",
       "    <tr>\n",
       "      <th>오징어 게임</th>\n",
       "      <td>15.076102</td>\n",
       "    </tr>\n",
       "    <tr>\n",
       "      <th>킹덤</th>\n",
       "      <td>15.260344</td>\n",
       "    </tr>\n",
       "    <tr>\n",
       "      <th>보건교사 안은영</th>\n",
       "      <td>14.668434</td>\n",
       "    </tr>\n",
       "    <tr>\n",
       "      <th>옥자</th>\n",
       "      <td>13.336972</td>\n",
       "    </tr>\n",
       "    <tr>\n",
       "      <th>승리호</th>\n",
       "      <td>14.336878</td>\n",
       "    </tr>\n",
       "  </tbody>\n",
       "</table>\n",
       "</div>"
      ],
      "text/plain": [
       "          prediction\n",
       "오징어 게임     15.076102\n",
       "킹덤         15.260344\n",
       "보건교사 안은영   14.668434\n",
       "옥자         13.336972\n",
       "승리호        14.336878"
      ]
     },
     "execution_count": 100,
     "metadata": {},
     "output_type": "execute_result"
    }
   ],
   "source": [
    "# 결과값 예측 \n",
    "print('log(Audience) Prediction : ')\n",
    "netflix_pred"
   ]
  },
  {
   "cell_type": "code",
   "execution_count": 118,
   "metadata": {
    "ExecuteTime": {
     "end_time": "2021-12-03T19:41:35.697437Z",
     "start_time": "2021-12-03T19:41:35.686440Z"
    }
   },
   "outputs": [
    {
     "data": {
      "text/html": [
       "<div>\n",
       "<style scoped>\n",
       "    .dataframe tbody tr th:only-of-type {\n",
       "        vertical-align: middle;\n",
       "    }\n",
       "\n",
       "    .dataframe tbody tr th {\n",
       "        vertical-align: top;\n",
       "    }\n",
       "\n",
       "    .dataframe thead th {\n",
       "        text-align: right;\n",
       "    }\n",
       "</style>\n",
       "<table border=\"1\" class=\"dataframe\">\n",
       "  <thead>\n",
       "    <tr style=\"text-align: right;\">\n",
       "      <th></th>\n",
       "      <th>Viral_Index</th>\n",
       "    </tr>\n",
       "  </thead>\n",
       "  <tbody>\n",
       "    <tr>\n",
       "      <th>오징어 게임</th>\n",
       "      <td>90.420881</td>\n",
       "    </tr>\n",
       "    <tr>\n",
       "      <th>킹덤</th>\n",
       "      <td>100.000000</td>\n",
       "    </tr>\n",
       "    <tr>\n",
       "      <th>보건교사 안은영</th>\n",
       "      <td>69.225401</td>\n",
       "    </tr>\n",
       "    <tr>\n",
       "      <th>옥자</th>\n",
       "      <td>0.000000</td>\n",
       "    </tr>\n",
       "    <tr>\n",
       "      <th>승리호</th>\n",
       "      <td>51.987150</td>\n",
       "    </tr>\n",
       "  </tbody>\n",
       "</table>\n",
       "</div>"
      ],
      "text/plain": [
       "          Viral_Index\n",
       "오징어 게임      90.420881\n",
       "킹덤         100.000000\n",
       "보건교사 안은영    69.225401\n",
       "옥자           0.000000\n",
       "승리호         51.987150"
      ]
     },
     "execution_count": 118,
     "metadata": {},
     "output_type": "execute_result"
    }
   ],
   "source": [
    "# 1) 최소 최대 기준으로 0~100\n",
    "viral_index1 = netflix_pred.apply(lambda x : (x-min(x))/(max(x) - min(x)) * 100)\n",
    "viral_index1.columns = ['Viral_Index']\n",
    "viral_index1"
   ]
  },
  {
   "cell_type": "code",
   "execution_count": 107,
   "metadata": {
    "ExecuteTime": {
     "end_time": "2021-12-03T19:37:37.700684Z",
     "start_time": "2021-12-03T19:37:37.692720Z"
    }
   },
   "outputs": [],
   "source": [
    "# 2) 정규화 (평균 0 , 분산 1로 조정)\n",
    "std_scale = preprocessing.StandardScaler().fit(netflix_pred)\n",
    "netflix_pred_norm = std_scale.transform(netflix_pred)"
   ]
  },
  {
   "cell_type": "code",
   "execution_count": 111,
   "metadata": {
    "ExecuteTime": {
     "end_time": "2021-12-03T19:38:02.831346Z",
     "start_time": "2021-12-03T19:38:02.818381Z"
    }
   },
   "outputs": [
    {
     "data": {
      "text/html": [
       "<div>\n",
       "<style scoped>\n",
       "    .dataframe tbody tr th:only-of-type {\n",
       "        vertical-align: middle;\n",
       "    }\n",
       "\n",
       "    .dataframe tbody tr th {\n",
       "        vertical-align: top;\n",
       "    }\n",
       "\n",
       "    .dataframe thead th {\n",
       "        text-align: right;\n",
       "    }\n",
       "</style>\n",
       "<table border=\"1\" class=\"dataframe\">\n",
       "  <thead>\n",
       "    <tr style=\"text-align: right;\">\n",
       "      <th></th>\n",
       "      <th>Viral_index</th>\n",
       "    </tr>\n",
       "  </thead>\n",
       "  <tbody>\n",
       "    <tr>\n",
       "      <th>오징어 게임</th>\n",
       "      <td>79.477158</td>\n",
       "    </tr>\n",
       "    <tr>\n",
       "      <th>킹덤</th>\n",
       "      <td>106.576034</td>\n",
       "    </tr>\n",
       "    <tr>\n",
       "      <th>보건교사 안은영</th>\n",
       "      <td>19.516140</td>\n",
       "    </tr>\n",
       "    <tr>\n",
       "      <th>옥자</th>\n",
       "      <td>-176.319268</td>\n",
       "    </tr>\n",
       "    <tr>\n",
       "      <th>승리호</th>\n",
       "      <td>-29.250064</td>\n",
       "    </tr>\n",
       "  </tbody>\n",
       "</table>\n",
       "</div>"
      ],
      "text/plain": [
       "          Viral_index\n",
       "오징어 게임      79.477158\n",
       "킹덤         106.576034\n",
       "보건교사 안은영    19.516140\n",
       "옥자        -176.319268\n",
       "승리호        -29.250064"
      ]
     },
     "execution_count": 111,
     "metadata": {},
     "output_type": "execute_result"
    }
   ],
   "source": [
    "viral_index2 = pd.DataFrame(netflix_pred_norm*100, columns = ['Viral_index'], index = list(netflix_name))\n",
    "viral_index2"
   ]
  },
  {
   "cell_type": "code",
   "execution_count": null,
   "metadata": {},
   "outputs": [],
   "source": []
  }
 ],
 "metadata": {
  "hide_input": false,
  "kernelspec": {
   "display_name": "Python 3",
   "language": "python",
   "name": "python3"
  },
  "language_info": {
   "codemirror_mode": {
    "name": "ipython",
    "version": 3
   },
   "file_extension": ".py",
   "mimetype": "text/x-python",
   "name": "python",
   "nbconvert_exporter": "python",
   "pygments_lexer": "ipython3",
   "version": "3.8.3"
  },
  "toc": {
   "base_numbering": 1,
   "nav_menu": {},
   "number_sections": true,
   "sideBar": true,
   "skip_h1_title": false,
   "title_cell": "Table of Contents",
   "title_sidebar": "Contents",
   "toc_cell": false,
   "toc_position": {
    "height": "calc(100% - 180px)",
    "left": "10px",
    "top": "150px",
    "width": "165px"
   },
   "toc_section_display": true,
   "toc_window_display": true
  },
  "varInspector": {
   "cols": {
    "lenName": 16,
    "lenType": 16,
    "lenVar": 40
   },
   "kernels_config": {
    "python": {
     "delete_cmd_postfix": "",
     "delete_cmd_prefix": "del ",
     "library": "var_list.py",
     "varRefreshCmd": "print(var_dic_list())"
    },
    "r": {
     "delete_cmd_postfix": ") ",
     "delete_cmd_prefix": "rm(",
     "library": "var_list.r",
     "varRefreshCmd": "cat(var_dic_list()) "
    }
   },
   "types_to_exclude": [
    "module",
    "function",
    "builtin_function_or_method",
    "instance",
    "_Feature"
   ],
   "window_display": false
  }
 },
 "nbformat": 4,
 "nbformat_minor": 4
}
