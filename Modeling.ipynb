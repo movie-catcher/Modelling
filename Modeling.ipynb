{
 "cells": [
  {
   "cell_type": "markdown",
   "metadata": {
    "ExecuteTime": {
     "end_time": "2021-11-29T09:55:07.097469Z",
     "start_time": "2021-11-29T09:55:07.094499Z"
    }
   },
   "source": [
    "# Before Modeling\n",
    "\n",
    "> Model selection\n",
    "1. 엘라스틱 - Ridge, Lasso 합친거니까 선택\n",
    "2. randomForest - 트리모형\n",
    "3. lightgbm - 트리모형\n",
    "4. xgboost - 트리모형"
   ]
  },
  {
   "cell_type": "markdown",
   "metadata": {},
   "source": [
    "## import"
   ]
  },
  {
   "cell_type": "code",
   "execution_count": 77,
   "metadata": {
    "ExecuteTime": {
     "end_time": "2021-12-03T07:37:20.542961Z",
     "start_time": "2021-12-03T07:37:20.526315Z"
    }
   },
   "outputs": [],
   "source": [
    "import pandas as pd\n",
    "import numpy as np\n",
    "import matplotlib.pyplot as plt\n",
    "\n",
    "import seaborn as sns\n",
    "\n",
    "from sklearn.linear_model import ElasticNet, ElasticNetCV # 두 개 구분\n",
    "from sklearn.ensemble import RandomForestRegressor\n",
    "from sklearn.model_selection import KFold, cross_val_score, train_test_split\n",
    "from sklearn.metrics import mean_squared_error, r2_score, mean_absolute_error \n",
    "import xgboost as xgb\n",
    "import lightgbm as lgb\n",
    "\n",
    "%matplotlib inline\n",
    "plt.rcParams['font.family'] ='Malgun Gothic'\n",
    "\n",
    "from pprint import pprint\n",
    "import warnings\n",
    "warnings.filterwarnings('ignore')"
   ]
  },
  {
   "cell_type": "markdown",
   "metadata": {},
   "source": [
    "## Data"
   ]
  },
  {
   "cell_type": "code",
   "execution_count": 2,
   "metadata": {
    "ExecuteTime": {
     "end_time": "2021-12-03T06:19:25.841330Z",
     "start_time": "2021-12-03T06:19:25.660973Z"
    }
   },
   "outputs": [],
   "source": [
    "import pandas as pd\n",
    "data = pd.read_excel('data/Movie_Data_Final_transformation.xlsx').iloc[:,1:]"
   ]
  },
  {
   "cell_type": "code",
   "execution_count": 3,
   "metadata": {
    "ExecuteTime": {
     "end_time": "2021-12-03T06:19:26.361949Z",
     "start_time": "2021-12-03T06:19:26.354729Z"
    }
   },
   "outputs": [],
   "source": [
    "# modeling에 포함되지 않는 columns 제거\n",
    "colums_rm = ['movie_name','release', 'take', 'code', 'kind', 'scale', 'actor']\n",
    "def remove_columns(movie_df):\n",
    "    col = list(movie_df.columns)\n",
    "    for i in colums_rm:\n",
    "        col.remove(i)\n",
    "    movie_df = movie_df.loc[:, col]\n",
    "    \n",
    "    return movie_df"
   ]
  },
  {
   "cell_type": "code",
   "execution_count": 4,
   "metadata": {
    "ExecuteTime": {
     "end_time": "2021-12-03T06:19:27.163000Z",
     "start_time": "2021-12-03T06:19:27.155037Z"
    },
    "scrolled": true
   },
   "outputs": [],
   "source": [
    "# 영화명 날림\n",
    "data = remove_columns(data)"
   ]
  },
  {
   "cell_type": "code",
   "execution_count": 5,
   "metadata": {
    "ExecuteTime": {
     "end_time": "2021-12-03T06:19:30.067010Z",
     "start_time": "2021-12-03T06:19:30.061357Z"
    }
   },
   "outputs": [],
   "source": [
    "# data.to_excel('data/Movie_Data_Final_transformation_cut.xlsx')"
   ]
  },
  {
   "cell_type": "markdown",
   "metadata": {},
   "source": [
    "## One-hot encoding"
   ]
  },
  {
   "cell_type": "code",
   "execution_count": 6,
   "metadata": {
    "ExecuteTime": {
     "end_time": "2021-12-03T06:19:37.824227Z",
     "start_time": "2021-12-03T06:19:37.769064Z"
    }
   },
   "outputs": [],
   "source": [
    "data = pd.get_dummies(data = data, columns = ['nation'], prefix = 'nation')\n",
    "data = pd.get_dummies(data = data, columns = ['distribution_company'], prefix = 'distribution_company')\n",
    "data = pd.get_dummies(data = data, columns = ['genre'], prefix = 'genre')\n",
    "data = pd.get_dummies(data = data, columns = ['age'], prefix = 'age')"
   ]
  },
  {
   "cell_type": "code",
   "execution_count": 7,
   "metadata": {
    "ExecuteTime": {
     "end_time": "2021-12-03T06:19:38.755624Z",
     "start_time": "2021-12-03T06:19:38.745228Z"
    }
   },
   "outputs": [],
   "source": [
    "x = data.iloc[:,1:] \n",
    "y = np.log(data.iloc[:,0]) # 관객수 log transformation"
   ]
  },
  {
   "cell_type": "code",
   "execution_count": 8,
   "metadata": {
    "ExecuteTime": {
     "end_time": "2021-12-03T06:19:42.055823Z",
     "start_time": "2021-12-03T06:19:41.978028Z"
    }
   },
   "outputs": [
    {
     "data": {
      "text/html": [
       "<div>\n",
       "<style scoped>\n",
       "    .dataframe tbody tr th:only-of-type {\n",
       "        vertical-align: middle;\n",
       "    }\n",
       "\n",
       "    .dataframe tbody tr th {\n",
       "        vertical-align: top;\n",
       "    }\n",
       "\n",
       "    .dataframe thead th {\n",
       "        text-align: right;\n",
       "    }\n",
       "</style>\n",
       "<table border=\"1\" class=\"dataframe\">\n",
       "  <thead>\n",
       "    <tr style=\"text-align: right;\">\n",
       "      <th></th>\n",
       "      <th>running_time</th>\n",
       "      <th>log_youtube_view_mean</th>\n",
       "      <th>sqrt_comment_count</th>\n",
       "      <th>sqrt_abs_mean_score</th>\n",
       "      <th>sqrt_actor_power</th>\n",
       "      <th>nation_미국</th>\n",
       "      <th>nation_영국</th>\n",
       "      <th>nation_일본</th>\n",
       "      <th>nation_한국</th>\n",
       "      <th>distribution_company_(주)넥스트엔터테인먼트월드(NEW)</th>\n",
       "      <th>...</th>\n",
       "      <th>genre_애니메이션</th>\n",
       "      <th>genre_액션</th>\n",
       "      <th>genre_어드벤처</th>\n",
       "      <th>genre_전쟁</th>\n",
       "      <th>genre_코미디</th>\n",
       "      <th>genre_판타지</th>\n",
       "      <th>age_12세이상관람가</th>\n",
       "      <th>age_15세이상관람가</th>\n",
       "      <th>age_전체관람가</th>\n",
       "      <th>age_청소년관람불가</th>\n",
       "    </tr>\n",
       "  </thead>\n",
       "  <tbody>\n",
       "    <tr>\n",
       "      <th>0</th>\n",
       "      <td>137</td>\n",
       "      <td>12.854272</td>\n",
       "      <td>56.462377</td>\n",
       "      <td>1.757064</td>\n",
       "      <td>3087.095601</td>\n",
       "      <td>0</td>\n",
       "      <td>0</td>\n",
       "      <td>0</td>\n",
       "      <td>1</td>\n",
       "      <td>0</td>\n",
       "      <td>...</td>\n",
       "      <td>0</td>\n",
       "      <td>0</td>\n",
       "      <td>0</td>\n",
       "      <td>0</td>\n",
       "      <td>0</td>\n",
       "      <td>0</td>\n",
       "      <td>0</td>\n",
       "      <td>1</td>\n",
       "      <td>0</td>\n",
       "      <td>0</td>\n",
       "    </tr>\n",
       "    <tr>\n",
       "      <th>1</th>\n",
       "      <td>139</td>\n",
       "      <td>13.229750</td>\n",
       "      <td>98.903994</td>\n",
       "      <td>1.228373</td>\n",
       "      <td>2605.491412</td>\n",
       "      <td>0</td>\n",
       "      <td>0</td>\n",
       "      <td>0</td>\n",
       "      <td>1</td>\n",
       "      <td>0</td>\n",
       "      <td>...</td>\n",
       "      <td>0</td>\n",
       "      <td>0</td>\n",
       "      <td>0</td>\n",
       "      <td>0</td>\n",
       "      <td>0</td>\n",
       "      <td>1</td>\n",
       "      <td>1</td>\n",
       "      <td>0</td>\n",
       "      <td>0</td>\n",
       "      <td>0</td>\n",
       "    </tr>\n",
       "    <tr>\n",
       "      <th>2</th>\n",
       "      <td>125</td>\n",
       "      <td>13.543377</td>\n",
       "      <td>13.747727</td>\n",
       "      <td>1.201012</td>\n",
       "      <td>2227.585689</td>\n",
       "      <td>0</td>\n",
       "      <td>0</td>\n",
       "      <td>0</td>\n",
       "      <td>1</td>\n",
       "      <td>0</td>\n",
       "      <td>...</td>\n",
       "      <td>0</td>\n",
       "      <td>1</td>\n",
       "      <td>0</td>\n",
       "      <td>0</td>\n",
       "      <td>0</td>\n",
       "      <td>0</td>\n",
       "      <td>0</td>\n",
       "      <td>1</td>\n",
       "      <td>0</td>\n",
       "      <td>0</td>\n",
       "    </tr>\n",
       "    <tr>\n",
       "      <th>3</th>\n",
       "      <td>133</td>\n",
       "      <td>13.976041</td>\n",
       "      <td>68.709534</td>\n",
       "      <td>1.132482</td>\n",
       "      <td>2601.649400</td>\n",
       "      <td>1</td>\n",
       "      <td>0</td>\n",
       "      <td>0</td>\n",
       "      <td>0</td>\n",
       "      <td>0</td>\n",
       "      <td>...</td>\n",
       "      <td>0</td>\n",
       "      <td>1</td>\n",
       "      <td>0</td>\n",
       "      <td>0</td>\n",
       "      <td>0</td>\n",
       "      <td>0</td>\n",
       "      <td>1</td>\n",
       "      <td>0</td>\n",
       "      <td>0</td>\n",
       "      <td>0</td>\n",
       "    </tr>\n",
       "    <tr>\n",
       "      <th>4</th>\n",
       "      <td>121</td>\n",
       "      <td>13.994693</td>\n",
       "      <td>33.481338</td>\n",
       "      <td>1.327871</td>\n",
       "      <td>1681.116620</td>\n",
       "      <td>0</td>\n",
       "      <td>0</td>\n",
       "      <td>0</td>\n",
       "      <td>1</td>\n",
       "      <td>0</td>\n",
       "      <td>...</td>\n",
       "      <td>0</td>\n",
       "      <td>0</td>\n",
       "      <td>0</td>\n",
       "      <td>0</td>\n",
       "      <td>0</td>\n",
       "      <td>0</td>\n",
       "      <td>0</td>\n",
       "      <td>0</td>\n",
       "      <td>0</td>\n",
       "      <td>1</td>\n",
       "    </tr>\n",
       "    <tr>\n",
       "      <th>...</th>\n",
       "      <td>...</td>\n",
       "      <td>...</td>\n",
       "      <td>...</td>\n",
       "      <td>...</td>\n",
       "      <td>...</td>\n",
       "      <td>...</td>\n",
       "      <td>...</td>\n",
       "      <td>...</td>\n",
       "      <td>...</td>\n",
       "      <td>...</td>\n",
       "      <td>...</td>\n",
       "      <td>...</td>\n",
       "      <td>...</td>\n",
       "      <td>...</td>\n",
       "      <td>...</td>\n",
       "      <td>...</td>\n",
       "      <td>...</td>\n",
       "      <td>...</td>\n",
       "      <td>...</td>\n",
       "      <td>...</td>\n",
       "      <td>...</td>\n",
       "    </tr>\n",
       "    <tr>\n",
       "      <th>185</th>\n",
       "      <td>106</td>\n",
       "      <td>12.759889</td>\n",
       "      <td>14.387495</td>\n",
       "      <td>0.889668</td>\n",
       "      <td>286.918397</td>\n",
       "      <td>0</td>\n",
       "      <td>1</td>\n",
       "      <td>0</td>\n",
       "      <td>0</td>\n",
       "      <td>0</td>\n",
       "      <td>...</td>\n",
       "      <td>0</td>\n",
       "      <td>0</td>\n",
       "      <td>1</td>\n",
       "      <td>0</td>\n",
       "      <td>0</td>\n",
       "      <td>0</td>\n",
       "      <td>1</td>\n",
       "      <td>0</td>\n",
       "      <td>0</td>\n",
       "      <td>0</td>\n",
       "    </tr>\n",
       "    <tr>\n",
       "      <th>186</th>\n",
       "      <td>100</td>\n",
       "      <td>12.194363</td>\n",
       "      <td>23.043437</td>\n",
       "      <td>1.740139</td>\n",
       "      <td>436.161667</td>\n",
       "      <td>0</td>\n",
       "      <td>0</td>\n",
       "      <td>0</td>\n",
       "      <td>1</td>\n",
       "      <td>0</td>\n",
       "      <td>...</td>\n",
       "      <td>0</td>\n",
       "      <td>1</td>\n",
       "      <td>0</td>\n",
       "      <td>0</td>\n",
       "      <td>0</td>\n",
       "      <td>0</td>\n",
       "      <td>0</td>\n",
       "      <td>1</td>\n",
       "      <td>0</td>\n",
       "      <td>0</td>\n",
       "    </tr>\n",
       "    <tr>\n",
       "      <th>187</th>\n",
       "      <td>116</td>\n",
       "      <td>11.006664</td>\n",
       "      <td>33.645208</td>\n",
       "      <td>1.561743</td>\n",
       "      <td>1155.563326</td>\n",
       "      <td>0</td>\n",
       "      <td>0</td>\n",
       "      <td>0</td>\n",
       "      <td>1</td>\n",
       "      <td>0</td>\n",
       "      <td>...</td>\n",
       "      <td>0</td>\n",
       "      <td>0</td>\n",
       "      <td>0</td>\n",
       "      <td>0</td>\n",
       "      <td>0</td>\n",
       "      <td>0</td>\n",
       "      <td>0</td>\n",
       "      <td>1</td>\n",
       "      <td>0</td>\n",
       "      <td>0</td>\n",
       "    </tr>\n",
       "    <tr>\n",
       "      <th>188</th>\n",
       "      <td>104</td>\n",
       "      <td>10.778888</td>\n",
       "      <td>27.928480</td>\n",
       "      <td>1.795978</td>\n",
       "      <td>1368.275557</td>\n",
       "      <td>0</td>\n",
       "      <td>0</td>\n",
       "      <td>0</td>\n",
       "      <td>1</td>\n",
       "      <td>0</td>\n",
       "      <td>...</td>\n",
       "      <td>0</td>\n",
       "      <td>0</td>\n",
       "      <td>0</td>\n",
       "      <td>0</td>\n",
       "      <td>0</td>\n",
       "      <td>0</td>\n",
       "      <td>0</td>\n",
       "      <td>1</td>\n",
       "      <td>0</td>\n",
       "      <td>0</td>\n",
       "    </tr>\n",
       "    <tr>\n",
       "      <th>189</th>\n",
       "      <td>108</td>\n",
       "      <td>8.983176</td>\n",
       "      <td>11.916375</td>\n",
       "      <td>2.091052</td>\n",
       "      <td>723.705914</td>\n",
       "      <td>1</td>\n",
       "      <td>0</td>\n",
       "      <td>0</td>\n",
       "      <td>0</td>\n",
       "      <td>0</td>\n",
       "      <td>...</td>\n",
       "      <td>0</td>\n",
       "      <td>0</td>\n",
       "      <td>0</td>\n",
       "      <td>0</td>\n",
       "      <td>0</td>\n",
       "      <td>0</td>\n",
       "      <td>0</td>\n",
       "      <td>1</td>\n",
       "      <td>0</td>\n",
       "      <td>0</td>\n",
       "    </tr>\n",
       "  </tbody>\n",
       "</table>\n",
       "<p>190 rows × 52 columns</p>\n",
       "</div>"
      ],
      "text/plain": [
       "     running_time  log_youtube_view_mean  sqrt_comment_count  \\\n",
       "0             137              12.854272           56.462377   \n",
       "1             139              13.229750           98.903994   \n",
       "2             125              13.543377           13.747727   \n",
       "3             133              13.976041           68.709534   \n",
       "4             121              13.994693           33.481338   \n",
       "..            ...                    ...                 ...   \n",
       "185           106              12.759889           14.387495   \n",
       "186           100              12.194363           23.043437   \n",
       "187           116              11.006664           33.645208   \n",
       "188           104              10.778888           27.928480   \n",
       "189           108               8.983176           11.916375   \n",
       "\n",
       "     sqrt_abs_mean_score  sqrt_actor_power  nation_미국  nation_영국  nation_일본  \\\n",
       "0               1.757064       3087.095601          0          0          0   \n",
       "1               1.228373       2605.491412          0          0          0   \n",
       "2               1.201012       2227.585689          0          0          0   \n",
       "3               1.132482       2601.649400          1          0          0   \n",
       "4               1.327871       1681.116620          0          0          0   \n",
       "..                   ...               ...        ...        ...        ...   \n",
       "185             0.889668        286.918397          0          1          0   \n",
       "186             1.740139        436.161667          0          0          0   \n",
       "187             1.561743       1155.563326          0          0          0   \n",
       "188             1.795978       1368.275557          0          0          0   \n",
       "189             2.091052        723.705914          1          0          0   \n",
       "\n",
       "     nation_한국  distribution_company_(주)넥스트엔터테인먼트월드(NEW)  ...  genre_애니메이션  \\\n",
       "0            1                                         0  ...            0   \n",
       "1            1                                         0  ...            0   \n",
       "2            1                                         0  ...            0   \n",
       "3            0                                         0  ...            0   \n",
       "4            1                                         0  ...            0   \n",
       "..         ...                                       ...  ...          ...   \n",
       "185          0                                         0  ...            0   \n",
       "186          1                                         0  ...            0   \n",
       "187          1                                         0  ...            0   \n",
       "188          1                                         0  ...            0   \n",
       "189          0                                         0  ...            0   \n",
       "\n",
       "     genre_액션  genre_어드벤처  genre_전쟁  genre_코미디  genre_판타지  age_12세이상관람가  \\\n",
       "0           0           0         0          0          0             0   \n",
       "1           0           0         0          0          1             1   \n",
       "2           1           0         0          0          0             0   \n",
       "3           1           0         0          0          0             1   \n",
       "4           0           0         0          0          0             0   \n",
       "..        ...         ...       ...        ...        ...           ...   \n",
       "185         0           1         0          0          0             1   \n",
       "186         1           0         0          0          0             0   \n",
       "187         0           0         0          0          0             0   \n",
       "188         0           0         0          0          0             0   \n",
       "189         0           0         0          0          0             0   \n",
       "\n",
       "     age_15세이상관람가  age_전체관람가  age_청소년관람불가  \n",
       "0               1          0            0  \n",
       "1               0          0            0  \n",
       "2               1          0            0  \n",
       "3               0          0            0  \n",
       "4               0          0            1  \n",
       "..            ...        ...          ...  \n",
       "185             0          0            0  \n",
       "186             1          0            0  \n",
       "187             1          0            0  \n",
       "188             1          0            0  \n",
       "189             1          0            0  \n",
       "\n",
       "[190 rows x 52 columns]"
      ]
     },
     "execution_count": 8,
     "metadata": {},
     "output_type": "execute_result"
    }
   ],
   "source": [
    "x"
   ]
  },
  {
   "cell_type": "code",
   "execution_count": 9,
   "metadata": {
    "ExecuteTime": {
     "end_time": "2021-12-03T06:19:47.207493Z",
     "start_time": "2021-12-03T06:19:47.196225Z"
    }
   },
   "outputs": [
    {
     "data": {
      "text/plain": [
       "0      16.315825\n",
       "1      17.176684\n",
       "2      15.871890\n",
       "3      15.797708\n",
       "4      15.744106\n",
       "         ...    \n",
       "185    12.287911\n",
       "186    12.156026\n",
       "187    12.136974\n",
       "188    12.132437\n",
       "189    12.111905\n",
       "Name: audience, Length: 190, dtype: float64"
      ]
     },
     "execution_count": 9,
     "metadata": {},
     "output_type": "execute_result"
    }
   ],
   "source": [
    "y"
   ]
  },
  {
   "cell_type": "markdown",
   "metadata": {},
   "source": [
    "# Model Selection\n",
    "\n",
    "> 결과\n",
    "- ElasticNet Final Result: MSE:0.43, RMSE:0.66\n",
    "- RandomForest Final Result: MSE:0.42 RMSE:0.65\n",
    "- Lightgbm Final Result: MSE:0.47, RMSE:0.69\n",
    "- xgboost Final Result: MSE:0.45, RMSE:0.67\n"
   ]
  },
  {
   "cell_type": "code",
   "execution_count": 10,
   "metadata": {
    "ExecuteTime": {
     "end_time": "2021-12-03T06:19:56.463779Z",
     "start_time": "2021-12-03T06:19:56.446143Z"
    }
   },
   "outputs": [],
   "source": [
    "# Test set, Train set 분리\n",
    "\n",
    "xtrain, xtest, ytrain, ytest = train_test_split(x, y, test_size=0.2, random_state=0)"
   ]
  },
  {
   "cell_type": "markdown",
   "metadata": {},
   "source": [
    "## ElasticNet"
   ]
  },
  {
   "cell_type": "code",
   "execution_count": null,
   "metadata": {
    "ExecuteTime": {
     "end_time": "2021-11-30T20:05:20.931236Z",
     "start_time": "2021-11-30T20:05:20.854098Z"
    }
   },
   "outputs": [],
   "source": [
    "alphas = [0.0001, 0.001, 0.01, 0.1, 0.3, 0.5, 0.7, 1]\n",
    "\n",
    "# R2는 제일 높고 (제일 설명력이 좋고), RMSE는 제일 낮은 값 선택\n",
    "for a in alphas:\n",
    "    model = ElasticNet(alpha=a).fit(x,y)\n",
    "    score = model.score(x, y)\n",
    "    pred_y = model.predict(x)\n",
    "    mse = mean_squared_error(y, pred_y)\n",
    "    print(\"Alpha:{0:.4f}, R2:{1:.2f}, MSE:{2:.2f}, RMSE:{3:.2f}\".format(a, score, mse, np.sqrt(mse)))"
   ]
  },
  {
   "cell_type": "code",
   "execution_count": null,
   "metadata": {
    "ExecuteTime": {
     "end_time": "2021-11-30T20:05:23.805643Z",
     "start_time": "2021-11-30T20:05:23.751649Z"
    }
   },
   "outputs": [],
   "source": [
    "elastic_cv= ElasticNetCV(alphas=alphas, cv=5) # 교차검증 5번\n",
    "model = elastic_cv.fit(x, y)\n",
    "print(model.alpha_)"
   ]
  },
  {
   "cell_type": "code",
   "execution_count": null,
   "metadata": {
    "ExecuteTime": {
     "end_time": "2021-11-30T20:05:24.588645Z",
     "start_time": "2021-11-30T20:05:24.575614Z"
    }
   },
   "outputs": [],
   "source": [
    "elastic = ElasticNet(alpha=0.1).fit(xtrain, ytrain)\n",
    "ypred_elastic = elastic.predict(xtest)\n",
    "\n",
    "# calculate R2, MSE, RMSE from test data\n",
    "score_elastic = elastic.score(xtest, ytest)\n",
    "mse_elastic = mean_squared_error(ytest, ypred_elastic)\n",
    "print(\"ElasticNet Final Result: R2:{0:.3f}, MSE:{1:.2f}, RMSE:{2:.2f}\".format(score_elastic, mse_elastic, np.sqrt(mse_elastic)))"
   ]
  },
  {
   "cell_type": "markdown",
   "metadata": {},
   "source": [
    "## RandomForest"
   ]
  },
  {
   "cell_type": "code",
   "execution_count": null,
   "metadata": {
    "ExecuteTime": {
     "end_time": "2021-11-30T19:39:23.786571Z",
     "start_time": "2021-11-30T19:39:23.690990Z"
    }
   },
   "outputs": [],
   "source": [
    "RandomForestRegressor?"
   ]
  },
  {
   "cell_type": "code",
   "execution_count": null,
   "metadata": {
    "ExecuteTime": {
     "end_time": "2021-12-03T06:15:58.408570Z",
     "start_time": "2021-12-03T06:15:56.570658Z"
    }
   },
   "outputs": [],
   "source": [
    "nTreeList = range(50, 500, 10)\n",
    "nTree = []\n",
    "MSE = []\n",
    "\n",
    "for iTrees in nTreeList:\n",
    "    randomforest = RandomForestRegressor(n_estimators=iTrees, random_state=3)\n",
    "    randomforest.fit(xtrain, ytrain)  \n",
    "    ypred = randomforest.predict(xtest)\n",
    "    nTree.append(iTrees)\n",
    "    MSE.append(mean_squared_error(ytest, ypred))\n",
    "    \n",
    "# 결정트리 갯수 무작정 늘리면 성능 좋아지는데 대비 시간이 걸릴 수 있음\n",
    "index = MSE.index(min(MSE))\n",
    "print(index)\n",
    "print(nTree[index])"
   ]
  },
  {
   "cell_type": "code",
   "execution_count": null,
   "metadata": {
    "ExecuteTime": {
     "end_time": "2021-11-30T20:06:15.652323Z",
     "start_time": "2021-11-30T20:06:14.839307Z"
    }
   },
   "outputs": [],
   "source": [
    "randomforest = RandomForestRegressor(n_estimators=490, random_state=3)\n",
    "randomforest.fit(xtrain, ytrain)\n",
    "ypred_randomforest= randomforest.predict(xtest)\n",
    "\n",
    "# calculate RMSE from test data\n",
    "mse_randomforest = mean_squared_error(ytest, ypred_randomforest)\n",
    "print(\"RandomForest Final Result: MSE:{0:.2f} RMSE:{1:.2f}\".format(mse_randomforest, np.sqrt(mse_randomforest)))\n",
    "featureImportance = randomforest.feature_importances_"
   ]
  },
  {
   "cell_type": "code",
   "execution_count": null,
   "metadata": {
    "ExecuteTime": {
     "end_time": "2021-11-30T19:33:31.726639Z",
     "start_time": "2021-11-30T19:33:31.063152Z"
    }
   },
   "outputs": [],
   "source": [
    "# #가장 높은 중요도 기준으로 스케일링\n",
    "# featureImportance = featureImportance/featureImportance.max()\n",
    "# sorted_idx = np.argsort(featureImportance)\n",
    "# barPos = np.arange(sorted_idx.shape[0])+.5\n",
    "# plt.barh(barPos, featureImportance[sorted_idx], align='center')\n",
    "# plt.yticks(barPos, x.columns[sorted_idx])\n",
    "# plt.xlabel('Variable Importance')\n",
    "# plt.show()"
   ]
  },
  {
   "cell_type": "markdown",
   "metadata": {
    "ExecuteTime": {
     "end_time": "2021-11-30T19:09:21.485849Z",
     "start_time": "2021-11-30T19:09:21.482852Z"
    }
   },
   "source": [
    "## lightgbm"
   ]
  },
  {
   "cell_type": "code",
   "execution_count": null,
   "metadata": {
    "ExecuteTime": {
     "end_time": "2021-11-30T20:06:29.017310Z",
     "start_time": "2021-11-30T20:06:29.013307Z"
    }
   },
   "outputs": [],
   "source": [
    "train_ds = lgb.Dataset(xtrain, label = ytrain) \n",
    "test_ds = lgb.Dataset(xtest, label = ytest) \n",
    "\n",
    "params = {'learning_rate': 0.01, \n",
    "          'max_depth': 16, \n",
    "          'boosting': 'gbdt', \n",
    "          'objective': 'regression', \n",
    "          'metric': 'mse', \n",
    "          'is_training_metric': True, \n",
    "          'num_leaves': 144, \n",
    "          'feature_fraction': 0.9, \n",
    "          'bagging_fraction': 0.7, \n",
    "          'bagging_freq': 5, \n",
    "          'seed':3}"
   ]
  },
  {
   "cell_type": "code",
   "execution_count": null,
   "metadata": {
    "ExecuteTime": {
     "end_time": "2021-11-30T20:06:29.834308Z",
     "start_time": "2021-11-30T20:06:29.642312Z"
    }
   },
   "outputs": [],
   "source": [
    "lgb_model = lgb.train(params, train_ds, 1000, test_ds, verbose_eval=100, early_stopping_rounds=100)"
   ]
  },
  {
   "cell_type": "code",
   "execution_count": null,
   "metadata": {
    "ExecuteTime": {
     "end_time": "2021-11-30T20:06:32.496306Z",
     "start_time": "2021-11-30T20:06:32.482311Z"
    }
   },
   "outputs": [],
   "source": [
    "predict_train = lgb_model.predict(xtrain)\n",
    "ypred_lgb = lgb_model.predict(xtest)"
   ]
  },
  {
   "cell_type": "code",
   "execution_count": null,
   "metadata": {
    "ExecuteTime": {
     "end_time": "2021-11-30T20:06:33.096308Z",
     "start_time": "2021-11-30T20:06:33.091308Z"
    }
   },
   "outputs": [],
   "source": [
    "# calculate MSE, RMSE from test data\n",
    "mse_lgb = mean_squared_error(ytest, ypred_lgb )\n",
    "print(\"Lightgbm Final Result: MSE:{0:.2f}, RMSE:{1:.2f}\".format(mse_lgb, np.sqrt(mse_lgb)))"
   ]
  },
  {
   "cell_type": "code",
   "execution_count": null,
   "metadata": {
    "ExecuteTime": {
     "end_time": "2021-11-30T20:06:33.814311Z",
     "start_time": "2021-11-30T20:06:33.805310Z"
    }
   },
   "outputs": [],
   "source": [
    "final_result = pd.concat([ytest.reset_index(drop=True), pd.DataFrame(ypred_lgb )], axis = 1)\n",
    "final_result.columns = ['ytest','ypred']"
   ]
  },
  {
   "cell_type": "code",
   "execution_count": null,
   "metadata": {
    "ExecuteTime": {
     "end_time": "2021-11-30T20:06:40.156330Z",
     "start_time": "2021-11-30T20:06:39.943310Z"
    }
   },
   "outputs": [],
   "source": [
    "# Fit 결과 확인\n",
    "sns.regplot(x = 'ytest', y = 'ypred', data = final_result)"
   ]
  },
  {
   "cell_type": "markdown",
   "metadata": {},
   "source": [
    "## xgboost"
   ]
  },
  {
   "cell_type": "code",
   "execution_count": null,
   "metadata": {
    "ExecuteTime": {
     "end_time": "2021-11-30T20:06:54.218305Z",
     "start_time": "2021-11-30T20:06:54.123308Z"
    }
   },
   "outputs": [],
   "source": [
    "xgb_model = xgb.XGBRegressor(n_estimators=100, learning_rate=0.08, gamma=0, subsample=0.75, colsample_bytree=1, max_depth=7)\n",
    "\n",
    "xgb_model.fit(xtrain,ytrain)\n",
    "ypred_xgb = xgb_model.predict(xtest)"
   ]
  },
  {
   "cell_type": "code",
   "execution_count": null,
   "metadata": {
    "ExecuteTime": {
     "end_time": "2021-11-30T20:06:56.975312Z",
     "start_time": "2021-11-30T20:06:56.966347Z"
    }
   },
   "outputs": [],
   "source": [
    "# calculate MSE, RMSE from test data\n",
    "mse_xgb = mean_squared_error(ytest, ypred_xgb)\n",
    "print(\"xgboost Final Result: MSE:{0:.2f}, RMSE:{1:.2f}\".format(mse_xgb, np.sqrt(mse_xgb)))"
   ]
  },
  {
   "cell_type": "code",
   "execution_count": null,
   "metadata": {
    "ExecuteTime": {
     "end_time": "2021-11-30T20:11:46.883350Z",
     "start_time": "2021-11-30T20:11:46.669350Z"
    },
    "scrolled": false
   },
   "outputs": [],
   "source": [
    "plt.figure(figsize=(10,10))\n",
    "plt.rcParams['font.family'] ='Malgun Gothic'\n",
    "xgb.plot_importance(xgb_model, max_num_features= 10)\n",
    "plt.show()"
   ]
  },
  {
   "cell_type": "markdown",
   "metadata": {
    "ExecuteTime": {
     "end_time": "2021-12-03T06:09:42.332534Z",
     "start_time": "2021-12-03T06:09:42.323534Z"
    }
   },
   "source": [
    "# Random Forest\n",
    "- Random Forest로 모델 결정하였고, 성능 향상 시키기 위한 작업\n",
    "- 하이퍼 파라미터 조정"
   ]
  },
  {
   "cell_type": "markdown",
   "metadata": {},
   "source": [
    "## Basic Train"
   ]
  },
  {
   "cell_type": "code",
   "execution_count": 22,
   "metadata": {
    "ExecuteTime": {
     "end_time": "2021-12-03T06:36:24.392949Z",
     "start_time": "2021-12-03T06:35:04.744250Z"
    }
   },
   "outputs": [
    {
     "name": "stdout",
     "output_type": "stream",
     "text": [
      "44\n",
      "490\n"
     ]
    }
   ],
   "source": [
    "nTreeList = range(50, 500, 10)\n",
    "nTree = []\n",
    "MSE = []\n",
    "\n",
    "for iTrees in nTreeList:\n",
    "    randomforest = RandomForestRegressor(n_estimators=iTrees, random_state=3)\n",
    "    randomforest.fit(xtrain, ytrain)  \n",
    "    ypred = randomforest.predict(xtest)\n",
    "    nTree.append(iTrees)\n",
    "    MSE.append(mean_squared_error(ytest, ypred))\n",
    "    \n",
    "# 결정트리 갯수 무작정 늘리면 성능 좋아지는데 대비 시간이 걸릴 수 있음\n",
    "index = MSE.index(min(MSE))\n",
    "print(index)\n",
    "print(nTree[index])"
   ]
  },
  {
   "cell_type": "code",
   "execution_count": 36,
   "metadata": {
    "ExecuteTime": {
     "end_time": "2021-12-03T06:45:53.546117Z",
     "start_time": "2021-12-03T06:45:53.526002Z"
    }
   },
   "outputs": [
    {
     "name": "stdout",
     "output_type": "stream",
     "text": [
      "{'bootstrap': True,\n",
      " 'ccp_alpha': 0.0,\n",
      " 'criterion': 'mse',\n",
      " 'max_depth': None,\n",
      " 'max_features': 'auto',\n",
      " 'max_leaf_nodes': None,\n",
      " 'max_samples': None,\n",
      " 'min_impurity_decrease': 0.0,\n",
      " 'min_impurity_split': None,\n",
      " 'min_samples_leaf': 1,\n",
      " 'min_samples_split': 2,\n",
      " 'min_weight_fraction_leaf': 0.0,\n",
      " 'n_estimators': 490,\n",
      " 'n_jobs': None,\n",
      " 'oob_score': False,\n",
      " 'random_state': 3,\n",
      " 'verbose': 0,\n",
      " 'warm_start': False}\n"
     ]
    }
   ],
   "source": [
    "pprint(randomforest.get_params())"
   ]
  },
  {
   "cell_type": "code",
   "execution_count": 45,
   "metadata": {
    "ExecuteTime": {
     "end_time": "2021-12-03T07:20:22.972263Z",
     "start_time": "2021-12-03T07:20:19.925761Z"
    }
   },
   "outputs": [
    {
     "name": "stdout",
     "output_type": "stream",
     "text": [
      "RandomForest Final Result: MSE:0.42 RMSE:0.65\n"
     ]
    }
   ],
   "source": [
    "randomforest = RandomForestRegressor(n_estimators=490, random_state=3)\n",
    "randomforest.fit(xtrain, ytrain)\n",
    "ypred_randomforest= randomforest.predict(xtest)\n",
    "\n",
    "# calculate RMSE from test data\n",
    "mse_randomforest = mean_squared_error(ytest, ypred_randomforest)\n",
    "print(\"RandomForest Final Result: MSE:{0:.2f} RMSE:{1:.2f}\".format(mse_randomforest, np.sqrt(mse_randomforest)))\n",
    "featureImportance = randomforest.feature_importances_"
   ]
  },
  {
   "cell_type": "code",
   "execution_count": 46,
   "metadata": {
    "ExecuteTime": {
     "end_time": "2021-12-03T07:22:09.403557Z",
     "start_time": "2021-12-03T07:22:09.393012Z"
    }
   },
   "outputs": [
    {
     "data": {
      "text/plain": [
       "array([6.78975425e-02, 1.79905063e-01, 8.31829201e-02, 3.63806333e-02,\n",
       "       5.15751198e-01, 1.96677813e-03, 0.00000000e+00, 2.47492231e-05,\n",
       "       2.23682305e-03, 2.12428243e-03, 1.52587609e-03, 2.81377667e-03,\n",
       "       2.18569301e-05, 1.15970550e-03, 3.35855373e-05, 1.98044256e-03,\n",
       "       1.06235809e-02, 0.00000000e+00, 2.41059195e-04, 6.81396829e-05,\n",
       "       6.56329959e-05, 3.60011373e-04, 6.14629328e-03, 3.16504893e-03,\n",
       "       2.25173995e-03, 4.63864121e-03, 4.63969067e-03, 5.14409384e-06,\n",
       "       5.14897251e-03, 5.21629918e-03, 1.96076760e-03, 9.25594829e-04,\n",
       "       7.93927979e-04, 5.31316549e-04, 0.00000000e+00, 3.91922077e-03,\n",
       "       4.88859772e-04, 4.30929975e-04, 1.27223259e-02, 2.82307458e-03,\n",
       "       4.61218076e-04, 1.45845843e-03, 3.36767087e-03, 5.31199932e-03,\n",
       "       8.93335374e-04, 6.55370933e-05, 1.94311515e-03, 9.00533388e-04,\n",
       "       4.71219329e-03, 8.60993271e-03, 2.46718124e-03, 5.63731997e-03])"
      ]
     },
     "execution_count": 46,
     "metadata": {},
     "output_type": "execute_result"
    }
   ],
   "source": [
    "featureImportance"
   ]
  },
  {
   "cell_type": "code",
   "execution_count": 66,
   "metadata": {
    "ExecuteTime": {
     "end_time": "2021-12-03T07:30:03.908974Z",
     "start_time": "2021-12-03T07:30:03.899336Z"
    }
   },
   "outputs": [
    {
     "data": {
      "text/plain": [
       "array([ 4,  1,  2,  0,  3, 38, 16, 49, 22, 51, 43, 29, 28, 48, 26, 25, 35,\n",
       "       42, 23, 39, 11, 50, 24,  8,  9, 15,  5, 30, 46, 10, 41, 13, 31, 47,\n",
       "       44, 32, 33, 36, 40, 37, 21, 18, 19, 20, 45, 14,  7, 12, 27,  6, 34,\n",
       "       17], dtype=int64)"
      ]
     },
     "execution_count": 66,
     "metadata": {},
     "output_type": "execute_result"
    }
   ],
   "source": [
    "indices = np.argsort(featureImportance)[::-1]\n",
    "indices"
   ]
  },
  {
   "cell_type": "code",
   "execution_count": 67,
   "metadata": {
    "ExecuteTime": {
     "end_time": "2021-12-03T07:30:04.431441Z",
     "start_time": "2021-12-03T07:30:04.422469Z"
    }
   },
   "outputs": [
    {
     "data": {
      "text/plain": [
       "52"
      ]
     },
     "execution_count": 67,
     "metadata": {},
     "output_type": "execute_result"
    }
   ],
   "source": [
    "x.shape[1]"
   ]
  },
  {
   "cell_type": "code",
   "execution_count": 70,
   "metadata": {
    "ExecuteTime": {
     "end_time": "2021-12-03T07:31:45.139898Z",
     "start_time": "2021-12-03T07:31:45.129891Z"
    },
    "scrolled": true
   },
   "outputs": [
    {
     "name": "stdout",
     "output_type": "stream",
     "text": [
      "Feature ranking\n",
      "1. feature sqrt_actor_power (0.516)\n",
      "2. feature log_youtube_view_mean (0.180)\n",
      "3. feature sqrt_comment_count (0.083)\n",
      "4. feature running_time (0.068)\n",
      "5. feature sqrt_abs_mean_score (0.036)\n",
      "6. feature genre_미스터리 (0.013)\n",
      "7. feature distribution_company_(주)에이스메이커무비웍스 (0.011)\n",
      "8. feature age_15세이상관람가 (0.009)\n",
      "9. feature distribution_company_CGV아트하우스 (0.006)\n",
      "10. feature age_청소년관람불가 (0.006)\n"
     ]
    }
   ],
   "source": [
    "# print the feature ranking\n",
    "print(\"Feature ranking\")\n",
    "\n",
    "# for f in range(x.shape[1]):\n",
    "# 상위 10개만\n",
    "for f in range(10):\n",
    "    print(\"{}. feature {} ({:.3f})\".format(f+1, x.columns[indices][f], featureImportance[indices[f]]))"
   ]
  },
  {
   "cell_type": "code",
   "execution_count": 79,
   "metadata": {
    "ExecuteTime": {
     "end_time": "2021-12-03T07:38:21.709722Z",
     "start_time": "2021-12-03T07:38:21.314747Z"
    }
   },
   "outputs": [
    {
     "data": {
      "image/png": "[encoded data removed]",
      "text/plain": [
       "<Figure size 720x720 with 1 Axes>"
      ]
     },
     "metadata": {
      "needs_background": "light"
     },
     "output_type": "display_data"
    }
   ],
   "source": [
    "# Plot the imprity-based feature importances of the forest\n",
    "plt.figure(figsize=(10,10))\n",
    "plt.title(\"Feature impotances\")\n",
    "plt.barh(range(x.shape[1])[:10], featureImportance[indices][:10], color = 'r')\n",
    "plt.yticks(range(x.shape[1])[:10], x.columns[indices][:10])\n",
    "plt.ylim([-1, 10])\n",
    "plt.show()"
   ]
  },
  {
   "cell_type": "code",
   "execution_count": null,
   "metadata": {},
   "outputs": [],
   "source": [
    "# #가장 높은 중요도 기준으로 스케일링\n",
    "# featureImportance = featureImportance/featureImportance.max()\n",
    "# sorted_idx = np.argsort(featureImportance)\n",
    "# barPos = np.arange(sorted_idx.shape[0])+.5\n",
    "# plt.barh(barPos, featureImportance[sorted_idx], align='center')\n",
    "# plt.yticks(barPos, x.columns[sorted_idx])\n",
    "# plt.xlabel('Variable Importance')\n",
    "# plt.show()"
   ]
  },
  {
   "cell_type": "markdown",
   "metadata": {},
   "source": [
    "## hyperparameters\n",
    "\n",
    "> n_estimators\t***\n",
    "- 결정트리의 갯수를 지정\n",
    "- Default = 10\n",
    "- 무작정 트리 갯수를 늘리면 성능 좋아지는 것 대비 시간이 걸릴 수 있음\n",
    "  \n",
    "> max_features\t***\n",
    "- 최적의 분할을 위해 고려할 최대 feature 개수\n",
    "- Default = 'auto' (결정트리에서는 default가 none이었음)\n",
    "- int형으로 지정 →피처 갯수 / float형으로 지정 →비중\n",
    "- sqrt 또는 auto : 전체 피처 중 √(피처개수) 만큼 선정\n",
    "- log : 전체 피처 중 log2(전체 피처 개수) 만큼 선정\n",
    "\n",
    "> min_samples_split\t\n",
    "- 노드를 분할하기 위한 최소한의 샘플 데이터수 → 과적합을 제어하는데 사용\n",
    "- Default = 2 → 작게 설정할 수록 분할 노드가 많아져 과적합 가능성 증가\n",
    "- 2보다 적어지면 더이상 안나눔\n",
    "\n",
    "> min_samples_leaf\t\n",
    "- 리프노드가 되기 위해 필요한 최소한의 샘플 데이터수\n",
    "- min_samples_split과 함께 과적합 제어 용도\n",
    "- 불균형 데이터의 경우 특정 클래스의 데이터가 극도로 작을 수 있으므로 작게 설정 필요\n",
    "\n",
    "\n",
    "\n",
    "> max_depth\t- 트리의 최대 깊이\n",
    "- default = None → 완벽하게 클래스 값이 결정될 때 까지 분할 또는 데이터 개수 min_samples_split보다 작아질 때까지 분할\n",
    "- 깊이가 깊어지면 과적합될 수 있으므로 적절히 제어 필요\n",
    "\n",
    "> max_leaf_nodes\t\n",
    "- 리프노드의 최대 개수\n",
    "\n",
    "> bootstrap\n",
    "- method for sampling data points (with or without replacement)"
   ]
  },
  {
   "cell_type": "markdown",
   "metadata": {},
   "source": [
    "### cross validation\n",
    "- K-Fold CV\n",
    "- Grid Search CV\n",
    "\n",
    "> link\n",
    "- https://towardsdatascience.com/hyperparameter-tuning-the-random-forest-in-python-using-scikit-learn-28d2aa77dd74"
   ]
  },
  {
   "cell_type": "markdown",
   "metadata": {},
   "source": [
    "#### RandomizedSearchCV"
   ]
  },
  {
   "cell_type": "code",
   "execution_count": 42,
   "metadata": {
    "ExecuteTime": {
     "end_time": "2021-12-03T07:14:37.198814Z",
     "start_time": "2021-12-03T07:14:37.176812Z"
    }
   },
   "outputs": [
    {
     "name": "stdout",
     "output_type": "stream",
     "text": [
      "{'bootstrap': [True, False],\n",
      " 'max_depth': [10, 20, 30, 40, 50, 60, 70, 80, 90, 100, 110, None],\n",
      " 'max_features': ['auto', 'sqrt'],\n",
      " 'min_samples_leaf': [1, 2, 4],\n",
      " 'min_samples_split': [2, 5, 10],\n",
      " 'n_estimators': [100,\n",
      "                  200,\n",
      "                  300,\n",
      "                  400,\n",
      "                  500,\n",
      "                  600,\n",
      "                  700,\n",
      "                  800,\n",
      "                  900,\n",
      "                  1000,\n",
      "                  1100,\n",
      "                  1200]}\n"
     ]
    }
   ],
   "source": [
    "from sklearn.model_selection import RandomizedSearchCV\n",
    "\n",
    "# Number of trees in random forest\n",
    "n_estimators = [int(x) for x in np.linspace(start = 100, stop = 1200, num = 12)]\n",
    "# Number of features to consider at every split\n",
    "max_features = ['auto', 'sqrt']\n",
    "# Maximum number of levels in tree\n",
    "max_depth = [int(x) for x in np.linspace(10, 110, num = 11)]\n",
    "max_depth.append(None)\n",
    "# Minimum number of samples required to split a node\n",
    "min_samples_split = [2, 5, 10]\n",
    "# Minimum number of samples required at each leaf node\n",
    "min_samples_leaf = [1, 2, 4]\n",
    "# Method of selecting samples for training each tree\n",
    "bootstrap = [True, False]\n",
    "# Create the random grid\n",
    "random_grid = {'n_estimators': n_estimators,\n",
    "               'max_features': max_features,\n",
    "               'max_depth': max_depth,\n",
    "               'min_samples_split': min_samples_split,\n",
    "               'min_samples_leaf': min_samples_leaf,\n",
    "               'bootstrap': bootstrap}\n",
    "\n",
    "pprint(random_grid)"
   ]
  },
  {
   "cell_type": "code",
   "execution_count": 44,
   "metadata": {
    "ExecuteTime": {
     "end_time": "2021-12-03T07:17:30.027762Z",
     "start_time": "2021-12-03T07:14:41.475417Z"
    }
   },
   "outputs": [
    {
     "name": "stdout",
     "output_type": "stream",
     "text": [
      "Fitting 3 folds for each of 100 candidates, totalling 300 fits\n"
     ]
    },
    {
     "name": "stderr",
     "output_type": "stream",
     "text": [
      "[Parallel(n_jobs=-1)]: Using backend LokyBackend with 8 concurrent workers.\n",
      "[Parallel(n_jobs=-1)]: Done  25 tasks      | elapsed:   18.6s\n",
      "[Parallel(n_jobs=-1)]: Done 146 tasks      | elapsed:  1.2min\n",
      "[Parallel(n_jobs=-1)]: Done 300 out of 300 | elapsed:  2.7min finished\n"
     ]
    },
    {
     "data": {
      "text/plain": [
       "RandomizedSearchCV(cv=3, estimator=RandomForestRegressor(random_state=3),\n",
       "                   n_iter=100, n_jobs=-1,\n",
       "                   param_distributions={'bootstrap': [True, False],\n",
       "                                        'max_depth': [10, 20, 30, 40, 50, 60,\n",
       "                                                      70, 80, 90, 100, 110,\n",
       "                                                      None],\n",
       "                                        'max_features': ['auto', 'sqrt'],\n",
       "                                        'min_samples_leaf': [1, 2, 4],\n",
       "                                        'min_samples_split': [2, 5, 10],\n",
       "                                        'n_estimators': [100, 200, 300, 400,\n",
       "                                                         500, 600, 700, 800,\n",
       "                                                         900, 1000, 1100,\n",
       "                                                         1200]},\n",
       "                   random_state=42, verbose=2)"
      ]
     },
     "execution_count": 44,
     "metadata": {},
     "output_type": "execute_result"
    }
   ],
   "source": [
    "# Use the random grid to search for best hyperparameters\n",
    "# First create the base model to tune\n",
    "# rf = RandomForestRegressor()\n",
    "# Random search of parameters, using 3 fold cross validation, \n",
    "# search across 100 different combinations, and use all available cores\n",
    "randomforest = RandomForestRegressor(random_state=3)\n",
    "\n",
    "rf_random = RandomizedSearchCV(estimator = randomforest,\n",
    "                               param_distributions = random_grid,\n",
    "                               n_iter = 100,\n",
    "                               cv = 3,\n",
    "                               verbose=2,\n",
    "                               random_state=42,\n",
    "                               n_jobs = -1)\n",
    "\"\"\"\n",
    "n_iter 가 많으면 좋지만 그만큼 시간도 오래걸림\n",
    "\"\"\"\n",
    "\n",
    "# Fit the random search model\n",
    "rf_random.fit(xtrain, ytrain)"
   ]
  },
  {
   "cell_type": "code",
   "execution_count": 17,
   "metadata": {
    "ExecuteTime": {
     "end_time": "2021-12-03T06:32:49.758531Z",
     "start_time": "2021-12-03T06:32:49.749355Z"
    }
   },
   "outputs": [
    {
     "data": {
      "text/plain": [
       "{'n_estimators': 1600,\n",
       " 'min_samples_split': 10,\n",
       " 'min_samples_leaf': 2,\n",
       " 'max_features': 'auto',\n",
       " 'max_depth': None,\n",
       " 'bootstrap': True}"
      ]
     },
     "execution_count": 17,
     "metadata": {},
     "output_type": "execute_result"
    }
   ],
   "source": [
    "# best match 출력\n",
    "\n",
    "rf_random.best_params_"
   ]
  },
  {
   "cell_type": "code",
   "execution_count": 24,
   "metadata": {
    "ExecuteTime": {
     "end_time": "2021-12-03T06:36:38.014412Z",
     "start_time": "2021-12-03T06:36:38.005516Z"
    }
   },
   "outputs": [],
   "source": [
    "def evaluate(model, test_features, test_labels):\n",
    "    predictions = model.predict(test_features)\n",
    "    errors = abs(predictions - test_labels)\n",
    "    mape = 100 * np.mean(errors / test_labels)\n",
    "    accuracy = 100 - mape\n",
    "    print('Model Performance')\n",
    "    print('Average Error: {:0.4f} degrees.'.format(np.mean(errors)))\n",
    "    print('Accuracy = {:0.2f}%.'.format(accuracy),'\\n')\n",
    "    \n",
    "    return accuracy"
   ]
  },
  {
   "cell_type": "code",
   "execution_count": 31,
   "metadata": {
    "ExecuteTime": {
     "end_time": "2021-12-03T06:43:17.103777Z",
     "start_time": "2021-12-03T06:43:16.724847Z"
    }
   },
   "outputs": [
    {
     "name": "stdout",
     "output_type": "stream",
     "text": [
      "0.4157193994118836 0.6447630567982967 0.5601153483328973\n"
     ]
    }
   ],
   "source": [
    "# Random CV 결과\n",
    "\n",
    "ypred_rf_random = rf_random.predict(xtest)\n",
    "mse_rf_random = mean_squared_error(ytest, ypred_rf_random)\n",
    "R2_score = r2_score(ytest, ypred_rf_random)\n",
    "\n",
    "print(mse_rf_random, np.sqrt(mse_rf_random), R2_score)"
   ]
  },
  {
   "cell_type": "code",
   "execution_count": 33,
   "metadata": {
    "ExecuteTime": {
     "end_time": "2021-12-03T06:43:22.639300Z",
     "start_time": "2021-12-03T06:43:18.527388Z"
    }
   },
   "outputs": [
    {
     "name": "stdout",
     "output_type": "stream",
     "text": [
      "Basic Model\n",
      "Model Performance\n",
      "Average Error: 0.5218 degrees.\n",
      "Accuracy = 96.30%. \n",
      "\n",
      "Random CV Model\n",
      "Model Performance\n",
      "Average Error: 0.4993 degrees.\n",
      "Accuracy = 96.45%. \n",
      "\n",
      "Improvement of 0.16%.\n"
     ]
    }
   ],
   "source": [
    "# Random CV로 정한 모델과 오리지날 모델 정확도 비교\n",
    "\n",
    "print(\"Basic Model\")\n",
    "base_model = randomforest\n",
    "base_model.fit(xtrain, ytrain)\n",
    "base_accuracy = evaluate(base_model, xtest, ytest)\n",
    "\n",
    "print(\"Random CV Model\")\n",
    "best_random = rf_random.best_estimator_\n",
    "random_accuracy = evaluate(best_random, xtest, ytest)\n",
    "\n",
    "print('Improvement of {:0.2f}%.'.format( 100 * (random_accuracy - base_accuracy) / base_accuracy))"
   ]
  },
  {
   "cell_type": "markdown",
   "metadata": {
    "ExecuteTime": {
     "end_time": "2021-12-03T06:43:17.692746Z",
     "start_time": "2021-12-03T06:43:17.682800Z"
    }
   },
   "source": [
    "#### GridSearchCV"
   ]
  },
  {
   "cell_type": "code",
   "execution_count": 29,
   "metadata": {
    "ExecuteTime": {
     "end_time": "2021-12-03T06:38:13.631243Z",
     "start_time": "2021-12-03T06:38:13.620079Z"
    }
   },
   "outputs": [],
   "source": [
    "from sklearn.model_selection import GridSearchCV\n",
    "\n",
    "# Create the parameter grid based on the results of random search \n",
    "\"\"\"\n",
    "'bootstrap': 나온대로\n",
    "'max_depth': 나온것보다 더 큰 것들 몇 개?\n",
    "'max_features': 모르겠음.....\n",
    "'min_samples_leaf': 나온거 주변 값\n",
    "'min_samples_split': 나온거 주변 값\n",
    "'n_estimators': 나온것보다 작은것과 젤 큰거 하나?\n",
    "\"\"\"\n",
    "param_grid = {\n",
    "    'bootstrap': [True],\n",
    "    'max_depth': [None],\n",
    "    'max_features': ['auto'],\n",
    "    'min_samples_leaf': [1, 2, 3],\n",
    "    'min_samples_split': [7, 8, 9, 10, 11],\n",
    "    'n_estimators': [1400, 1500, 1600, 1700, 1800]\n",
    "}\n",
    "\n",
    "# Create a based model\n",
    "rf = RandomForestRegressor()\n",
    "# Instantiate the grid search model\n",
    "grid_search = GridSearchCV(estimator = randomforest,\n",
    "                           param_grid = param_grid,\n",
    "                           cv = 3,\n",
    "                           n_jobs = -1,\n",
    "                           verbose = 2)"
   ]
  },
  {
   "cell_type": "code",
   "execution_count": 30,
   "metadata": {
    "ExecuteTime": {
     "end_time": "2021-12-03T06:43:16.159096Z",
     "start_time": "2021-12-03T06:38:18.442293Z"
    }
   },
   "outputs": [
    {
     "name": "stdout",
     "output_type": "stream",
     "text": [
      "Fitting 3 folds for each of 75 candidates, totalling 225 fits\n"
     ]
    },
    {
     "name": "stderr",
     "output_type": "stream",
     "text": [
      "[Parallel(n_jobs=-1)]: Using backend LokyBackend with 8 concurrent workers.\n",
      "[Parallel(n_jobs=-1)]: Done  25 tasks      | elapsed:   44.7s\n",
      "[Parallel(n_jobs=-1)]: Done 146 tasks      | elapsed:  3.2min\n",
      "[Parallel(n_jobs=-1)]: Done 225 out of 225 | elapsed:  4.8min finished\n"
     ]
    },
    {
     "data": {
      "text/plain": [
       "{'bootstrap': True,\n",
       " 'max_depth': None,\n",
       " 'max_features': 'auto',\n",
       " 'min_samples_leaf': 3,\n",
       " 'min_samples_split': 8,\n",
       " 'n_estimators': 1400}"
      ]
     },
     "execution_count": 30,
     "metadata": {},
     "output_type": "execute_result"
    }
   ],
   "source": [
    "# Fit the GridSearch model\n",
    "\n",
    "grid_search.fit(xtrain, ytrain)\n",
    "grid_search.best_params_"
   ]
  },
  {
   "cell_type": "code",
   "execution_count": 34,
   "metadata": {
    "ExecuteTime": {
     "end_time": "2021-12-03T06:43:37.516465Z",
     "start_time": "2021-12-03T06:43:33.930669Z"
    }
   },
   "outputs": [
    {
     "name": "stdout",
     "output_type": "stream",
     "text": [
      "Model Performance\n",
      "Average Error: 0.5218 degrees.\n",
      "Accuracy = 96.30%. \n",
      "\n",
      "Model Performance\n",
      "Average Error: 0.5003 degrees.\n",
      "Accuracy = 96.45%. \n",
      "\n",
      "Improvement of 0.15%.\n"
     ]
    },
    {
     "data": {
      "text/plain": [
       "'\\n오히려 gridsearch CV 하니까 더 떨어지는데...?\\n파라미터 조절하는 방식?\\n여러 조건으로 돌려보기?\\n'"
      ]
     },
     "execution_count": 34,
     "metadata": {},
     "output_type": "execute_result"
    }
   ],
   "source": [
    "# GridSearch CV로 정한 모델과 오리지날 모델 정확도 비교\n",
    "\n",
    "base_model = randomforest\n",
    "base_model.fit(xtrain, ytrain)\n",
    "base_accuracy = evaluate(base_model, xtest, ytest)\n",
    "\n",
    "best_grid = grid_search.best_estimator_\n",
    "grid_accuracy = evaluate(best_grid, xtest, ytest)\n",
    "\n",
    "print('Improvement of {:0.2f}%.'.format( 100 * (grid_accuracy - base_accuracy) / base_accuracy))\n",
    "\n",
    "\"\"\"\n",
    "오히려 gridsearch CV 하니까 더 떨어지는데...?\n",
    "파라미터 조절하는 방식?\n",
    "여러 조건으로 돌려보기?\n",
    "\"\"\""
   ]
  },
  {
   "cell_type": "code",
   "execution_count": null,
   "metadata": {},
   "outputs": [],
   "source": [
    "# Grid Search Results\n",
    "\n",
    "\"\"\"\n",
    "똑같......\n",
    "\n",
    "- Grid_first\n",
    "Fitting 3 folds for each of 360 candidates, totalling 1080 fits\n",
    "{'bootstrap': True,\n",
    " 'max_depth': 20,\n",
    " 'max_features': 3,\n",
    " 'min_samples_leaf': 1,\n",
    " 'min_samples_split': 8,\n",
    " 'n_estimators': 1000}\n",
    "\n",
    "Model Performance\n",
    "Average Error: 0.5698 degrees.\n",
    "Accuracy = 95.90%.\n",
    "\n",
    "\n",
    "- Grid_second\n",
    "\n",
    "Fitting 3 folds for each of 216 candidates, totalling 648 fits\n",
    "{'bootstrap': True,\n",
    " 'max_depth': 20,\n",
    " 'max_features': 'auto',\n",
    " 'min_samples_leaf': 3,\n",
    " 'min_samples_split': 8,\n",
    " 'n_estimators': 1400}\n",
    "\n",
    "Model Performance\n",
    "Average Error: 0.5003 degrees.\n",
    "Accuracy = 96.45%. \n",
    "\n",
    "Improvement of 0.15%.\n",
    "\n",
    "\n",
    "- Grid_third\n",
    "\n",
    "Fitting 3 folds for each of 120 candidates, totalling 360 fits\n",
    "{'bootstrap': True,\n",
    " 'max_depth': None,\n",
    " 'max_features': 'auto',\n",
    " 'min_samples_leaf': 3,\n",
    " 'min_samples_split': 8,\n",
    " 'n_estimators': 1400}\n",
    "\n",
    "Model Performance\n",
    "Average Error: 0.5003 degrees.\n",
    "Accuracy = 96.45%. \n",
    "\n",
    "\n",
    "- Grid_fourth\n",
    "\n",
    "Fitting 3 folds for each of 75 candidates, totalling 225 fits\n",
    "{'bootstrap': True,\n",
    " 'max_depth': None,\n",
    " 'max_features': 'auto',\n",
    " 'min_samples_leaf': 3,\n",
    " 'min_samples_split': 8,\n",
    " 'n_estimators': 1400}\n",
    "\n",
    "똑같......\n",
    "\n",
    "\"\"\""
   ]
  }
 ],
 "metadata": {
  "hide_input": false,
  "kernelspec": {
   "display_name": "Python 3",
   "language": "python",
   "name": "python3"
  },
  "language_info": {
   "codemirror_mode": {
    "name": "ipython",
    "version": 3
   },
   "file_extension": ".py",
   "mimetype": "text/x-python",
   "name": "python",
   "nbconvert_exporter": "python",
   "pygments_lexer": "ipython3",
   "version": "3.8.3"
  },
  "toc": {
   "base_numbering": 1,
   "nav_menu": {},
   "number_sections": true,
   "sideBar": true,
   "skip_h1_title": false,
   "title_cell": "Table of Contents",
   "title_sidebar": "Contents",
   "toc_cell": false,
   "toc_position": {
    "height": "calc(100% - 180px)",
    "left": "10px",
    "top": "150px",
    "width": "165px"
   },
   "toc_section_display": true,
   "toc_window_display": true
  },
  "varInspector": {
   "cols": {
    "lenName": 16,
    "lenType": 16,
    "lenVar": 40
   },
   "kernels_config": {
    "python": {
     "delete_cmd_postfix": "",
     "delete_cmd_prefix": "del ",
     "library": "var_list.py",
     "varRefreshCmd": "print(var_dic_list())"
    },
    "r": {
     "delete_cmd_postfix": ") ",
     "delete_cmd_prefix": "rm(",
     "library": "var_list.r",
     "varRefreshCmd": "cat(var_dic_list()) "
    }
   },
   "types_to_exclude": [
    "module",
    "function",
    "builtin_function_or_method",
    "instance",
    "_Feature"
   ],
   "window_display": false
  }
 },
 "nbformat": 4,
 "nbformat_minor": 4
}
